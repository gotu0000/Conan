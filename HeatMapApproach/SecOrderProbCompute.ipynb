{
 "cells": [
  {
   "cell_type": "code",
   "execution_count": 1,
   "metadata": {},
   "outputs": [],
   "source": [
    "%load_ext autoreload\n",
    "%autoreload 2"
   ]
  },
  {
   "cell_type": "code",
   "execution_count": 2,
   "metadata": {},
   "outputs": [],
   "source": [
    "%matplotlib inline\n",
    "import sys\n",
    "import os\n",
    "import numpy as np\n",
    "import pandas as pd\n",
    "\n",
    "import matplotlib.pyplot as plt\n",
    "import matplotlib.animation as animation\n",
    "from mpl_toolkits.basemap import Basemap\n",
    "from matplotlib.patches import Circle\n",
    "import seaborn as sns; \n",
    "from IPython.display import HTML\n",
    "\n",
    "from sklearn.model_selection import train_test_split\n",
    "from sklearn.model_selection import GridSearchCV\n",
    "from sklearn import preprocessing\n",
    "from sklearn import svm\n",
    "from sklearn.metrics import r2_score"
   ]
  },
  {
   "cell_type": "code",
   "execution_count": 3,
   "metadata": {},
   "outputs": [],
   "source": [
    "#config parser\n",
    "import configparser\n",
    "\n",
    "sys.path.insert(0, '../Common/')\n",
    "from AISDataManager import AISDataManager\n",
    "import Constants as c\n",
    "import HMUtils as hMUtil\n",
    "import TimeUtils as timeUtils\n",
    "\n",
    "#MyConfig.INI stores all the run time constants\n",
    "config = configparser.ConfigParser()\n",
    "config.read('../MyConfig.INI')\n",
    "\n",
    "from joblib import Parallel, delayed\n",
    "import multiprocessing\n",
    "aISDM = AISDataManager()\n",
    "numCores = multiprocessing.cpu_count()"
   ]
  },
  {
   "cell_type": "code",
   "execution_count": 4,
   "metadata": {},
   "outputs": [
    {
     "name": "stdout",
     "output_type": "stream",
     "text": [
      "-120.5 33.9\n",
      "-119.0 34.38\n",
      "SOURCE_DIR = ../Data/M120_50_M119_00_33_90_34_38/HalfHourlyLE/\n",
      "DEST_DIR = ../Data/M120_50_M119_00_33_90_34_38/SparseTP/\n"
     ]
    }
   ],
   "source": [
    "lonMin = (float)(config['TP_SEC_ORDER']['LON_MIN'])\n",
    "lonMax = (float)(config['TP_SEC_ORDER']['LON_MAX'])\n",
    "\n",
    "latMin = (float)(config['TP_SEC_ORDER']['LAT_MIN'])\n",
    "latMax = (float)(config['TP_SEC_ORDER']['LAT_MAX'])\n",
    "\n",
    "print(lonMin,latMin)\n",
    "print(lonMax,latMax)\n",
    "\n",
    "increStep = (float)(config['TP_SEC_ORDER']['INCR_STEP'])\n",
    "incrRes = (int)(config['TP_SEC_ORDER']['INCR_RES'])\n",
    "\n",
    "fileDir = config['TP_SEC_ORDER']['SOURCE_DIR']\n",
    "dirToStore = config['TP_SEC_ORDER']['DEST_DIR']\n",
    "\n",
    "timeStart = (int)(config['TP_SEC_ORDER']['TIME_START'])\n",
    "timeEnd = (int)(config['TP_SEC_ORDER']['TIME_END'])\n",
    "\n",
    "print(\"SOURCE_DIR = %s\"%fileDir)\n",
    "print(\"DEST_DIR = %s\"%dirToStore)"
   ]
  },
  {
   "cell_type": "code",
   "execution_count": 5,
   "metadata": {},
   "outputs": [],
   "source": [
    "heatMapGrid = hMUtil.generate_grid(lonMin, lonMax, latMin, latMax, increStep, incrRes)"
   ]
  },
  {
   "cell_type": "code",
   "execution_count": 6,
   "metadata": {},
   "outputs": [],
   "source": [
    "boundaryArray = heatMapGrid[2]\n",
    "horizontalAxis = heatMapGrid[0]\n",
    "verticalAxis = heatMapGrid[1]\n",
    "totalStates = horizontalAxis.shape[0] * verticalAxis.shape[0]"
   ]
  },
  {
   "cell_type": "code",
   "execution_count": 7,
   "metadata": {},
   "outputs": [],
   "source": [
    "#1 to load existing data\n",
    "neighTPCount = []\n",
    "#for total states \n",
    "for i in range(totalStates):\n",
    "    neighTPCount.append(np.zeros((totalStates * totalStates)))"
   ]
  },
  {
   "cell_type": "code",
   "execution_count": 8,
   "metadata": {},
   "outputs": [],
   "source": [
    "#get index from lon and lat position\n",
    "#needs boundary array to get the index\n",
    "def get_index_from_lon_lat(lon,lat):\n",
    "    retVal = -1\n",
    "    for boundary in boundaryArray: \n",
    "        if(lon >= boundary[0]) and (lon < boundary[1]) \\\n",
    "            and (lat >= boundary[2]) and (lat < boundary[3]):\n",
    "            retVal = boundary[4]\n",
    "            break \n",
    "    return retVal\n",
    "\n",
    "def clear_tm_matrix():\n",
    "    for i in range(totalStates):\n",
    "        neighTPCount[i].fill(0)\n",
    "        \n",
    "def compute_transition_prob(firstNum):\n",
    "    fileName1 = fileDir + str(firstNum) + '.csv'\n",
    "    fileName2 = fileDir + str(firstNum+1) + '.csv'\n",
    "    fileName3 = fileDir + str(firstNum+2) + '.csv'\n",
    "\n",
    "    #transition probability for previous hour\n",
    "    firstDF,_ = aISDM.load_data_from_csv(fileName1)\n",
    "    #transition probability for current hour\n",
    "    secondDF,_ = aISDM.load_data_from_csv(fileName2)\n",
    "    #transition probability for next hour\n",
    "    thirdDF,_ = aISDM.load_data_from_csv(fileName3)\n",
    "    \n",
    "    #vessels in previous hour\n",
    "    prevVessels = aISDM.get_list_of_unique_mmsi(firstDF)\n",
    "    #vessels in current hour\n",
    "    currVessels = aISDM.get_list_of_unique_mmsi(secondDF)\n",
    "    #vessels in next hour\n",
    "    nextVessels = aISDM.get_list_of_unique_mmsi(thirdDF)\n",
    "    \n",
    "    #index based on MMSI\n",
    "    #useful for indexing\n",
    "    firstDF = firstDF.set_index('MMSI')\n",
    "    secondDF = secondDF.set_index('MMSI')\n",
    "    thirdDF = thirdDF.set_index('MMSI')\n",
    "    \n",
    "    #compute vessels of interest\n",
    "    #this are vessels which are of interest\n",
    "    vesselsOfInterest = list(set(prevVessels) & set(currVessels) & set(nextVessels))\n",
    "    #iterate through every vessel\n",
    "    #get the first LON and LAT coordinate for the first vessel\n",
    "    for vessel in vesselsOfInterest:\n",
    "        #get the LON and LAT value of the vessel\n",
    "        #get the location where vessel was previously and is currently\n",
    "        #now we have the location\n",
    "        vesselPrevIndex = get_index_from_lon_lat(firstDF.loc[vessel,'LON'],firstDF.loc[vessel,'LAT'])\n",
    "        if(vesselPrevIndex == -1):\n",
    "            print(\"Something is wrong\")\n",
    "            break\n",
    "        vesselCurrIndex = get_index_from_lon_lat(secondDF.loc[vessel,'LON'],secondDF.loc[vessel,'LAT'])\n",
    "        #now lets findout where this vessel is\n",
    "        vesselNextIndex = get_index_from_lon_lat(thirdDF.loc[vessel,'LON'],thirdDF.loc[vessel,'LAT'])\n",
    "        vesselPrevCurrIndex = (vesselPrevIndex * totalStates) + vesselCurrIndex\n",
    "        neighTPCount[vesselNextIndex][vesselPrevCurrIndex] = neighTPCount[vesselNextIndex][vesselPrevCurrIndex] + 1"
   ]
  },
  {
   "cell_type": "code",
   "execution_count": null,
   "metadata": {},
   "outputs": [],
   "source": [
    "clear_tm_matrix()\n",
    "for fileCounter in range(timeStart,timeEnd):\n",
    "    try:\n",
    "        compute_transition_prob(fileCounter)\n",
    "        print(\"Done Computing %d\"%(fileCounter))\n",
    "    except KeyboardInterrupt:\n",
    "        break"
   ]
  },
  {
   "cell_type": "code",
   "execution_count": 12,
   "metadata": {},
   "outputs": [],
   "source": [
    "#store everything in destination directory\n",
    "for neighb in range(totalStates):\n",
    "    opFile = dirToStore + str(neighb)+'.npy'\n",
    "    np.save(opFile, neighTPCount[neighb])\n",
    "    \n",
    "#also compute sum of probabilities\n",
    "sumCount = np.zeros(totalStates*totalStates)\n",
    "for i in range(totalStates):\n",
    "    sumCount = sumCount + neighTPCount[i]\n",
    "\n",
    "opFile = dirToStore + \"SumCount\"+'.npy'\n",
    "np.save(opFile, sumCount)"
   ]
  }
 ],
 "metadata": {
  "kernelspec": {
   "display_name": "Python 3",
   "language": "python",
   "name": "python3"
  },
  "language_info": {
   "codemirror_mode": {
    "name": "ipython",
    "version": 3
   },
   "file_extension": ".py",
   "mimetype": "text/x-python",
   "name": "python",
   "nbconvert_exporter": "python",
   "pygments_lexer": "ipython3",
   "version": "3.7.3"
  }
 },
 "nbformat": 4,
 "nbformat_minor": 2
}
