{
 "cells": [
  {
   "cell_type": "code",
   "execution_count": 1,
   "metadata": {},
   "outputs": [],
   "source": [
    "%load_ext autoreload\n",
    "%autoreload 2"
   ]
  },
  {
   "cell_type": "code",
   "execution_count": 2,
   "metadata": {},
   "outputs": [],
   "source": [
    "%matplotlib inline\n",
    "import sys\n",
    "import os\n",
    "import numpy as np\n",
    "import pandas as pd\n",
    "\n",
    "import matplotlib.pyplot as plt\n",
    "import matplotlib.animation as animation\n",
    "from mpl_toolkits.basemap import Basemap\n",
    "from matplotlib.patches import Circle\n",
    "import seaborn as sns; \n",
    "from IPython.display import HTML"
   ]
  },
  {
   "cell_type": "code",
   "execution_count": 3,
   "metadata": {},
   "outputs": [],
   "source": [
    "#config parser\n",
    "import configparser\n",
    "\n",
    "sys.path.insert(0, '../Common/')\n",
    "from AISDataManager import AISDataManager\n",
    "import Constants as c\n",
    "import HMUtils as hMUtil\n",
    "import TimeUtils as timeUtils\n",
    "\n",
    "#MyConfig.INI stores all the run time constants\n",
    "config = configparser.ConfigParser()\n",
    "config.read('../MyConfig.INI')\n",
    "\n",
    "from joblib import Parallel, delayed\n",
    "import multiprocessing\n",
    "aISDM = AISDataManager()"
   ]
  },
  {
   "cell_type": "code",
   "execution_count": 4,
   "metadata": {},
   "outputs": [
    {
     "name": "stdout",
     "output_type": "stream",
     "text": [
      "-120.0 31.0\n",
      "-117.0 34.5\n"
     ]
    }
   ],
   "source": [
    "lonMin = (float)(config['REGEION']['LON_MIN'])\n",
    "lonMax = (float)(config['REGEION']['LON_MAX'])\n",
    "\n",
    "latMin = (float)(config['REGEION']['LAT_MIN'])\n",
    "latMax = (float)(config['REGEION']['LAT_MAX'])\n",
    "\n",
    "print(lonMin,latMin)\n",
    "print(lonMax,latMax)\n",
    "\n",
    "increStep = (float)(config['HOURLY_HEATMAP']['INCR_STEP'])\n",
    "incrRes = (int)(config['HOURLY_HEATMAP']['INCR_RES'])"
   ]
  },
  {
   "cell_type": "code",
   "execution_count": 5,
   "metadata": {},
   "outputs": [],
   "source": [
    "xGrid = np.arange(lonMin,lonMax,increStep)\n",
    "xGrid = np.around(xGrid,incrRes)\n",
    "yGrid = np.arange(latMin,latMax,increStep)\n",
    "yGrid = np.around(yGrid,incrRes)"
   ]
  },
  {
   "cell_type": "code",
   "execution_count": 6,
   "metadata": {},
   "outputs": [],
   "source": [
    "heatMapDirectory = \"../Data/AIS_0117_1217_31_M120_345_M117/HourlyHM/\"\n",
    "\n",
    "heatMapData = []\n",
    "for i in range(0,2160):\n",
    "    heatMapFile = heatMapDirectory + str(i) + '.npy'\n",
    "    heatMapVal = np.load(heatMapFile)\n",
    "    heatMapData.append(heatMapVal)"
   ]
  },
  {
   "cell_type": "code",
   "execution_count": 8,
   "metadata": {},
   "outputs": [
    {
     "name": "stdout",
     "output_type": "stream",
     "text": [
      "[447, 507, 686, 706, 742, 743, 767, 768, 796, 797, 798, 855, 856, 994]\n"
     ]
    }
   ],
   "source": [
    "nonZeroBlocks = [447, 507, 686, 706, 742, 743, 767, 768, 796, 797, 798, 855, 856, 994]\n",
    "print(nonZeroBlocks)"
   ]
  },
  {
   "cell_type": "code",
   "execution_count": 9,
   "metadata": {},
   "outputs": [],
   "source": [
    "def generate_region_data(index, bW):\n",
    "    #histogram data\n",
    "    histData = []\n",
    "    histLabel = []\n",
    "\n",
    "    #get the row and column of the desired grid\n",
    "    indexRow, indexCol = hMUtil.get_row_col(index, yGrid.shape[0], xGrid.shape[0])\n",
    "    \n",
    "    width = xGrid.shape[0]\n",
    "    height = yGrid.shape[0]\n",
    "    \n",
    "    #now iterate through heatmap files\n",
    "    for hM in heatMapData:\n",
    "        #copy the data file\n",
    "        tempNP = hM.copy()\n",
    "        \n",
    "        #reshape it in 2D fashion\n",
    "        #so that we can levarege the window\n",
    "        tempNP = np.reshape(tempNP,(yGrid.shape[0],xGrid.shape[0]))\n",
    "        \n",
    "        #now slice the array \n",
    "        #here it has to be window\n",
    "        #the regeion we are interested\n",
    "        #and some cells which are near to this regeion\n",
    "        leftRow = indexRow-bW\n",
    "        if(leftRow < 0):\n",
    "            leftRow = 0\n",
    "            \n",
    "        rightRow = indexRow+bW+1\n",
    "        if(rightRow > height): \n",
    "            rightRow = height\n",
    "            \n",
    "        leftCol = (indexCol-bW)\n",
    "        if(leftCol < 0):\n",
    "            leftCol = 0\n",
    "            \n",
    "        rightCol = (indexCol+bW+1)\n",
    "        if(rightCol > width): \n",
    "            rightCol = width\n",
    "        \n",
    "            \n",
    "        histNPX = tempNP[(leftRow):(rightRow),leftCol:rightCol].copy()\n",
    "\n",
    "        #now append this into the list\n",
    "        histData.append(histNPX.flatten())\n",
    "\n",
    "        #after that we have our own regeion\n",
    "        histNPY = tempNP[indexRow,indexCol].copy()\n",
    "        \n",
    "        #we need to add things up for label\n",
    "        histY = np.sum(histNPY)\n",
    "        #append that into label\n",
    "        histLabel.append(histY)\n",
    "        \n",
    "    histLabelNP = np.asarray(histLabel)\n",
    "    return np.asarray(histData),histLabelNP\n",
    "\n",
    "#will make a data set for time series forcast\n",
    "#will consider how many previous data we want to consider\n",
    "#will also take the feature matrix \n",
    "#and output feature\n",
    "#will return matrix of reduced dimension\n",
    "#which can be used as a feature factor\n",
    "def make_time_series_data(matX,matY,pastFeatures,futureFeature = 0):\n",
    "    #first make data set for time series regression\n",
    "    #so based on past features to consider\n",
    "    #we will have data set limited by that number\n",
    "    noRowsX = matX.shape[0] - pastFeatures - futureFeature\n",
    "\n",
    "    #initialise m*n dimensional array for X(where n is number of past features)\n",
    "    #where m is total number data points for the training and testing\n",
    "    #m will be noRowsX\n",
    "    retXMat = np.zeros(shape=(noRowsX,(pastFeatures*matX.shape[1])))\n",
    "        \n",
    "    #initialise noRowsX*column dimensional array for Y\n",
    "    retYMat = np.zeros(shape=(noRowsX))\n",
    "    \n",
    "                       \n",
    "    for i in range(0,noRowsX):\n",
    "        #numpy array with zero element\n",
    "        temp = np.zeros(0)\n",
    "        \n",
    "        for j in range(i,i+pastFeatures):\n",
    "            temp = np.append(temp,matX[j])\n",
    "        retXMat[i] = temp\n",
    "        retYMat[i] = matY[i+pastFeatures+futureFeature]\n",
    "    return retXMat,retYMat,noRowsX"
   ]
  },
  {
   "cell_type": "code",
   "execution_count": 14,
   "metadata": {},
   "outputs": [],
   "source": [
    "trainScoreMat = np.zeros((7,8))\n",
    "testScoreMat = np.zeros((7,8))"
   ]
  },
  {
   "cell_type": "code",
   "execution_count": 18,
   "metadata": {},
   "outputs": [
    {
     "name": "stdout",
     "output_type": "stream",
     "text": [
      "22 26\n",
      "(2159, 1)\n",
      "(2159, 10)\n"
     ]
    },
    {
     "name": "stderr",
     "output_type": "stream",
     "text": [
      "/home/jcharla/anaconda3/envs/jagir_ship_env/lib/python3.7/site-packages/sklearn/model_selection/_split.py:1978: FutureWarning: The default value of cv will change from 3 to 5 in version 0.22. Specify it explicitly to silence this warning.\n",
      "  warnings.warn(CV_WARNING, FutureWarning)\n",
      "/home/jcharla/anaconda3/envs/jagir_ship_env/lib/python3.7/site-packages/sklearn/model_selection/_search.py:813: DeprecationWarning: The default of the `iid` parameter will change from True to False in version 0.22 and will be removed in 0.24. This will change numeric results when test-set sizes are unequal.\n",
      "  DeprecationWarning)\n",
      "/home/jcharla/anaconda3/envs/jagir_ship_env/lib/python3.7/site-packages/sklearn/model_selection/_split.py:1978: FutureWarning: The default value of cv will change from 3 to 5 in version 0.22. Specify it explicitly to silence this warning.\n",
      "  warnings.warn(CV_WARNING, FutureWarning)\n"
     ]
    },
    {
     "name": "stdout",
     "output_type": "stream",
     "text": [
      "0.7455458187313035\n",
      "0.5687040004710411\n",
      "22 26\n",
      "(2158, 1)\n",
      "(2158, 19)\n"
     ]
    },
    {
     "name": "stderr",
     "output_type": "stream",
     "text": [
      "/home/jcharla/anaconda3/envs/jagir_ship_env/lib/python3.7/site-packages/sklearn/model_selection/_search.py:813: DeprecationWarning: The default of the `iid` parameter will change from True to False in version 0.22 and will be removed in 0.24. This will change numeric results when test-set sizes are unequal.\n",
      "  DeprecationWarning)\n",
      "/home/jcharla/anaconda3/envs/jagir_ship_env/lib/python3.7/site-packages/sklearn/model_selection/_split.py:1978: FutureWarning: The default value of cv will change from 3 to 5 in version 0.22. Specify it explicitly to silence this warning.\n",
      "  warnings.warn(CV_WARNING, FutureWarning)\n"
     ]
    },
    {
     "name": "stdout",
     "output_type": "stream",
     "text": [
      "0.760358488489278\n",
      "0.5469851810699224\n",
      "22 26\n",
      "(2157, 1)\n",
      "(2157, 28)\n",
      "0.7744510002186449\n",
      "0.5526056940623607\n",
      "22 26\n",
      "(2156, 1)\n",
      "(2156, 37)\n"
     ]
    },
    {
     "name": "stderr",
     "output_type": "stream",
     "text": [
      "/home/jcharla/anaconda3/envs/jagir_ship_env/lib/python3.7/site-packages/sklearn/model_selection/_split.py:1978: FutureWarning: The default value of cv will change from 3 to 5 in version 0.22. Specify it explicitly to silence this warning.\n",
      "  warnings.warn(CV_WARNING, FutureWarning)\n",
      "/home/jcharla/anaconda3/envs/jagir_ship_env/lib/python3.7/site-packages/sklearn/model_selection/_search.py:813: DeprecationWarning: The default of the `iid` parameter will change from True to False in version 0.22 and will be removed in 0.24. This will change numeric results when test-set sizes are unequal.\n",
      "  DeprecationWarning)\n"
     ]
    },
    {
     "name": "stdout",
     "output_type": "stream",
     "text": [
      "0.7790372440385384\n",
      "0.5667038664600411\n",
      "22 26\n",
      "(2155, 1)\n",
      "(2155, 46)\n"
     ]
    },
    {
     "name": "stderr",
     "output_type": "stream",
     "text": [
      "/home/jcharla/anaconda3/envs/jagir_ship_env/lib/python3.7/site-packages/sklearn/model_selection/_split.py:1978: FutureWarning: The default value of cv will change from 3 to 5 in version 0.22. Specify it explicitly to silence this warning.\n",
      "  warnings.warn(CV_WARNING, FutureWarning)\n",
      "/home/jcharla/anaconda3/envs/jagir_ship_env/lib/python3.7/site-packages/sklearn/model_selection/_search.py:813: DeprecationWarning: The default of the `iid` parameter will change from True to False in version 0.22 and will be removed in 0.24. This will change numeric results when test-set sizes are unequal.\n",
      "  DeprecationWarning)\n"
     ]
    },
    {
     "name": "stdout",
     "output_type": "stream",
     "text": [
      "0.7893021629598433\n",
      "0.5777518059748687\n",
      "22 26\n",
      "(2154, 1)\n",
      "(2154, 55)\n"
     ]
    },
    {
     "name": "stderr",
     "output_type": "stream",
     "text": [
      "/home/jcharla/anaconda3/envs/jagir_ship_env/lib/python3.7/site-packages/sklearn/model_selection/_split.py:1978: FutureWarning: The default value of cv will change from 3 to 5 in version 0.22. Specify it explicitly to silence this warning.\n",
      "  warnings.warn(CV_WARNING, FutureWarning)\n",
      "/home/jcharla/anaconda3/envs/jagir_ship_env/lib/python3.7/site-packages/sklearn/model_selection/_search.py:813: DeprecationWarning: The default of the `iid` parameter will change from True to False in version 0.22 and will be removed in 0.24. This will change numeric results when test-set sizes are unequal.\n",
      "  DeprecationWarning)\n"
     ]
    },
    {
     "name": "stdout",
     "output_type": "stream",
     "text": [
      "0.7969983103348056\n",
      "0.590457211961399\n",
      "22 26\n",
      "(2153, 1)\n",
      "(2153, 64)\n"
     ]
    },
    {
     "name": "stderr",
     "output_type": "stream",
     "text": [
      "/home/jcharla/anaconda3/envs/jagir_ship_env/lib/python3.7/site-packages/sklearn/model_selection/_split.py:1978: FutureWarning: The default value of cv will change from 3 to 5 in version 0.22. Specify it explicitly to silence this warning.\n",
      "  warnings.warn(CV_WARNING, FutureWarning)\n"
     ]
    },
    {
     "name": "stdout",
     "output_type": "stream",
     "text": [
      "0.8010838201494584\n",
      "0.588555775754062\n",
      "22 26\n",
      "(2152, 1)\n",
      "(2152, 73)\n"
     ]
    },
    {
     "name": "stderr",
     "output_type": "stream",
     "text": [
      "/home/jcharla/anaconda3/envs/jagir_ship_env/lib/python3.7/site-packages/sklearn/model_selection/_split.py:1978: FutureWarning: The default value of cv will change from 3 to 5 in version 0.22. Specify it explicitly to silence this warning.\n",
      "  warnings.warn(CV_WARNING, FutureWarning)\n",
      "/home/jcharla/anaconda3/envs/jagir_ship_env/lib/python3.7/site-packages/sklearn/model_selection/_search.py:813: DeprecationWarning: The default of the `iid` parameter will change from True to False in version 0.22 and will be removed in 0.24. This will change numeric results when test-set sizes are unequal.\n",
      "  DeprecationWarning)\n"
     ]
    },
    {
     "name": "stdout",
     "output_type": "stream",
     "text": [
      "0.8030983029379359\n",
      "0.5847415927783628\n",
      "22 26\n",
      "(2159, 1)\n",
      "(2159, 26)\n"
     ]
    },
    {
     "name": "stderr",
     "output_type": "stream",
     "text": [
      "/home/jcharla/anaconda3/envs/jagir_ship_env/lib/python3.7/site-packages/sklearn/model_selection/_split.py:1978: FutureWarning: The default value of cv will change from 3 to 5 in version 0.22. Specify it explicitly to silence this warning.\n",
      "  warnings.warn(CV_WARNING, FutureWarning)\n",
      "/home/jcharla/anaconda3/envs/jagir_ship_env/lib/python3.7/site-packages/sklearn/model_selection/_search.py:813: DeprecationWarning: The default of the `iid` parameter will change from True to False in version 0.22 and will be removed in 0.24. This will change numeric results when test-set sizes are unequal.\n",
      "  DeprecationWarning)\n",
      "/home/jcharla/anaconda3/envs/jagir_ship_env/lib/python3.7/site-packages/sklearn/model_selection/_split.py:1978: FutureWarning: The default value of cv will change from 3 to 5 in version 0.22. Specify it explicitly to silence this warning.\n",
      "  warnings.warn(CV_WARNING, FutureWarning)\n"
     ]
    },
    {
     "name": "stdout",
     "output_type": "stream",
     "text": [
      "0.7292577621965954\n",
      "0.5155216687545893\n",
      "22 26\n",
      "(2158, 1)\n",
      "(2158, 51)\n"
     ]
    },
    {
     "name": "stderr",
     "output_type": "stream",
     "text": [
      "/home/jcharla/anaconda3/envs/jagir_ship_env/lib/python3.7/site-packages/sklearn/model_selection/_search.py:813: DeprecationWarning: The default of the `iid` parameter will change from True to False in version 0.22 and will be removed in 0.24. This will change numeric results when test-set sizes are unequal.\n",
      "  DeprecationWarning)\n"
     ]
    },
    {
     "name": "stdout",
     "output_type": "stream",
     "text": [
      "0.7761292030278281\n",
      "0.5618088063820935\n",
      "22 26\n",
      "(2157, 1)\n",
      "(2157, 76)\n"
     ]
    },
    {
     "name": "stderr",
     "output_type": "stream",
     "text": [
      "/home/jcharla/anaconda3/envs/jagir_ship_env/lib/python3.7/site-packages/sklearn/model_selection/_split.py:1978: FutureWarning: The default value of cv will change from 3 to 5 in version 0.22. Specify it explicitly to silence this warning.\n",
      "  warnings.warn(CV_WARNING, FutureWarning)\n"
     ]
    },
    {
     "name": "stdout",
     "output_type": "stream",
     "text": [
      "0.8003641998940665\n",
      "0.5698402419910668\n",
      "22 26\n",
      "(2156, 1)\n",
      "(2156, 101)\n"
     ]
    },
    {
     "name": "stderr",
     "output_type": "stream",
     "text": [
      "/home/jcharla/anaconda3/envs/jagir_ship_env/lib/python3.7/site-packages/sklearn/model_selection/_split.py:1978: FutureWarning: The default value of cv will change from 3 to 5 in version 0.22. Specify it explicitly to silence this warning.\n",
      "  warnings.warn(CV_WARNING, FutureWarning)\n",
      "/home/jcharla/anaconda3/envs/jagir_ship_env/lib/python3.7/site-packages/sklearn/model_selection/_search.py:813: DeprecationWarning: The default of the `iid` parameter will change from True to False in version 0.22 and will be removed in 0.24. This will change numeric results when test-set sizes are unequal.\n",
      "  DeprecationWarning)\n"
     ]
    },
    {
     "name": "stdout",
     "output_type": "stream",
     "text": [
      "0.8167754316815343\n",
      "0.589366273962324\n",
      "22 26\n",
      "(2155, 1)\n",
      "(2155, 126)\n"
     ]
    },
    {
     "name": "stderr",
     "output_type": "stream",
     "text": [
      "/home/jcharla/anaconda3/envs/jagir_ship_env/lib/python3.7/site-packages/sklearn/model_selection/_split.py:1978: FutureWarning: The default value of cv will change from 3 to 5 in version 0.22. Specify it explicitly to silence this warning.\n",
      "  warnings.warn(CV_WARNING, FutureWarning)\n",
      "/home/jcharla/anaconda3/envs/jagir_ship_env/lib/python3.7/site-packages/sklearn/model_selection/_search.py:813: DeprecationWarning: The default of the `iid` parameter will change from True to False in version 0.22 and will be removed in 0.24. This will change numeric results when test-set sizes are unequal.\n",
      "  DeprecationWarning)\n"
     ]
    },
    {
     "name": "stdout",
     "output_type": "stream",
     "text": [
      "0.8320146408688812\n",
      "0.589938055386286\n",
      "22 26\n",
      "(2154, 1)\n",
      "(2154, 151)\n"
     ]
    },
    {
     "name": "stderr",
     "output_type": "stream",
     "text": [
      "/home/jcharla/anaconda3/envs/jagir_ship_env/lib/python3.7/site-packages/sklearn/model_selection/_split.py:1978: FutureWarning: The default value of cv will change from 3 to 5 in version 0.22. Specify it explicitly to silence this warning.\n",
      "  warnings.warn(CV_WARNING, FutureWarning)\n",
      "/home/jcharla/anaconda3/envs/jagir_ship_env/lib/python3.7/site-packages/sklearn/model_selection/_search.py:813: DeprecationWarning: The default of the `iid` parameter will change from True to False in version 0.22 and will be removed in 0.24. This will change numeric results when test-set sizes are unequal.\n",
      "  DeprecationWarning)\n"
     ]
    },
    {
     "name": "stdout",
     "output_type": "stream",
     "text": [
      "0.8452597850977176\n",
      "0.5828339033293967\n",
      "22 26\n",
      "(2153, 1)\n",
      "(2153, 176)\n"
     ]
    },
    {
     "name": "stderr",
     "output_type": "stream",
     "text": [
      "/home/jcharla/anaconda3/envs/jagir_ship_env/lib/python3.7/site-packages/sklearn/model_selection/_split.py:1978: FutureWarning: The default value of cv will change from 3 to 5 in version 0.22. Specify it explicitly to silence this warning.\n",
      "  warnings.warn(CV_WARNING, FutureWarning)\n"
     ]
    },
    {
     "name": "stdout",
     "output_type": "stream",
     "text": [
      "0.8381862071454855\n",
      "0.5756397715519662\n",
      "22 26\n",
      "(2152, 1)\n",
      "(2152, 201)\n"
     ]
    },
    {
     "name": "stderr",
     "output_type": "stream",
     "text": [
      "/home/jcharla/anaconda3/envs/jagir_ship_env/lib/python3.7/site-packages/sklearn/model_selection/_split.py:1978: FutureWarning: The default value of cv will change from 3 to 5 in version 0.22. Specify it explicitly to silence this warning.\n",
      "  warnings.warn(CV_WARNING, FutureWarning)\n",
      "/home/jcharla/anaconda3/envs/jagir_ship_env/lib/python3.7/site-packages/sklearn/model_selection/_search.py:813: DeprecationWarning: The default of the `iid` parameter will change from True to False in version 0.22 and will be removed in 0.24. This will change numeric results when test-set sizes are unequal.\n",
      "  DeprecationWarning)\n"
     ]
    },
    {
     "name": "stdout",
     "output_type": "stream",
     "text": [
      "0.8427387762707781\n",
      "0.5777003078834626\n",
      "22 26\n",
      "(2159, 1)\n",
      "(2159, 50)\n"
     ]
    },
    {
     "name": "stderr",
     "output_type": "stream",
     "text": [
      "/home/jcharla/anaconda3/envs/jagir_ship_env/lib/python3.7/site-packages/sklearn/model_selection/_split.py:1978: FutureWarning: The default value of cv will change from 3 to 5 in version 0.22. Specify it explicitly to silence this warning.\n",
      "  warnings.warn(CV_WARNING, FutureWarning)\n",
      "/home/jcharla/anaconda3/envs/jagir_ship_env/lib/python3.7/site-packages/sklearn/model_selection/_search.py:813: DeprecationWarning: The default of the `iid` parameter will change from True to False in version 0.22 and will be removed in 0.24. This will change numeric results when test-set sizes are unequal.\n",
      "  DeprecationWarning)\n"
     ]
    },
    {
     "name": "stdout",
     "output_type": "stream",
     "text": [
      "0.7439745156264157\n",
      "0.4812519792914829\n",
      "22 26\n",
      "(2158, 1)\n",
      "(2158, 99)\n"
     ]
    },
    {
     "name": "stderr",
     "output_type": "stream",
     "text": [
      "/home/jcharla/anaconda3/envs/jagir_ship_env/lib/python3.7/site-packages/sklearn/model_selection/_split.py:1978: FutureWarning: The default value of cv will change from 3 to 5 in version 0.22. Specify it explicitly to silence this warning.\n",
      "  warnings.warn(CV_WARNING, FutureWarning)\n",
      "/home/jcharla/anaconda3/envs/jagir_ship_env/lib/python3.7/site-packages/sklearn/model_selection/_search.py:813: DeprecationWarning: The default of the `iid` parameter will change from True to False in version 0.22 and will be removed in 0.24. This will change numeric results when test-set sizes are unequal.\n",
      "  DeprecationWarning)\n"
     ]
    },
    {
     "name": "stdout",
     "output_type": "stream",
     "text": [
      "0.7558395929444577\n",
      "0.4824476196074531\n",
      "22 26\n",
      "(2157, 1)\n",
      "(2157, 148)\n"
     ]
    },
    {
     "name": "stderr",
     "output_type": "stream",
     "text": [
      "/home/jcharla/anaconda3/envs/jagir_ship_env/lib/python3.7/site-packages/sklearn/model_selection/_split.py:1978: FutureWarning: The default value of cv will change from 3 to 5 in version 0.22. Specify it explicitly to silence this warning.\n",
      "  warnings.warn(CV_WARNING, FutureWarning)\n"
     ]
    },
    {
     "name": "stdout",
     "output_type": "stream",
     "text": [
      "0.8388048468622612\n",
      "0.5468630596068861\n",
      "22 26\n",
      "(2156, 1)\n",
      "(2156, 197)\n"
     ]
    },
    {
     "name": "stderr",
     "output_type": "stream",
     "text": [
      "/home/jcharla/anaconda3/envs/jagir_ship_env/lib/python3.7/site-packages/sklearn/model_selection/_split.py:1978: FutureWarning: The default value of cv will change from 3 to 5 in version 0.22. Specify it explicitly to silence this warning.\n",
      "  warnings.warn(CV_WARNING, FutureWarning)\n",
      "/home/jcharla/anaconda3/envs/jagir_ship_env/lib/python3.7/site-packages/sklearn/model_selection/_search.py:813: DeprecationWarning: The default of the `iid` parameter will change from True to False in version 0.22 and will be removed in 0.24. This will change numeric results when test-set sizes are unequal.\n",
      "  DeprecationWarning)\n"
     ]
    },
    {
     "name": "stdout",
     "output_type": "stream",
     "text": [
      "0.8436434551095701\n",
      "0.5352750295713538\n",
      "22 26\n",
      "(2155, 1)\n",
      "(2155, 246)\n"
     ]
    },
    {
     "name": "stderr",
     "output_type": "stream",
     "text": [
      "/home/jcharla/anaconda3/envs/jagir_ship_env/lib/python3.7/site-packages/sklearn/model_selection/_split.py:1978: FutureWarning: The default value of cv will change from 3 to 5 in version 0.22. Specify it explicitly to silence this warning.\n",
      "  warnings.warn(CV_WARNING, FutureWarning)\n",
      "/home/jcharla/anaconda3/envs/jagir_ship_env/lib/python3.7/site-packages/sklearn/model_selection/_search.py:813: DeprecationWarning: The default of the `iid` parameter will change from True to False in version 0.22 and will be removed in 0.24. This will change numeric results when test-set sizes are unequal.\n",
      "  DeprecationWarning)\n"
     ]
    },
    {
     "name": "stdout",
     "output_type": "stream",
     "text": [
      "0.8663087369208071\n",
      "0.5152143516869208\n",
      "22 26\n",
      "(2154, 1)\n",
      "(2154, 295)\n"
     ]
    },
    {
     "name": "stderr",
     "output_type": "stream",
     "text": [
      "/home/jcharla/anaconda3/envs/jagir_ship_env/lib/python3.7/site-packages/sklearn/model_selection/_split.py:1978: FutureWarning: The default value of cv will change from 3 to 5 in version 0.22. Specify it explicitly to silence this warning.\n",
      "  warnings.warn(CV_WARNING, FutureWarning)\n",
      "/home/jcharla/anaconda3/envs/jagir_ship_env/lib/python3.7/site-packages/sklearn/model_selection/_search.py:813: DeprecationWarning: The default of the `iid` parameter will change from True to False in version 0.22 and will be removed in 0.24. This will change numeric results when test-set sizes are unequal.\n",
      "  DeprecationWarning)\n"
     ]
    },
    {
     "name": "stdout",
     "output_type": "stream",
     "text": [
      "0.8845494851014473\n",
      "0.49415084175086177\n",
      "22 26\n",
      "(2153, 1)\n",
      "(2153, 344)\n"
     ]
    },
    {
     "name": "stderr",
     "output_type": "stream",
     "text": [
      "/home/jcharla/anaconda3/envs/jagir_ship_env/lib/python3.7/site-packages/sklearn/model_selection/_split.py:1978: FutureWarning: The default value of cv will change from 3 to 5 in version 0.22. Specify it explicitly to silence this warning.\n",
      "  warnings.warn(CV_WARNING, FutureWarning)\n"
     ]
    },
    {
     "name": "stdout",
     "output_type": "stream",
     "text": [
      "0.896517847759863\n",
      "0.4846741475022709\n",
      "22 26\n",
      "(2152, 1)\n",
      "(2152, 393)\n"
     ]
    },
    {
     "name": "stderr",
     "output_type": "stream",
     "text": [
      "/home/jcharla/anaconda3/envs/jagir_ship_env/lib/python3.7/site-packages/sklearn/model_selection/_split.py:1978: FutureWarning: The default value of cv will change from 3 to 5 in version 0.22. Specify it explicitly to silence this warning.\n",
      "  warnings.warn(CV_WARNING, FutureWarning)\n",
      "/home/jcharla/anaconda3/envs/jagir_ship_env/lib/python3.7/site-packages/sklearn/model_selection/_search.py:813: DeprecationWarning: The default of the `iid` parameter will change from True to False in version 0.22 and will be removed in 0.24. This will change numeric results when test-set sizes are unequal.\n",
      "  DeprecationWarning)\n"
     ]
    },
    {
     "name": "stdout",
     "output_type": "stream",
     "text": [
      "0.7836863023682834\n",
      "0.5175375369016559\n",
      "22 26\n",
      "(2159, 1)\n",
      "(2159, 73)\n"
     ]
    },
    {
     "name": "stderr",
     "output_type": "stream",
     "text": [
      "/home/jcharla/anaconda3/envs/jagir_ship_env/lib/python3.7/site-packages/sklearn/model_selection/_split.py:1978: FutureWarning: The default value of cv will change from 3 to 5 in version 0.22. Specify it explicitly to silence this warning.\n",
      "  warnings.warn(CV_WARNING, FutureWarning)\n",
      "/home/jcharla/anaconda3/envs/jagir_ship_env/lib/python3.7/site-packages/sklearn/model_selection/_search.py:813: DeprecationWarning: The default of the `iid` parameter will change from True to False in version 0.22 and will be removed in 0.24. This will change numeric results when test-set sizes are unequal.\n",
      "  DeprecationWarning)\n"
     ]
    },
    {
     "name": "stdout",
     "output_type": "stream",
     "text": [
      "0.7559073279795503\n",
      "0.48253442289622106\n",
      "22 26\n",
      "(2158, 1)\n",
      "(2158, 145)\n"
     ]
    },
    {
     "name": "stderr",
     "output_type": "stream",
     "text": [
      "/home/jcharla/anaconda3/envs/jagir_ship_env/lib/python3.7/site-packages/sklearn/model_selection/_split.py:1978: FutureWarning: The default value of cv will change from 3 to 5 in version 0.22. Specify it explicitly to silence this warning.\n",
      "  warnings.warn(CV_WARNING, FutureWarning)\n",
      "/home/jcharla/anaconda3/envs/jagir_ship_env/lib/python3.7/site-packages/sklearn/model_selection/_search.py:813: DeprecationWarning: The default of the `iid` parameter will change from True to False in version 0.22 and will be removed in 0.24. This will change numeric results when test-set sizes are unequal.\n",
      "  DeprecationWarning)\n"
     ]
    },
    {
     "name": "stdout",
     "output_type": "stream",
     "text": [
      "0.821717758132681\n",
      "0.5234064220581602\n",
      "22 26\n",
      "(2157, 1)\n",
      "(2157, 217)\n"
     ]
    },
    {
     "name": "stderr",
     "output_type": "stream",
     "text": [
      "/home/jcharla/anaconda3/envs/jagir_ship_env/lib/python3.7/site-packages/sklearn/model_selection/_split.py:1978: FutureWarning: The default value of cv will change from 3 to 5 in version 0.22. Specify it explicitly to silence this warning.\n",
      "  warnings.warn(CV_WARNING, FutureWarning)\n"
     ]
    },
    {
     "name": "stdout",
     "output_type": "stream",
     "text": [
      "0.8620959868204638\n",
      "0.541129999700406\n",
      "22 26\n",
      "(2156, 1)\n",
      "(2156, 289)\n"
     ]
    },
    {
     "name": "stderr",
     "output_type": "stream",
     "text": [
      "/home/jcharla/anaconda3/envs/jagir_ship_env/lib/python3.7/site-packages/sklearn/model_selection/_split.py:1978: FutureWarning: The default value of cv will change from 3 to 5 in version 0.22. Specify it explicitly to silence this warning.\n",
      "  warnings.warn(CV_WARNING, FutureWarning)\n",
      "/home/jcharla/anaconda3/envs/jagir_ship_env/lib/python3.7/site-packages/sklearn/model_selection/_search.py:813: DeprecationWarning: The default of the `iid` parameter will change from True to False in version 0.22 and will be removed in 0.24. This will change numeric results when test-set sizes are unequal.\n",
      "  DeprecationWarning)\n"
     ]
    },
    {
     "name": "stdout",
     "output_type": "stream",
     "text": [
      "0.7750256864808287\n",
      "0.5032390108149942\n",
      "22 26\n",
      "(2155, 1)\n",
      "(2155, 361)\n"
     ]
    },
    {
     "name": "stderr",
     "output_type": "stream",
     "text": [
      "/home/jcharla/anaconda3/envs/jagir_ship_env/lib/python3.7/site-packages/sklearn/model_selection/_split.py:1978: FutureWarning: The default value of cv will change from 3 to 5 in version 0.22. Specify it explicitly to silence this warning.\n",
      "  warnings.warn(CV_WARNING, FutureWarning)\n",
      "/home/jcharla/anaconda3/envs/jagir_ship_env/lib/python3.7/site-packages/sklearn/model_selection/_search.py:813: DeprecationWarning: The default of the `iid` parameter will change from True to False in version 0.22 and will be removed in 0.24. This will change numeric results when test-set sizes are unequal.\n",
      "  DeprecationWarning)\n"
     ]
    },
    {
     "name": "stdout",
     "output_type": "stream",
     "text": [
      "0.7840549368559897\n",
      "0.5138461632770195\n",
      "22 26\n",
      "(2154, 1)\n",
      "(2154, 433)\n"
     ]
    },
    {
     "name": "stderr",
     "output_type": "stream",
     "text": [
      "/home/jcharla/anaconda3/envs/jagir_ship_env/lib/python3.7/site-packages/sklearn/model_selection/_split.py:1978: FutureWarning: The default value of cv will change from 3 to 5 in version 0.22. Specify it explicitly to silence this warning.\n",
      "  warnings.warn(CV_WARNING, FutureWarning)\n",
      "/home/jcharla/anaconda3/envs/jagir_ship_env/lib/python3.7/site-packages/sklearn/model_selection/_search.py:813: DeprecationWarning: The default of the `iid` parameter will change from True to False in version 0.22 and will be removed in 0.24. This will change numeric results when test-set sizes are unequal.\n",
      "  DeprecationWarning)\n"
     ]
    },
    {
     "name": "stdout",
     "output_type": "stream",
     "text": [
      "0.7931300724172904\n",
      "0.5205040576518858\n",
      "22 26\n",
      "(2153, 1)\n",
      "(2153, 505)\n"
     ]
    },
    {
     "name": "stderr",
     "output_type": "stream",
     "text": [
      "/home/jcharla/anaconda3/envs/jagir_ship_env/lib/python3.7/site-packages/sklearn/model_selection/_split.py:1978: FutureWarning: The default value of cv will change from 3 to 5 in version 0.22. Specify it explicitly to silence this warning.\n",
      "  warnings.warn(CV_WARNING, FutureWarning)\n"
     ]
    },
    {
     "name": "stdout",
     "output_type": "stream",
     "text": [
      "0.7973377925019386\n",
      "0.5223753321009812\n",
      "22 26\n",
      "(2152, 1)\n",
      "(2152, 577)\n"
     ]
    },
    {
     "name": "stderr",
     "output_type": "stream",
     "text": [
      "/home/jcharla/anaconda3/envs/jagir_ship_env/lib/python3.7/site-packages/sklearn/model_selection/_split.py:1978: FutureWarning: The default value of cv will change from 3 to 5 in version 0.22. Specify it explicitly to silence this warning.\n",
      "  warnings.warn(CV_WARNING, FutureWarning)\n",
      "/home/jcharla/anaconda3/envs/jagir_ship_env/lib/python3.7/site-packages/sklearn/model_selection/_search.py:813: DeprecationWarning: The default of the `iid` parameter will change from True to False in version 0.22 and will be removed in 0.24. This will change numeric results when test-set sizes are unequal.\n",
      "  DeprecationWarning)\n"
     ]
    },
    {
     "name": "stdout",
     "output_type": "stream",
     "text": [
      "0.8030830822813473\n",
      "0.5300390758786542\n",
      "22 26\n",
      "(2159, 1)\n",
      "(2159, 100)\n"
     ]
    },
    {
     "name": "stderr",
     "output_type": "stream",
     "text": [
      "/home/jcharla/anaconda3/envs/jagir_ship_env/lib/python3.7/site-packages/sklearn/model_selection/_split.py:1978: FutureWarning: The default value of cv will change from 3 to 5 in version 0.22. Specify it explicitly to silence this warning.\n",
      "  warnings.warn(CV_WARNING, FutureWarning)\n",
      "/home/jcharla/anaconda3/envs/jagir_ship_env/lib/python3.7/site-packages/sklearn/model_selection/_search.py:813: DeprecationWarning: The default of the `iid` parameter will change from True to False in version 0.22 and will be removed in 0.24. This will change numeric results when test-set sizes are unequal.\n",
      "  DeprecationWarning)\n"
     ]
    },
    {
     "name": "stdout",
     "output_type": "stream",
     "text": [
      "0.7758098087317918\n",
      "0.5019946686999126\n",
      "22 26\n",
      "(2158, 1)\n",
      "(2158, 199)\n"
     ]
    },
    {
     "name": "stderr",
     "output_type": "stream",
     "text": [
      "/home/jcharla/anaconda3/envs/jagir_ship_env/lib/python3.7/site-packages/sklearn/model_selection/_split.py:1978: FutureWarning: The default value of cv will change from 3 to 5 in version 0.22. Specify it explicitly to silence this warning.\n",
      "  warnings.warn(CV_WARNING, FutureWarning)\n",
      "/home/jcharla/anaconda3/envs/jagir_ship_env/lib/python3.7/site-packages/sklearn/model_selection/_search.py:813: DeprecationWarning: The default of the `iid` parameter will change from True to False in version 0.22 and will be removed in 0.24. This will change numeric results when test-set sizes are unequal.\n",
      "  DeprecationWarning)\n"
     ]
    },
    {
     "name": "stdout",
     "output_type": "stream",
     "text": [
      "0.7546859434168505\n",
      "0.4818131285080679\n",
      "22 26\n",
      "(2157, 1)\n",
      "(2157, 298)\n"
     ]
    },
    {
     "name": "stderr",
     "output_type": "stream",
     "text": [
      "/home/jcharla/anaconda3/envs/jagir_ship_env/lib/python3.7/site-packages/sklearn/model_selection/_split.py:1978: FutureWarning: The default value of cv will change from 3 to 5 in version 0.22. Specify it explicitly to silence this warning.\n",
      "  warnings.warn(CV_WARNING, FutureWarning)\n"
     ]
    },
    {
     "name": "stdout",
     "output_type": "stream",
     "text": [
      "0.7727748802252599\n",
      "0.4836845484779334\n",
      "22 26\n",
      "(2156, 1)\n",
      "(2156, 397)\n"
     ]
    },
    {
     "name": "stderr",
     "output_type": "stream",
     "text": [
      "/home/jcharla/anaconda3/envs/jagir_ship_env/lib/python3.7/site-packages/sklearn/model_selection/_split.py:1978: FutureWarning: The default value of cv will change from 3 to 5 in version 0.22. Specify it explicitly to silence this warning.\n",
      "  warnings.warn(CV_WARNING, FutureWarning)\n",
      "/home/jcharla/anaconda3/envs/jagir_ship_env/lib/python3.7/site-packages/sklearn/model_selection/_search.py:813: DeprecationWarning: The default of the `iid` parameter will change from True to False in version 0.22 and will be removed in 0.24. This will change numeric results when test-set sizes are unequal.\n",
      "  DeprecationWarning)\n"
     ]
    },
    {
     "name": "stdout",
     "output_type": "stream",
     "text": [
      "0.7890718745168466\n",
      "0.5109831427778153\n",
      "22 26\n",
      "(2155, 1)\n",
      "(2155, 496)\n"
     ]
    },
    {
     "name": "stderr",
     "output_type": "stream",
     "text": [
      "/home/jcharla/anaconda3/envs/jagir_ship_env/lib/python3.7/site-packages/sklearn/model_selection/_split.py:1978: FutureWarning: The default value of cv will change from 3 to 5 in version 0.22. Specify it explicitly to silence this warning.\n",
      "  warnings.warn(CV_WARNING, FutureWarning)\n",
      "/home/jcharla/anaconda3/envs/jagir_ship_env/lib/python3.7/site-packages/sklearn/model_selection/_search.py:813: DeprecationWarning: The default of the `iid` parameter will change from True to False in version 0.22 and will be removed in 0.24. This will change numeric results when test-set sizes are unequal.\n",
      "  DeprecationWarning)\n"
     ]
    },
    {
     "name": "stdout",
     "output_type": "stream",
     "text": [
      "0.8022741673660096\n",
      "0.5326494109471973\n",
      "22 26\n",
      "(2154, 1)\n",
      "(2154, 595)\n"
     ]
    },
    {
     "name": "stderr",
     "output_type": "stream",
     "text": [
      "/home/jcharla/anaconda3/envs/jagir_ship_env/lib/python3.7/site-packages/sklearn/model_selection/_split.py:1978: FutureWarning: The default value of cv will change from 3 to 5 in version 0.22. Specify it explicitly to silence this warning.\n",
      "  warnings.warn(CV_WARNING, FutureWarning)\n",
      "/home/jcharla/anaconda3/envs/jagir_ship_env/lib/python3.7/site-packages/sklearn/model_selection/_search.py:813: DeprecationWarning: The default of the `iid` parameter will change from True to False in version 0.22 and will be removed in 0.24. This will change numeric results when test-set sizes are unequal.\n",
      "  DeprecationWarning)\n"
     ]
    },
    {
     "name": "stdout",
     "output_type": "stream",
     "text": [
      "0.8154452792560034\n",
      "0.5473151423762384\n",
      "22 26\n",
      "(2153, 1)\n",
      "(2153, 694)\n"
     ]
    },
    {
     "name": "stderr",
     "output_type": "stream",
     "text": [
      "/home/jcharla/anaconda3/envs/jagir_ship_env/lib/python3.7/site-packages/sklearn/model_selection/_split.py:1978: FutureWarning: The default value of cv will change from 3 to 5 in version 0.22. Specify it explicitly to silence this warning.\n",
      "  warnings.warn(CV_WARNING, FutureWarning)\n"
     ]
    },
    {
     "name": "stdout",
     "output_type": "stream",
     "text": [
      "0.8247012902268054\n",
      "0.55217064433207\n",
      "22 26\n",
      "(2152, 1)\n",
      "(2152, 793)\n"
     ]
    },
    {
     "name": "stderr",
     "output_type": "stream",
     "text": [
      "/home/jcharla/anaconda3/envs/jagir_ship_env/lib/python3.7/site-packages/sklearn/model_selection/_split.py:1978: FutureWarning: The default value of cv will change from 3 to 5 in version 0.22. Specify it explicitly to silence this warning.\n",
      "  warnings.warn(CV_WARNING, FutureWarning)\n",
      "/home/jcharla/anaconda3/envs/jagir_ship_env/lib/python3.7/site-packages/sklearn/model_selection/_search.py:813: DeprecationWarning: The default of the `iid` parameter will change from True to False in version 0.22 and will be removed in 0.24. This will change numeric results when test-set sizes are unequal.\n",
      "  DeprecationWarning)\n"
     ]
    },
    {
     "name": "stdout",
     "output_type": "stream",
     "text": [
      "0.8309082702569349\n",
      "0.5515881138721005\n",
      "22 26\n",
      "(2159, 1)\n",
      "(2159, 131)\n"
     ]
    },
    {
     "name": "stderr",
     "output_type": "stream",
     "text": [
      "/home/jcharla/anaconda3/envs/jagir_ship_env/lib/python3.7/site-packages/sklearn/model_selection/_split.py:1978: FutureWarning: The default value of cv will change from 3 to 5 in version 0.22. Specify it explicitly to silence this warning.\n",
      "  warnings.warn(CV_WARNING, FutureWarning)\n",
      "/home/jcharla/anaconda3/envs/jagir_ship_env/lib/python3.7/site-packages/sklearn/model_selection/_search.py:813: DeprecationWarning: The default of the `iid` parameter will change from True to False in version 0.22 and will be removed in 0.24. This will change numeric results when test-set sizes are unequal.\n",
      "  DeprecationWarning)\n"
     ]
    },
    {
     "name": "stdout",
     "output_type": "stream",
     "text": [
      "0.8026727853578445\n",
      "0.5294390388029423\n",
      "22 26\n",
      "(2158, 1)\n",
      "(2158, 261)\n"
     ]
    },
    {
     "name": "stderr",
     "output_type": "stream",
     "text": [
      "/home/jcharla/anaconda3/envs/jagir_ship_env/lib/python3.7/site-packages/sklearn/model_selection/_split.py:1978: FutureWarning: The default value of cv will change from 3 to 5 in version 0.22. Specify it explicitly to silence this warning.\n",
      "  warnings.warn(CV_WARNING, FutureWarning)\n",
      "/home/jcharla/anaconda3/envs/jagir_ship_env/lib/python3.7/site-packages/sklearn/model_selection/_search.py:813: DeprecationWarning: The default of the `iid` parameter will change from True to False in version 0.22 and will be removed in 0.24. This will change numeric results when test-set sizes are unequal.\n",
      "  DeprecationWarning)\n"
     ]
    },
    {
     "name": "stdout",
     "output_type": "stream",
     "text": [
      "0.7631377555298543\n",
      "0.4956375670081352\n",
      "22 26\n",
      "(2157, 1)\n",
      "(2157, 391)\n"
     ]
    },
    {
     "name": "stderr",
     "output_type": "stream",
     "text": [
      "/home/jcharla/anaconda3/envs/jagir_ship_env/lib/python3.7/site-packages/sklearn/model_selection/_split.py:1978: FutureWarning: The default value of cv will change from 3 to 5 in version 0.22. Specify it explicitly to silence this warning.\n",
      "  warnings.warn(CV_WARNING, FutureWarning)\n"
     ]
    },
    {
     "name": "stdout",
     "output_type": "stream",
     "text": [
      "0.7883508037025881\n",
      "0.5045466785541464\n",
      "22 26\n",
      "(2156, 1)\n",
      "(2156, 521)\n"
     ]
    },
    {
     "name": "stderr",
     "output_type": "stream",
     "text": [
      "/home/jcharla/anaconda3/envs/jagir_ship_env/lib/python3.7/site-packages/sklearn/model_selection/_split.py:1978: FutureWarning: The default value of cv will change from 3 to 5 in version 0.22. Specify it explicitly to silence this warning.\n",
      "  warnings.warn(CV_WARNING, FutureWarning)\n",
      "/home/jcharla/anaconda3/envs/jagir_ship_env/lib/python3.7/site-packages/sklearn/model_selection/_search.py:813: DeprecationWarning: The default of the `iid` parameter will change from True to False in version 0.22 and will be removed in 0.24. This will change numeric results when test-set sizes are unequal.\n",
      "  DeprecationWarning)\n"
     ]
    },
    {
     "name": "stdout",
     "output_type": "stream",
     "text": [
      "0.8075658485487913\n",
      "0.5362182553345864\n",
      "22 26\n",
      "(2155, 1)\n",
      "(2155, 651)\n"
     ]
    },
    {
     "name": "stderr",
     "output_type": "stream",
     "text": [
      "/home/jcharla/anaconda3/envs/jagir_ship_env/lib/python3.7/site-packages/sklearn/model_selection/_split.py:1978: FutureWarning: The default value of cv will change from 3 to 5 in version 0.22. Specify it explicitly to silence this warning.\n",
      "  warnings.warn(CV_WARNING, FutureWarning)\n",
      "/home/jcharla/anaconda3/envs/jagir_ship_env/lib/python3.7/site-packages/sklearn/model_selection/_search.py:813: DeprecationWarning: The default of the `iid` parameter will change from True to False in version 0.22 and will be removed in 0.24. This will change numeric results when test-set sizes are unequal.\n",
      "  DeprecationWarning)\n"
     ]
    },
    {
     "name": "stdout",
     "output_type": "stream",
     "text": [
      "0.8221677439340175\n",
      "0.5534157463501352\n",
      "22 26\n",
      "(2154, 1)\n",
      "(2154, 781)\n"
     ]
    },
    {
     "name": "stderr",
     "output_type": "stream",
     "text": [
      "/home/jcharla/anaconda3/envs/jagir_ship_env/lib/python3.7/site-packages/sklearn/model_selection/_split.py:1978: FutureWarning: The default value of cv will change from 3 to 5 in version 0.22. Specify it explicitly to silence this warning.\n",
      "  warnings.warn(CV_WARNING, FutureWarning)\n",
      "/home/jcharla/anaconda3/envs/jagir_ship_env/lib/python3.7/site-packages/sklearn/model_selection/_search.py:813: DeprecationWarning: The default of the `iid` parameter will change from True to False in version 0.22 and will be removed in 0.24. This will change numeric results when test-set sizes are unequal.\n",
      "  DeprecationWarning)\n"
     ]
    },
    {
     "name": "stdout",
     "output_type": "stream",
     "text": [
      "0.8378879362071784\n",
      "0.5680088040424749\n",
      "22 26\n",
      "(2153, 1)\n",
      "(2153, 911)\n"
     ]
    },
    {
     "name": "stderr",
     "output_type": "stream",
     "text": [
      "/home/jcharla/anaconda3/envs/jagir_ship_env/lib/python3.7/site-packages/sklearn/model_selection/_split.py:1978: FutureWarning: The default value of cv will change from 3 to 5 in version 0.22. Specify it explicitly to silence this warning.\n",
      "  warnings.warn(CV_WARNING, FutureWarning)\n"
     ]
    },
    {
     "name": "stdout",
     "output_type": "stream",
     "text": [
      "0.8508073729159943\n",
      "0.5627204074791652\n",
      "22 26\n",
      "(2152, 1)\n",
      "(2152, 1041)\n"
     ]
    },
    {
     "name": "stderr",
     "output_type": "stream",
     "text": [
      "/home/jcharla/anaconda3/envs/jagir_ship_env/lib/python3.7/site-packages/sklearn/model_selection/_split.py:1978: FutureWarning: The default value of cv will change from 3 to 5 in version 0.22. Specify it explicitly to silence this warning.\n",
      "  warnings.warn(CV_WARNING, FutureWarning)\n",
      "/home/jcharla/anaconda3/envs/jagir_ship_env/lib/python3.7/site-packages/sklearn/model_selection/_search.py:813: DeprecationWarning: The default of the `iid` parameter will change from True to False in version 0.22 and will be removed in 0.24. This will change numeric results when test-set sizes are unequal.\n",
      "  DeprecationWarning)\n"
     ]
    },
    {
     "name": "stdout",
     "output_type": "stream",
     "text": [
      "0.8589599187417909\n",
      "0.5553175532492469\n",
      "22 26\n",
      "(2159, 1)\n",
      "(2159, 166)\n"
     ]
    },
    {
     "name": "stderr",
     "output_type": "stream",
     "text": [
      "/home/jcharla/anaconda3/envs/jagir_ship_env/lib/python3.7/site-packages/sklearn/model_selection/_split.py:1978: FutureWarning: The default value of cv will change from 3 to 5 in version 0.22. Specify it explicitly to silence this warning.\n",
      "  warnings.warn(CV_WARNING, FutureWarning)\n",
      "/home/jcharla/anaconda3/envs/jagir_ship_env/lib/python3.7/site-packages/sklearn/model_selection/_search.py:813: DeprecationWarning: The default of the `iid` parameter will change from True to False in version 0.22 and will be removed in 0.24. This will change numeric results when test-set sizes are unequal.\n",
      "  DeprecationWarning)\n"
     ]
    },
    {
     "name": "stdout",
     "output_type": "stream",
     "text": [
      "0.8291868084605434\n",
      "0.553862425236737\n",
      "22 26\n",
      "(2158, 1)\n",
      "(2158, 331)\n"
     ]
    },
    {
     "name": "stderr",
     "output_type": "stream",
     "text": [
      "/home/jcharla/anaconda3/envs/jagir_ship_env/lib/python3.7/site-packages/sklearn/model_selection/_split.py:1978: FutureWarning: The default value of cv will change from 3 to 5 in version 0.22. Specify it explicitly to silence this warning.\n",
      "  warnings.warn(CV_WARNING, FutureWarning)\n",
      "/home/jcharla/anaconda3/envs/jagir_ship_env/lib/python3.7/site-packages/sklearn/model_selection/_search.py:813: DeprecationWarning: The default of the `iid` parameter will change from True to False in version 0.22 and will be removed in 0.24. This will change numeric results when test-set sizes are unequal.\n",
      "  DeprecationWarning)\n"
     ]
    },
    {
     "name": "stdout",
     "output_type": "stream",
     "text": [
      "0.7643851761859742\n",
      "0.49867556059963414\n",
      "22 26\n",
      "(2157, 1)\n",
      "(2157, 496)\n"
     ]
    },
    {
     "name": "stderr",
     "output_type": "stream",
     "text": [
      "/home/jcharla/anaconda3/envs/jagir_ship_env/lib/python3.7/site-packages/sklearn/model_selection/_split.py:1978: FutureWarning: The default value of cv will change from 3 to 5 in version 0.22. Specify it explicitly to silence this warning.\n",
      "  warnings.warn(CV_WARNING, FutureWarning)\n"
     ]
    },
    {
     "name": "stdout",
     "output_type": "stream",
     "text": [
      "0.8017863253964557\n",
      "0.5207120631942475\n",
      "22 26\n",
      "(2156, 1)\n",
      "(2156, 661)\n"
     ]
    },
    {
     "name": "stderr",
     "output_type": "stream",
     "text": [
      "/home/jcharla/anaconda3/envs/jagir_ship_env/lib/python3.7/site-packages/sklearn/model_selection/_split.py:1978: FutureWarning: The default value of cv will change from 3 to 5 in version 0.22. Specify it explicitly to silence this warning.\n",
      "  warnings.warn(CV_WARNING, FutureWarning)\n",
      "/home/jcharla/anaconda3/envs/jagir_ship_env/lib/python3.7/site-packages/sklearn/model_selection/_search.py:813: DeprecationWarning: The default of the `iid` parameter will change from True to False in version 0.22 and will be removed in 0.24. This will change numeric results when test-set sizes are unequal.\n",
      "  DeprecationWarning)\n"
     ]
    },
    {
     "name": "stdout",
     "output_type": "stream",
     "text": [
      "0.8220399629877567\n",
      "0.5351604326246953\n",
      "22 26\n",
      "(2155, 1)\n",
      "(2155, 826)\n"
     ]
    },
    {
     "name": "stderr",
     "output_type": "stream",
     "text": [
      "/home/jcharla/anaconda3/envs/jagir_ship_env/lib/python3.7/site-packages/sklearn/model_selection/_split.py:1978: FutureWarning: The default value of cv will change from 3 to 5 in version 0.22. Specify it explicitly to silence this warning.\n",
      "  warnings.warn(CV_WARNING, FutureWarning)\n",
      "/home/jcharla/anaconda3/envs/jagir_ship_env/lib/python3.7/site-packages/sklearn/model_selection/_search.py:813: DeprecationWarning: The default of the `iid` parameter will change from True to False in version 0.22 and will be removed in 0.24. This will change numeric results when test-set sizes are unequal.\n",
      "  DeprecationWarning)\n"
     ]
    },
    {
     "name": "stdout",
     "output_type": "stream",
     "text": [
      "0.8402722623027787\n",
      "0.5507760284121371\n",
      "22 26\n",
      "(2154, 1)\n",
      "(2154, 991)\n"
     ]
    },
    {
     "name": "stderr",
     "output_type": "stream",
     "text": [
      "/home/jcharla/anaconda3/envs/jagir_ship_env/lib/python3.7/site-packages/sklearn/model_selection/_split.py:1978: FutureWarning: The default value of cv will change from 3 to 5 in version 0.22. Specify it explicitly to silence this warning.\n",
      "  warnings.warn(CV_WARNING, FutureWarning)\n",
      "/home/jcharla/anaconda3/envs/jagir_ship_env/lib/python3.7/site-packages/sklearn/model_selection/_search.py:813: DeprecationWarning: The default of the `iid` parameter will change from True to False in version 0.22 and will be removed in 0.24. This will change numeric results when test-set sizes are unequal.\n",
      "  DeprecationWarning)\n"
     ]
    },
    {
     "name": "stdout",
     "output_type": "stream",
     "text": [
      "0.8572613201464312\n",
      "0.551852731489409\n",
      "22 26\n",
      "(2153, 1)\n",
      "(2153, 1156)\n"
     ]
    },
    {
     "name": "stderr",
     "output_type": "stream",
     "text": [
      "/home/jcharla/anaconda3/envs/jagir_ship_env/lib/python3.7/site-packages/sklearn/model_selection/_split.py:1978: FutureWarning: The default value of cv will change from 3 to 5 in version 0.22. Specify it explicitly to silence this warning.\n",
      "  warnings.warn(CV_WARNING, FutureWarning)\n"
     ]
    },
    {
     "name": "stdout",
     "output_type": "stream",
     "text": [
      "0.8753379413906685\n",
      "0.5243142568727885\n",
      "22 26\n",
      "(2152, 1)\n",
      "(2152, 1321)\n"
     ]
    },
    {
     "name": "stderr",
     "output_type": "stream",
     "text": [
      "/home/jcharla/anaconda3/envs/jagir_ship_env/lib/python3.7/site-packages/sklearn/model_selection/_split.py:1978: FutureWarning: The default value of cv will change from 3 to 5 in version 0.22. Specify it explicitly to silence this warning.\n",
      "  warnings.warn(CV_WARNING, FutureWarning)\n",
      "/home/jcharla/anaconda3/envs/jagir_ship_env/lib/python3.7/site-packages/sklearn/model_selection/_search.py:813: DeprecationWarning: The default of the `iid` parameter will change from True to False in version 0.22 and will be removed in 0.24. This will change numeric results when test-set sizes are unequal.\n",
      "  DeprecationWarning)\n"
     ]
    },
    {
     "name": "stdout",
     "output_type": "stream",
     "text": [
      "0.8897760657003654\n",
      "0.5097907374954211\n"
     ]
    }
   ],
   "source": [
    "from sklearn.model_selection import train_test_split\n",
    "from sklearn.model_selection import GridSearchCV\n",
    "from sklearn import preprocessing\n",
    "from sklearn import svm\n",
    "from sklearn.metrics import r2_score\n",
    "\n",
    "#bandwidth iteration\n",
    "for bWI in range(1,8):\n",
    "    for prevTime in range(1,9):\n",
    "        dataX, dataY = generate_region_data(686,bWI)\n",
    "        dataXTS,dataYTS,noOfSamples = make_time_series_data(dataX,dataY,prevTime)\n",
    "        #add bias term\n",
    "        biasTerm = np.ones(shape = (dataXTS.shape[0],1))\n",
    "        print(biasTerm.shape)\n",
    "        featureMat = np.hstack((biasTerm,dataXTS))\n",
    "        print(featureMat.shape)\n",
    "\n",
    "        dataXTrain,dataXTest,dataYTrain,dataYTest = train_test_split(featureMat\\\n",
    "                                                                     ,dataYTS\\\n",
    "                                                                     ,train_size = 0.8\\\n",
    "                                                                     ,test_size = 0.2\\\n",
    "                                                                     ,shuffle = False\\\n",
    "                                                                    )\n",
    "\n",
    "        #to normalise the data\n",
    "        scaler = preprocessing.StandardScaler().fit(dataXTrain)\n",
    "        dataXTrainNorm = scaler.transform(dataXTrain)\n",
    "\n",
    "        cS = [0.0001,0.001, 0.01, 0.1, 1, 10]\n",
    "        gammas = [0.0001,0.001, 0.01, 0.1, 1]\n",
    "        epsiolons = [0.0001,0.001, 0.01, 0.1, 1]\n",
    "\n",
    "        paramGrid = {'C': cS, 'gamma' : gammas, 'epsilon' : epsiolons}\n",
    "\n",
    "        gridSearch = GridSearchCV(svm.SVR(kernel='rbf'), paramGrid, n_jobs = -1)\n",
    "        gridSearch.fit(dataXTrainNorm, dataYTrain)\n",
    "\n",
    "        sVR = gridSearch.best_estimator_\n",
    "        sVR.fit(dataXTrainNorm, dataYTrain.flatten())\n",
    "\n",
    "        #lets see whats the score\n",
    "        #we will return it to plot the matrix\n",
    "        trainScore = sVR.score(dataXTrainNorm,dataYTrain)\n",
    "        print(trainScore)\n",
    "\n",
    "        dataXTestNorm = scaler.transform(dataXTest)\n",
    "\n",
    "        testScore = sVR.score(dataXTestNorm,dataYTest)\n",
    "        print(testScore)\n",
    "        trainScoreMat[bWI-1,prevTime-1] = trainScore\n",
    "        testScoreMat[bWI-1,prevTime-1] = testScore\n",
    "        "
   ]
  },
  {
   "cell_type": "code",
   "execution_count": 19,
   "metadata": {},
   "outputs": [
    {
     "data": {
      "text/plain": [
       "<matplotlib.colorbar.Colorbar at 0x7fbd2e7b59b0>"
      ]
     },
     "execution_count": 19,
     "metadata": {},
     "output_type": "execute_result"
    },
    {
     "data": {
      "image/png": "[encoded data removed]",
      "text/plain": [
       "<Figure size 720x432 with 2 Axes>"
      ]
     },
     "metadata": {
      "needs_background": "light"
     },
     "output_type": "display_data"
    }
   ],
   "source": [
    "useAspect = 0\n",
    "aspectRatio = 16.0/9.0\n",
    "figWidth = 10\n",
    "figHeight = 6\n",
    "\n",
    "if useAspect == 1:\n",
    "    figHeight = figWidth/aspectRatio\n",
    "\n",
    "fig = plt.figure(figsize=(figWidth,figHeight))\n",
    "ax1 = fig.add_axes([0.10, 0.11, 0.80, 0.80])\n",
    "ax3 = fig.add_axes([0.96, 0.11, 0.01, 0.80])\n",
    "\n",
    "ax1.set_xticks([1,8])\n",
    "ax1.set_yticks([1,7])\n",
    "\n",
    "titleStr = \"Score Matrix\"\n",
    "ax1.set_title(titleStr)\n",
    "ax1.set_xlabel('Previous Time Stamp')\n",
    "ax1.set_ylabel('Bandwidth')\n",
    "\n",
    "hMHandler = ax1.imshow(trainScoreMat, cmap=plt.get_cmap('YlGnBu'), extent=[1,8,1,7], vmax = 1)\n",
    "fig.colorbar(hMHandler,ax3)"
   ]
  }
 ],
 "metadata": {
  "kernelspec": {
   "display_name": "Python 3",
   "language": "python",
   "name": "python3"
  },
  "language_info": {
   "codemirror_mode": {
    "name": "ipython",
    "version": 3
   },
   "file_extension": ".py",
   "mimetype": "text/x-python",
   "name": "python",
   "nbconvert_exporter": "python",
   "pygments_lexer": "ipython3",
   "version": "3.7.3"
  }
 },
 "nbformat": 4,
 "nbformat_minor": 2
}
