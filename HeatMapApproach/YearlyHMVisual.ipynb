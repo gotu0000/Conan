{
 "cells": [
  {
   "cell_type": "code",
   "execution_count": 1,
   "metadata": {},
   "outputs": [],
   "source": [
    "%load_ext autoreload\n",
    "%autoreload 2"
   ]
  },
  {
   "cell_type": "code",
   "execution_count": 2,
   "metadata": {},
   "outputs": [],
   "source": [
    "%matplotlib inline\n",
    "import sys\n",
    "import os\n",
    "import numpy as np\n",
    "import pandas as pd\n",
    "\n",
    "import matplotlib.pyplot as plt\n",
    "import matplotlib.animation as animation\n",
    "from mpl_toolkits.basemap import Basemap\n",
    "from matplotlib.patches import Circle\n",
    "import seaborn as sns; \n",
    "from IPython.display import HTML"
   ]
  },
  {
   "cell_type": "code",
   "execution_count": 3,
   "metadata": {},
   "outputs": [],
   "source": [
    "#config parser\n",
    "import configparser\n",
    "\n",
    "sys.path.insert(0, '../Common/')\n",
    "from AISDataManager import AISDataManager\n",
    "import Constants as c\n",
    "import HMUtils as hMUtil\n",
    "import TimeUtils as timeUtils\n",
    "\n",
    "#MyConfig.INI stores all the run time constants\n",
    "config = configparser.ConfigParser()\n",
    "config.read('../MyConfig.INI')\n",
    "\n",
    "from joblib import Parallel, delayed\n",
    "import multiprocessing\n",
    "aISDM = AISDataManager()"
   ]
  },
  {
   "cell_type": "code",
   "execution_count": 4,
   "metadata": {},
   "outputs": [
    {
     "name": "stdout",
     "output_type": "stream",
     "text": [
      "-120.0 34.12\n",
      "-119.5 34.24\n"
     ]
    }
   ],
   "source": [
    "lonMin = (float)(config['REGION']['LON_MIN'])\n",
    "lonMax = (float)(config['REGION']['LON_MAX'])\n",
    "\n",
    "latMin = (float)(config['REGION']['LAT_MIN'])\n",
    "latMax = (float)(config['REGION']['LAT_MAX'])\n",
    "\n",
    "print(lonMin,latMin)\n",
    "print(lonMax,latMax)\n",
    "\n",
    "increStep = (float)(config['HEATMAP']['INCR_STEP'])\n",
    "incrRes = (int)(config['HEATMAP']['INCR_RES'])"
   ]
  },
  {
   "cell_type": "code",
   "execution_count": 7,
   "metadata": {},
   "outputs": [],
   "source": [
    "#compute KDE from this heat map\n",
    "#kde takes two dimensional data\n",
    "#replace every point from the heatmap to corresponding middle value of coordinate\n",
    "#first get the boundar array\n",
    "heatMapGrid = hMUtil.generate_grid(lonMin, lonMax, latMin, latMax, increStep, incrRes)\n",
    "boundaryArray = heatMapGrid[2]\n",
    "horizontalAxis = heatMapGrid[0]\n",
    "verticalAxis = heatMapGrid[1]"
   ]
  },
  {
   "cell_type": "code",
   "execution_count": 8,
   "metadata": {},
   "outputs": [],
   "source": [
    "SOURCE_DIR = \"M120_00_M190_50_34_12_34_24\"\n",
    "\n",
    "yearlyHMNP = np.load(\"../Data/\"+SOURCE_DIR+\"/YearlyHM.npy\")"
   ]
  },
  {
   "cell_type": "code",
   "execution_count": 13,
   "metadata": {},
   "outputs": [
    {
     "data": {
      "text/plain": [
       "<matplotlib.colorbar.Colorbar at 0x7f3855f750b8>"
      ]
     },
     "execution_count": 13,
     "metadata": {},
     "output_type": "execute_result"
    },
    {
     "data": {
      "image/png": "[encoded data removed]",
      "text/plain": [
       "<Figure size 720x405 with 2 Axes>"
      ]
     },
     "metadata": {
      "needs_background": "light"
     },
     "output_type": "display_data"
    }
   ],
   "source": [
    "useAspect = 1\n",
    "aspectRatio = 16.0/9.0\n",
    "figWidth = 10\n",
    "figHeight = 8.5\n",
    "\n",
    "if useAspect == 1:\n",
    "    figHeight = figWidth/aspectRatio\n",
    "\n",
    "fig = plt.figure(figsize=(figWidth,figHeight))\n",
    "ax1 = fig.add_axes([0.01, 0.01, 0.92, 0.48])\n",
    "ax1.set_xlabel('Longitude')\n",
    "ax1.set_ylabel('Lattitude')\n",
    "ax1.set_title('Year 2017 Heatmap')\n",
    "ax1.set_xticks([lonMin,lonMax])\n",
    "ax1.set_yticks([latMin,latMax])\n",
    "# ax1.imshow()\n",
    "yearlyHMImg = np.reshape(yearlyHMNP,(verticalAxis.shape[0],horizontalAxis.shape[0]))\n",
    "yearlyHMImg = np.flip(yearlyHMImg,axis=0)\n",
    "\n",
    "iMShowHandler = ax1.imshow(yearlyHMImg,cmap=plt.get_cmap('YlGnBu'),extent=[lonMin,lonMax,latMin,latMax],alpha = 0.5)\n",
    "\n",
    "ax2 = fig.add_axes([0.98, 0.07, 0.01, 0.38])\n",
    "fig.colorbar(iMShowHandler,ax2)"
   ]
  }
 ],
 "metadata": {
  "kernelspec": {
   "display_name": "Python 3",
   "language": "python",
   "name": "python3"
  },
  "language_info": {
   "codemirror_mode": {
    "name": "ipython",
    "version": 3
   },
   "file_extension": ".py",
   "mimetype": "text/x-python",
   "name": "python",
   "nbconvert_exporter": "python",
   "pygments_lexer": "ipython3",
   "version": "3.7.3"
  }
 },
 "nbformat": 4,
 "nbformat_minor": 2
}
