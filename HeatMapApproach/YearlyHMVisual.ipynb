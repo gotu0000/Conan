{
 "cells": [
  {
   "cell_type": "code",
   "execution_count": null,
   "metadata": {},
   "outputs": [],
   "source": [
    "%load_ext autoreload\n",
    "%autoreload 2"
   ]
  },
  {
   "cell_type": "code",
   "execution_count": null,
   "metadata": {},
   "outputs": [],
   "source": [
    "%matplotlib inline\n",
    "import sys\n",
    "import os\n",
    "import numpy as np\n",
    "import pandas as pd\n",
    "\n",
    "import matplotlib.pyplot as plt\n",
    "import matplotlib.animation as animation\n",
    "from mpl_toolkits.basemap import Basemap\n",
    "from matplotlib.patches import Circle\n",
    "import seaborn as sns; \n",
    "from IPython.display import HTML"
   ]
  },
  {
   "cell_type": "code",
   "execution_count": null,
   "metadata": {},
   "outputs": [],
   "source": [
    "#config parser\n",
    "import configparser\n",
    "\n",
    "sys.path.insert(0, '../Common/')\n",
    "from AISDataManager import AISDataManager\n",
    "import Constants as c\n",
    "import HMUtils as hMUtil\n",
    "import TimeUtils as timeUtils\n",
    "\n",
    "#MyConfig.INI stores all the run time constants\n",
    "config = configparser.ConfigParser()\n",
    "config.read('../MyConfig.INI')\n",
    "\n",
    "from joblib import Parallel, delayed\n",
    "import multiprocessing\n",
    "aISDM = AISDataManager()"
   ]
  },
  {
   "cell_type": "code",
   "execution_count": null,
   "metadata": {},
   "outputs": [],
   "source": [
    "lonMin = (float)(config['HEATMAP_VISUAL']['LON_MIN'])\n",
    "lonMax = (float)(config['HEATMAP_VISUAL']['LON_MAX'])\n",
    "\n",
    "latMin = (float)(config['HEATMAP_VISUAL']['LAT_MIN'])\n",
    "latMax = (float)(config['HEATMAP_VISUAL']['LAT_MAX'])\n",
    "\n",
    "print(lonMin,latMin)\n",
    "print(lonMax,latMax)\n",
    "\n",
    "increStep = (float)(config['HEATMAP_VISUAL']['INCR_STEP'])\n",
    "incrRes = (int)(config['HEATMAP_VISUAL']['INCR_RES'])\n",
    "ipFile = (config['HEATMAP_VISUAL']['INPUT_FILE'])\n",
    "opFile = (config['HEATMAP_VISUAL']['OUTPUT_FILE'])"
   ]
  },
  {
   "cell_type": "code",
   "execution_count": null,
   "metadata": {},
   "outputs": [],
   "source": [
    "#compute KDE from this heat map\n",
    "#kde takes two dimensional data\n",
    "#replace every point from the heatmap to corresponding middle value of coordinate\n",
    "#first get the boundar array\n",
    "heatMapGrid = hMUtil.generate_grid(lonMin, lonMax, latMin, latMax, increStep, incrRes)\n",
    "boundaryArray = heatMapGrid[2]\n",
    "horizontalAxis = heatMapGrid[0]\n",
    "verticalAxis = heatMapGrid[1]\n",
    "yearlyHMNP = np.load(ipFile)"
   ]
  },
  {
   "cell_type": "code",
   "execution_count": null,
   "metadata": {},
   "outputs": [],
   "source": [
    "useAspect = 0\n",
    "aspectRatio = 16.0/9.0\n",
    "figWidth = 10\n",
    "figHeight = 4\n",
    "\n",
    "if useAspect == 1:\n",
    "    figHeight = figWidth/aspectRatio\n",
    "\n",
    "fig = plt.figure(figsize=(figWidth,figHeight))\n",
    "ax1 = fig.add_axes([0.1, 0.15, 0.83, 0.73])\n",
    "ax1.set_xlabel('Longitude')\n",
    "ax1.set_ylabel('Lattitude')\n",
    "# ax1.set_title('Year 2016 Heatmap')\n",
    "ax1.set_title('Year 2017 Heatmap')\n",
    "# ax1.set_title('Year 2016 - 2017 Heatmap')\n",
    "ax1.set_xticks([lonMin,lonMax])\n",
    "ax1.set_yticks([latMin,latMax])\n",
    "# ax1.imshow()\n",
    "yearlyHMImg = np.reshape(yearlyHMNP,(verticalAxis.shape[0],horizontalAxis.shape[0]))\n",
    "yearlyHMImg = np.flip(yearlyHMImg,axis=0)\n",
    "\n",
    "iMShowHandler = ax1.imshow(yearlyHMImg,cmap=plt.get_cmap('YlGnBu'),extent=[lonMin,lonMax,latMin,latMax],alpha = 0.5, vmax = 50)\n",
    "\n",
    "ax2 = fig.add_axes([0.95, 0.25, 0.01, 0.50])\n",
    "fig.colorbar(iMShowHandler,ax2)\n",
    "fig.savefig(opFile)"
   ]
  }
 ],
 "metadata": {
  "kernelspec": {
   "display_name": "Python 3",
   "language": "python",
   "name": "python3"
  },
  "language_info": {
   "codemirror_mode": {
    "name": "ipython",
    "version": 3
   },
   "file_extension": ".py",
   "mimetype": "text/x-python",
   "name": "python",
   "nbconvert_exporter": "python",
   "pygments_lexer": "ipython3",
   "version": "3.7.3"
  }
 },
 "nbformat": 4,
 "nbformat_minor": 2
}
