{
 "cells": [
  {
   "cell_type": "code",
   "execution_count": 1,
   "metadata": {},
   "outputs": [],
   "source": [
    "%load_ext autoreload\n",
    "%autoreload 2"
   ]
  },
  {
   "cell_type": "code",
   "execution_count": 2,
   "metadata": {},
   "outputs": [],
   "source": [
    "%matplotlib inline\n",
    "import sys\n",
    "import os\n",
    "import numpy as np\n",
    "import pandas as pd\n",
    "\n",
    "import matplotlib.pyplot as plt\n",
    "import matplotlib.animation as animation\n",
    "from mpl_toolkits.basemap import Basemap\n",
    "from matplotlib.patches import Circle\n",
    "import seaborn as sns; \n",
    "from IPython.display import HTML"
   ]
  },
  {
   "cell_type": "code",
   "execution_count": 3,
   "metadata": {},
   "outputs": [],
   "source": [
    "#config parser\n",
    "import configparser\n",
    "\n",
    "sys.path.insert(0, '../Common/')\n",
    "from AISDataManager import AISDataManager\n",
    "import Constants as c\n",
    "import HMUtils as hMUtil\n",
    "import TimeUtils as timeUtils\n",
    "from GridClass import GridClass\n",
    "\n",
    "#MyConfig.INI stores all the run time constants\n",
    "config = configparser.ConfigParser()\n",
    "config.read('../MyConfig.INI')\n",
    "\n",
    "from joblib import Parallel, delayed\n",
    "import multiprocessing\n",
    "aISDM = AISDataManager()"
   ]
  },
  {
   "cell_type": "code",
   "execution_count": 4,
   "metadata": {},
   "outputs": [
    {
     "name": "stdout",
     "output_type": "stream",
     "text": [
      "-120.0 31.0\n",
      "-117.0 34.5\n"
     ]
    }
   ],
   "source": [
    "lonMin = (float)(config['REGEION']['LON_MIN'])\n",
    "lonMax = (float)(config['REGEION']['LON_MAX'])\n",
    "\n",
    "latMin = (float)(config['REGEION']['LAT_MIN'])\n",
    "latMax = (float)(config['REGEION']['LAT_MAX'])\n",
    "\n",
    "print(lonMin,latMin)\n",
    "print(lonMax,latMax)\n",
    "\n",
    "increStep = (float)(config['HEATMAP']['INCR_STEP'])\n",
    "incrRes = (int)(config['HEATMAP']['INCR_RES'])"
   ]
  },
  {
   "cell_type": "code",
   "execution_count": 5,
   "metadata": {},
   "outputs": [],
   "source": [
    "heatMapGrid = hMUtil.generate_grid(lonMin, lonMax, latMin, latMax, increStep, incrRes)\n",
    "boundaryArray = heatMapGrid[2]\n",
    "horizontalAxis = heatMapGrid[0]\n",
    "verticalAxis = heatMapGrid[1]"
   ]
  },
  {
   "cell_type": "code",
   "execution_count": 6,
   "metadata": {},
   "outputs": [],
   "source": [
    "#first load all the arrays\n",
    "#i.e from 40 to 48\n",
    "#and we sum every element, we get\n",
    "probDir = \"../Data/AIS_0117_1217_31_M120_345_M117/Transition/\"\n",
    "\n",
    "tPList = []\n",
    "\n",
    "for i in range(9):\n",
    "    probFile = probDir + '4' + str(i) + '.npy'\n",
    "    probVal = np.load(probFile)\n",
    "    tPList.append(probVal.copy()) \n",
    "\n",
    "#now sum of probabilities will be 1\n",
    "sum44 = np.zeros(tPList[0].shape)\n",
    "for i in range(len(tPList)):\n",
    "    sum44 = sum44 + tPList[i]"
   ]
  },
  {
   "cell_type": "code",
   "execution_count": 7,
   "metadata": {},
   "outputs": [
    {
     "name": "stdout",
     "output_type": "stream",
     "text": [
      "1050\n"
     ]
    }
   ],
   "source": [
    "print(len(boundaryArray))"
   ]
  },
  {
   "cell_type": "code",
   "execution_count": 8,
   "metadata": {},
   "outputs": [],
   "source": [
    "#now generate transition probability tabel\n",
    "#using boundary array\n",
    "gridList = []\n",
    "\n",
    "for i in range(len(boundaryArray)):\n",
    "# for i in range(2):\n",
    "#     print(boundaryArray[i])\n",
    "    #left top transition probabilities\n",
    "    gridIdx = boundaryArray[i][4]\n",
    "    tempLonMin = boundaryArray[i][0]\n",
    "    tempLonMax = boundaryArray[i][1]\n",
    "    tempLatMin = boundaryArray[i][2]\n",
    "    tempLatMax = boundaryArray[i][3]\n",
    "    \n",
    "    gridList.append(GridClass(gridIdx))\n",
    "    \n",
    "    gridList[-1].set_lon_min_max(tempLonMin,tempLonMax)\n",
    "    gridList[-1].set_lat_min_max(tempLatMin,tempLatMax)\n",
    "    \n",
    "    #takes care of divide by zero condition\n",
    "    if(sum44[gridIdx] > 0):\n",
    "        p40 = tPList[0][gridIdx]/sum44[gridIdx]\n",
    "        p41 = tPList[1][gridIdx]/sum44[gridIdx]\n",
    "        p42 = tPList[2][gridIdx]/sum44[gridIdx]\n",
    "        p43 = tPList[3][gridIdx]/sum44[gridIdx]\n",
    "        p44 = tPList[4][gridIdx]/sum44[gridIdx]\n",
    "        p45 = tPList[5][gridIdx]/sum44[gridIdx]\n",
    "        p46 = tPList[6][gridIdx]/sum44[gridIdx]\n",
    "        p47 = tPList[7][gridIdx]/sum44[gridIdx]\n",
    "        p48 = tPList[8][gridIdx]/sum44[gridIdx]\n",
    "    \n",
    "        gridList[-1].set_p40(p40)\n",
    "        gridList[-1].set_p41(p41)\n",
    "        gridList[-1].set_p42(p42)\n",
    "        gridList[-1].set_p43(p43)\n",
    "        gridList[-1].set_p44(p44)\n",
    "        gridList[-1].set_p45(p45)\n",
    "        gridList[-1].set_p46(p46)\n",
    "        gridList[-1].set_p47(p47)\n",
    "        gridList[-1].set_p48(p48)"
   ]
  },
  {
   "cell_type": "code",
   "execution_count": 10,
   "metadata": {},
   "outputs": [],
   "source": [
    "p40Probs = []\n",
    "p41Probs = []\n",
    "p42Probs = []\n",
    "p43Probs = []\n",
    "p44Probs = []\n",
    "p45Probs = []\n",
    "p46Probs = []\n",
    "p47Probs = []\n",
    "p48Probs = []\n",
    "\n",
    "for grid in gridList:\n",
    "    p40Probs.append(grid.p40)\n",
    "    p41Probs.append(grid.p41)\n",
    "    p42Probs.append(grid.p42)\n",
    "    p43Probs.append(grid.p43)\n",
    "    p44Probs.append(grid.p44)\n",
    "    p45Probs.append(grid.p45)\n",
    "    p46Probs.append(grid.p46)\n",
    "    p47Probs.append(grid.p47)\n",
    "    p48Probs.append(grid.p48)"
   ]
  },
  {
   "cell_type": "code",
   "execution_count": 11,
   "metadata": {},
   "outputs": [],
   "source": [
    "p40ProbsNP = np.array(p40Probs)\n",
    "p41ProbsNP = np.array(p41Probs)\n",
    "p42ProbsNP = np.array(p42Probs)\n",
    "p43ProbsNP = np.array(p43Probs)\n",
    "p44ProbsNP = np.array(p44Probs)\n",
    "p45ProbsNP = np.array(p45Probs)\n",
    "p46ProbsNP = np.array(p46Probs)\n",
    "p47ProbsNP = np.array(p47Probs)\n",
    "p48ProbsNP = np.array(p48Probs)"
   ]
  },
  {
   "cell_type": "code",
   "execution_count": 16,
   "metadata": {},
   "outputs": [
    {
     "name": "stdout",
     "output_type": "stream",
     "text": [
      "0.06805391286238806\n",
      "0.0476194211310691\n",
      "0.0\n",
      "1.0\n",
      "0.007293107561779576\n"
     ]
    }
   ],
   "source": [
    "print(np.mean(p40ProbsNP))\n",
    "print(np.median(p40ProbsNP))\n",
    "print(np.min(p40ProbsNP))\n",
    "print(np.max(p40ProbsNP))\n",
    "print(np.var(p40ProbsNP))"
   ]
  },
  {
   "cell_type": "code",
   "execution_count": 17,
   "metadata": {},
   "outputs": [
    {
     "name": "stdout",
     "output_type": "stream",
     "text": [
      "0.08724778770792514\n",
      "0.07385856448573414\n",
      "0.0\n",
      "1.0\n",
      "0.007808572580199126\n"
     ]
    }
   ],
   "source": [
    "print(np.mean(p41ProbsNP))\n",
    "print(np.median(p41ProbsNP))\n",
    "print(np.min(p41ProbsNP))\n",
    "print(np.max(p41ProbsNP))\n",
    "print(np.var(p41ProbsNP))"
   ]
  },
  {
   "cell_type": "code",
   "execution_count": 18,
   "metadata": {},
   "outputs": [
    {
     "name": "stdout",
     "output_type": "stream",
     "text": [
      "0.053745200797753946\n",
      "0.0315917066779896\n",
      "0.0\n",
      "1.0\n",
      "0.007056445765791615\n"
     ]
    }
   ],
   "source": [
    "print(np.mean(p42ProbsNP))\n",
    "print(np.median(p42ProbsNP))\n",
    "print(np.min(p42ProbsNP))\n",
    "print(np.max(p42ProbsNP))\n",
    "print(np.var(p42ProbsNP))"
   ]
  },
  {
   "cell_type": "code",
   "execution_count": 19,
   "metadata": {},
   "outputs": [
    {
     "name": "stdout",
     "output_type": "stream",
     "text": [
      "0.08798283694182002\n",
      "0.08123871841155235\n",
      "0.0\n",
      "1.0\n",
      "0.0056850877354772365\n"
     ]
    }
   ],
   "source": [
    "print(np.mean(p43ProbsNP))\n",
    "print(np.median(p43ProbsNP))\n",
    "print(np.min(p43ProbsNP))\n",
    "print(np.max(p43ProbsNP))\n",
    "print(np.var(p43ProbsNP))"
   ]
  },
  {
   "cell_type": "code",
   "execution_count": 20,
   "metadata": {},
   "outputs": [
    {
     "name": "stdout",
     "output_type": "stream",
     "text": [
      "0.2809076117927554\n",
      "0.2700519278670976\n",
      "0.0\n",
      "1.0\n",
      "0.033027800765329164\n"
     ]
    }
   ],
   "source": [
    "print(np.mean(p44ProbsNP))\n",
    "print(np.median(p44ProbsNP))\n",
    "print(np.min(p44ProbsNP))\n",
    "print(np.max(p44ProbsNP))\n",
    "print(np.var(p44ProbsNP))"
   ]
  },
  {
   "cell_type": "code",
   "execution_count": 21,
   "metadata": {},
   "outputs": [
    {
     "name": "stdout",
     "output_type": "stream",
     "text": [
      "0.10862052873319518\n",
      "0.10388384042774979\n",
      "0.0\n",
      "1.0\n",
      "0.009277263549837277\n"
     ]
    }
   ],
   "source": [
    "print(np.mean(p45ProbsNP))\n",
    "print(np.median(p45ProbsNP))\n",
    "print(np.min(p45ProbsNP))\n",
    "print(np.max(p45ProbsNP))\n",
    "print(np.var(p45ProbsNP))"
   ]
  },
  {
   "cell_type": "code",
   "execution_count": 22,
   "metadata": {},
   "outputs": [
    {
     "name": "stdout",
     "output_type": "stream",
     "text": [
      "0.04662423144858971\n",
      "0.02162996693905558\n",
      "0.0\n",
      "1.0\n",
      "0.006879599451204785\n"
     ]
    }
   ],
   "source": [
    "print(np.mean(p46ProbsNP))\n",
    "print(np.median(p46ProbsNP))\n",
    "print(np.min(p46ProbsNP))\n",
    "print(np.max(p46ProbsNP))\n",
    "print(np.var(p46ProbsNP))"
   ]
  },
  {
   "cell_type": "code",
   "execution_count": 23,
   "metadata": {},
   "outputs": [
    {
     "name": "stdout",
     "output_type": "stream",
     "text": [
      "0.08202601837086665\n",
      "0.0779917021122627\n",
      "0.0\n",
      "1.0\n",
      "0.0058311955804541075\n"
     ]
    }
   ],
   "source": [
    "print(np.mean(p47ProbsNP))\n",
    "print(np.median(p47ProbsNP))\n",
    "print(np.min(p47ProbsNP))\n",
    "print(np.max(p47ProbsNP))\n",
    "print(np.var(p47ProbsNP))"
   ]
  },
  {
   "cell_type": "code",
   "execution_count": 24,
   "metadata": {},
   "outputs": [
    {
     "name": "stdout",
     "output_type": "stream",
     "text": [
      "0.06764901420184875\n",
      "0.05280270462039317\n",
      "0.0\n",
      "1.0\n",
      "0.005629198037996383\n"
     ]
    }
   ],
   "source": [
    "print(np.mean(p48ProbsNP))\n",
    "print(np.median(p48ProbsNP))\n",
    "print(np.min(p48ProbsNP))\n",
    "print(np.max(p48ProbsNP))\n",
    "print(np.var(p48ProbsNP))"
   ]
  }
 ],
 "metadata": {
  "kernelspec": {
   "display_name": "Python 3",
   "language": "python",
   "name": "python3"
  },
  "language_info": {
   "codemirror_mode": {
    "name": "ipython",
    "version": 3
   },
   "file_extension": ".py",
   "mimetype": "text/x-python",
   "name": "python",
   "nbconvert_exporter": "python",
   "pygments_lexer": "ipython3",
   "version": "3.7.3"
  }
 },
 "nbformat": 4,
 "nbformat_minor": 2
}
