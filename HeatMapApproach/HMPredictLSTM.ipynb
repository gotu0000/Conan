{
 "cells": [
  {
   "cell_type": "code",
   "execution_count": 1,
   "metadata": {},
   "outputs": [],
   "source": [
    "%load_ext autoreload\n",
    "%autoreload 2"
   ]
  },
  {
   "cell_type": "code",
   "execution_count": 2,
   "metadata": {},
   "outputs": [],
   "source": [
    "%matplotlib inline\n",
    "import sys\n",
    "import os\n",
    "import numpy as np\n",
    "import pandas as pd\n",
    "\n",
    "import matplotlib.pyplot as plt\n",
    "import matplotlib.animation as animation\n",
    "from mpl_toolkits.basemap import Basemap\n",
    "from matplotlib.patches import Circle\n",
    "import seaborn as sns; \n",
    "from IPython.display import HTML"
   ]
  },
  {
   "cell_type": "code",
   "execution_count": 3,
   "metadata": {},
   "outputs": [],
   "source": [
    "#config parser\n",
    "import configparser\n",
    "\n",
    "sys.path.insert(0, '../Common/')\n",
    "from AISDataManager import AISDataManager\n",
    "import Constants as c\n",
    "import HMUtils as hMUtil\n",
    "import TimeUtils as timeUtils\n",
    "\n",
    "#MyConfig.INI stores all the run time constants\n",
    "config = configparser.ConfigParser()\n",
    "config.read('../MyConfig.INI')\n",
    "\n",
    "from joblib import Parallel, delayed\n",
    "import multiprocessing\n",
    "aISDM = AISDataManager()"
   ]
  },
  {
   "cell_type": "code",
   "execution_count": 4,
   "metadata": {},
   "outputs": [
    {
     "name": "stdout",
     "output_type": "stream",
     "text": [
      "-120.0 31.0\n",
      "-117.0 34.5\n"
     ]
    }
   ],
   "source": [
    "lonMin = (float)(config['REGEION']['LON_MIN'])\n",
    "lonMax = (float)(config['REGEION']['LON_MAX'])\n",
    "\n",
    "latMin = (float)(config['REGEION']['LAT_MIN'])\n",
    "latMax = (float)(config['REGEION']['LAT_MAX'])\n",
    "\n",
    "print(lonMin,latMin)\n",
    "print(lonMax,latMax)\n",
    "\n",
    "increStep = (float)(config['HEATMAP']['INCR_STEP'])\n",
    "incrRes = (int)(config['HEATMAP']['INCR_RES'])"
   ]
  },
  {
   "cell_type": "code",
   "execution_count": 5,
   "metadata": {},
   "outputs": [],
   "source": [
    "xGrid = np.arange(lonMin,lonMax,increStep)\n",
    "xGrid = np.around(xGrid,incrRes)\n",
    "yGrid = np.arange(latMin,latMax,increStep)\n",
    "yGrid = np.around(yGrid,incrRes)"
   ]
  },
  {
   "cell_type": "code",
   "execution_count": 6,
   "metadata": {},
   "outputs": [],
   "source": [
    "heatMapDirectory = \"../Data/AIS_0117_1217_31_M120_345_M117/HourlyHM/\"\n",
    "\n",
    "heatMapData = []\n",
    "for i in range(0,8760):\n",
    "    heatMapFile = heatMapDirectory + str(i) + '.npy'\n",
    "    heatMapVal = np.load(heatMapFile)\n",
    "    heatMapData.append(heatMapVal.copy())"
   ]
  },
  {
   "cell_type": "code",
   "execution_count": 7,
   "metadata": {},
   "outputs": [
    {
     "name": "stdout",
     "output_type": "stream",
     "text": [
      "[37. 51. 43. ...  0.  0.  0.]\n"
     ]
    }
   ],
   "source": [
    "#find out the cells on which we want to train our model\n",
    "#cells with zero entires are not useful to us\n",
    "#go through every heat map\n",
    "\n",
    "hMBoolSum = np.zeros((heatMapData[0].shape))\n",
    "# #iterate through heat maps \n",
    "for hM in heatMapData:\n",
    "    #find instances of heat map\n",
    "    hMBool = hM > 0\n",
    "    hMBoolSum = hMBoolSum + hMBool\n",
    "print(hMBoolSum)"
   ]
  },
  {
   "cell_type": "code",
   "execution_count": 8,
   "metadata": {},
   "outputs": [],
   "source": [
    "nonZeroGrid = np.argwhere(hMBoolSum > 100)\n",
    "\n",
    "nonZeroGrid = nonZeroGrid.flatten()\n",
    "nonZeroGrid = nonZeroGrid.tolist()"
   ]
  },
  {
   "cell_type": "code",
   "execution_count": 9,
   "metadata": {},
   "outputs": [
    {
     "name": "stdout",
     "output_type": "stream",
     "text": [
      "814\n"
     ]
    }
   ],
   "source": [
    "# print(nonZeroGrid)\n",
    "print(len(nonZeroGrid))"
   ]
  },
  {
   "cell_type": "code",
   "execution_count": 10,
   "metadata": {},
   "outputs": [],
   "source": [
    "def generate_region_data(index, bW):\n",
    "    #histogram data\n",
    "    histData = []\n",
    "    histLabel = []\n",
    "\n",
    "    #get the row and column of the desired grid\n",
    "    indexRow, indexCol = hMUtil.get_row_col(index, yGrid.shape[0], xGrid.shape[0])\n",
    "    \n",
    "    width = xGrid.shape[0]\n",
    "    height = yGrid.shape[0]\n",
    "    \n",
    "    #now iterate through heatmap files\n",
    "    for hM in heatMapData:\n",
    "        #copy the data file\n",
    "        tempNP = hM.copy()\n",
    "        \n",
    "        #reshape it in 2D fashion\n",
    "        #so that we can levarege the window\n",
    "        tempNP = np.reshape(tempNP,(yGrid.shape[0],xGrid.shape[0]))\n",
    "        \n",
    "        #now slice the array \n",
    "        #here it has to be window\n",
    "        #the regeion we are interested\n",
    "        #and some cells which are near to this regeion\n",
    "        leftRow = indexRow-bW\n",
    "        if(leftRow < 0):\n",
    "            leftRow = 0\n",
    "            \n",
    "        rightRow = indexRow+bW+1\n",
    "        if(rightRow > height): \n",
    "            rightRow = height\n",
    "            \n",
    "        leftCol = (indexCol-bW)\n",
    "        if(leftCol < 0):\n",
    "            leftCol = 0\n",
    "            \n",
    "        rightCol = (indexCol+bW+1)\n",
    "        if(rightCol > width): \n",
    "            rightCol = width\n",
    "        \n",
    "            \n",
    "        histNPX = tempNP[(leftRow):(rightRow),leftCol:rightCol].copy()\n",
    "\n",
    "        #now append this into the list\n",
    "        histData.append(histNPX.flatten())\n",
    "\n",
    "        #after that we have our own regeion\n",
    "        histNPY = tempNP[indexRow,indexCol].copy()\n",
    "        \n",
    "        #we need to add things up for label\n",
    "        histY = np.sum(histNPY)\n",
    "        #append that into label\n",
    "        histLabel.append(histY)\n",
    "        \n",
    "    histLabelNP = np.asarray(histLabel)\n",
    "    return np.asarray(histData),histLabelNP"
   ]
  },
  {
   "cell_type": "code",
   "execution_count": 11,
   "metadata": {},
   "outputs": [
    {
     "name": "stdout",
     "output_type": "stream",
     "text": [
      "22 26\n",
      "(8760, 49)\n",
      "(8760, 1)\n"
     ]
    }
   ],
   "source": [
    "from sklearn.preprocessing import MinMaxScaler\n",
    "\n",
    "dataX, dataY = generate_region_data(686,3)\n",
    "dataY = np.reshape(dataY, (dataY.shape[0],1))\n",
    "\n",
    "print(dataX.shape)\n",
    "print(dataY.shape)\n",
    "\n",
    "scX = MinMaxScaler(feature_range=(0,1)).fit(dataX)\n",
    "scY = MinMaxScaler(feature_range=(0,1)).fit(dataY)\n",
    "\n",
    "dataX = scX.transform(dataX)\n",
    "dataY = scY.transform(dataY)\n"
   ]
  },
  {
   "cell_type": "code",
   "execution_count": 12,
   "metadata": {},
   "outputs": [],
   "source": [
    "#will make a data set for time series forcast\n",
    "#will consider how many previous data we want to consider\n",
    "#will also take the feature matrix \n",
    "#and output feature\n",
    "#will return matrix of reduced dimension\n",
    "#which can be used as a feature factor\n",
    "def make_time_series_data(matX,matY,pastFeatures,futureFeature = 0):\n",
    "    #first make data set for time series regression\n",
    "    #so based on past features to consider\n",
    "    #we will have data set limited by that number\n",
    "    noRowsX = matX.shape[0] - pastFeatures - futureFeature\n",
    "\n",
    "    #initialise m*n dimensional array for X(where n is number of past features)\n",
    "    #where m is total number data points for the training and testing\n",
    "    #m will be noRowsX\n",
    "    retXMat = np.zeros(shape=(noRowsX,(pastFeatures*matX.shape[1])))\n",
    "        \n",
    "    #initialise noRowsX*column dimensional array for Y\n",
    "    retYMat = np.zeros(shape=(noRowsX))\n",
    "    \n",
    "                       \n",
    "    for i in range(0,noRowsX):\n",
    "        #numpy array with zero element\n",
    "        temp = np.zeros(0)\n",
    "        \n",
    "        for j in range(i,i+pastFeatures):\n",
    "            temp = np.append(temp,matX[j])\n",
    "        retXMat[i] = temp\n",
    "        retYMat[i] = matY[i+pastFeatures+futureFeature]\n",
    "    return retXMat,retYMat,noRowsX"
   ]
  },
  {
   "cell_type": "code",
   "execution_count": 13,
   "metadata": {},
   "outputs": [],
   "source": [
    "dataXTS,dataYTS,noOfSamples = make_time_series_data(dataX,dataY,3)"
   ]
  },
  {
   "cell_type": "code",
   "execution_count": 14,
   "metadata": {},
   "outputs": [],
   "source": [
    "from sklearn.model_selection import train_test_split\n",
    "from sklearn.model_selection import GridSearchCV\n",
    "from sklearn import preprocessing\n",
    "from sklearn import svm\n",
    "from sklearn.metrics import r2_score\n",
    "\n",
    "\n",
    "dataXTrain,dataXTest,dataYTrain,dataYTest = train_test_split(dataXTS\\\n",
    "                                                             ,dataYTS\\\n",
    "                                                             ,train_size = 0.8\\\n",
    "                                                             ,test_size = 0.2\\\n",
    "                                                             ,shuffle = False\\\n",
    "                                                            )"
   ]
  },
  {
   "cell_type": "code",
   "execution_count": 15,
   "metadata": {},
   "outputs": [
    {
     "name": "stdout",
     "output_type": "stream",
     "text": [
      "(7005, 3, 49)\n",
      "(1752, 3, 49)\n"
     ]
    }
   ],
   "source": [
    "dataXTrain = np.reshape(dataXTrain,(dataXTrain.shape[0],3, dataXTrain.shape[1]//3))\n",
    "dataXTest = np.reshape(dataXTest,(dataXTest.shape[0],3, dataXTest.shape[1]//3))\n",
    "print(dataXTrain.shape)\n",
    "print(dataXTest.shape)"
   ]
  },
  {
   "cell_type": "code",
   "execution_count": 16,
   "metadata": {},
   "outputs": [
    {
     "name": "stderr",
     "output_type": "stream",
     "text": [
      "Using TensorFlow backend.\n"
     ]
    }
   ],
   "source": [
    "from keras import Sequential\n",
    "from keras.layers import Dense, LSTM"
   ]
  },
  {
   "cell_type": "code",
   "execution_count": 17,
   "metadata": {},
   "outputs": [
    {
     "name": "stderr",
     "output_type": "stream",
     "text": [
      "WARNING: Logging before flag parsing goes to stderr.\n",
      "W0904 10:06:02.923606 139723839113024 deprecation_wrapper.py:119] From /home/jcharla/anaconda3/envs/jagir_ship_env/lib/python3.7/site-packages/keras/backend/tensorflow_backend.py:174: The name tf.get_default_session is deprecated. Please use tf.compat.v1.get_default_session instead.\n",
      "\n",
      "W0904 10:06:02.924270 139723839113024 deprecation_wrapper.py:119] From /home/jcharla/anaconda3/envs/jagir_ship_env/lib/python3.7/site-packages/keras/backend/tensorflow_backend.py:181: The name tf.ConfigProto is deprecated. Please use tf.compat.v1.ConfigProto instead.\n",
      "\n",
      "W0904 10:06:02.924665 139723839113024 deprecation_wrapper.py:119] From /home/jcharla/anaconda3/envs/jagir_ship_env/lib/python3.7/site-packages/keras/backend/tensorflow_backend.py:186: The name tf.Session is deprecated. Please use tf.compat.v1.Session instead.\n",
      "\n",
      "W0904 10:06:03.204010 139723839113024 deprecation_wrapper.py:119] From /home/jcharla/anaconda3/envs/jagir_ship_env/lib/python3.7/site-packages/keras/backend/tensorflow_backend.py:190: The name tf.global_variables is deprecated. Please use tf.compat.v1.global_variables instead.\n",
      "\n"
     ]
    },
    {
     "data": {
      "text/plain": [
       "['/job:localhost/replica:0/task:0/device:GPU:0']"
      ]
     },
     "execution_count": 17,
     "metadata": {},
     "output_type": "execute_result"
    }
   ],
   "source": [
    "from keras import backend as K\n",
    "K.tensorflow_backend._get_available_gpus()"
   ]
  },
  {
   "cell_type": "code",
   "execution_count": 18,
   "metadata": {},
   "outputs": [
    {
     "name": "stderr",
     "output_type": "stream",
     "text": [
      "W0904 10:06:03.225847 139723839113024 deprecation_wrapper.py:119] From /home/jcharla/anaconda3/envs/jagir_ship_env/lib/python3.7/site-packages/keras/backend/tensorflow_backend.py:74: The name tf.get_default_graph is deprecated. Please use tf.compat.v1.get_default_graph instead.\n",
      "\n",
      "W0904 10:06:03.622868 139723839113024 deprecation_wrapper.py:119] From /home/jcharla/anaconda3/envs/jagir_ship_env/lib/python3.7/site-packages/keras/optimizers.py:790: The name tf.train.Optimizer is deprecated. Please use tf.compat.v1.train.Optimizer instead.\n",
      "\n"
     ]
    }
   ],
   "source": [
    "from keras import Sequential\n",
    "from keras.layers import Dense, LSTM\n",
    "\n",
    "model = Sequential()\n",
    "model.add(LSTM(units=30, return_sequences= True, input_shape=(dataXTrain.shape[1],dataXTrain.shape[2])))\n",
    "model.add(LSTM(units=30, return_sequences=True))\n",
    "model.add(LSTM(units=30))\n",
    "model.add(Dense(units=1))\n",
    "\n",
    "model.compile(loss='mae', optimizer='adam')"
   ]
  },
  {
   "cell_type": "code",
   "execution_count": 19,
   "metadata": {},
   "outputs": [
    {
     "name": "stderr",
     "output_type": "stream",
     "text": [
      "W0904 10:06:03.797242 139723839113024 deprecation.py:323] From /home/jcharla/anaconda3/envs/jagir_ship_env/lib/python3.7/site-packages/tensorflow/python/ops/math_grad.py:1250: add_dispatch_support.<locals>.wrapper (from tensorflow.python.ops.array_ops) is deprecated and will be removed in a future version.\n",
      "Instructions for updating:\n",
      "Use tf.where in 2.0, which has the same broadcast rule as np.where\n"
     ]
    },
    {
     "name": "stdout",
     "output_type": "stream",
     "text": [
      "Epoch 1/50\n",
      "7005/7005 [==============================] - 6s 873us/step - loss: 0.0849\n",
      "Epoch 2/50\n",
      "7005/7005 [==============================] - 4s 503us/step - loss: 0.0575\n",
      "Epoch 3/50\n",
      "7005/7005 [==============================] - 4s 559us/step - loss: 0.0544\n",
      "Epoch 4/50\n",
      "7005/7005 [==============================] - 4s 556us/step - loss: 0.0526\n",
      "Epoch 5/50\n",
      "7005/7005 [==============================] - 4s 535us/step - loss: 0.0510\n",
      "Epoch 6/50\n",
      "7005/7005 [==============================] - 4s 516us/step - loss: 0.0489\n",
      "Epoch 7/50\n",
      "7005/7005 [==============================] - 3s 479us/step - loss: 0.0465\n",
      "Epoch 8/50\n",
      "7005/7005 [==============================] - 4s 540us/step - loss: 0.0451\n",
      "Epoch 9/50\n",
      "7005/7005 [==============================] - 3s 483us/step - loss: 0.0451\n",
      "Epoch 10/50\n",
      "7005/7005 [==============================] - 4s 528us/step - loss: 0.0443\n",
      "Epoch 11/50\n",
      "7005/7005 [==============================] - 4s 534us/step - loss: 0.0427\n",
      "Epoch 12/50\n",
      "7005/7005 [==============================] - 4s 592us/step - loss: 0.0425\n",
      "Epoch 13/50\n",
      "7005/7005 [==============================] - 4s 503us/step - loss: 0.0427\n",
      "Epoch 14/50\n",
      "7005/7005 [==============================] - 4s 552us/step - loss: 0.0421\n",
      "Epoch 15/50\n",
      "7005/7005 [==============================] - 4s 533us/step - loss: 0.0421\n",
      "Epoch 16/50\n",
      "7005/7005 [==============================] - 4s 521us/step - loss: 0.0417\n",
      "Epoch 17/50\n",
      "7005/7005 [==============================] - 4s 531us/step - loss: 0.0415\n",
      "Epoch 18/50\n",
      "7005/7005 [==============================] - 3s 483us/step - loss: 0.0414\n",
      "Epoch 19/50\n",
      "7005/7005 [==============================] - 4s 555us/step - loss: 0.0413\n",
      "Epoch 20/50\n",
      "7005/7005 [==============================] - 4s 568us/step - loss: 0.0409\n",
      "Epoch 21/50\n",
      "7005/7005 [==============================] - 4s 585us/step - loss: 0.0409\n",
      "Epoch 22/50\n",
      "7005/7005 [==============================] - 4s 532us/step - loss: 0.0410\n",
      "Epoch 23/50\n",
      "7005/7005 [==============================] - 4s 522us/step - loss: 0.0409\n",
      "Epoch 24/50\n",
      "7005/7005 [==============================] - 4s 545us/step - loss: 0.0408\n",
      "Epoch 25/50\n",
      "7005/7005 [==============================] - 4s 507us/step - loss: 0.0406\n",
      "Epoch 26/50\n",
      "7005/7005 [==============================] - 4s 504us/step - loss: 0.0404\n",
      "Epoch 27/50\n",
      "7005/7005 [==============================] - 4s 517us/step - loss: 0.0408\n",
      "Epoch 28/50\n",
      "7005/7005 [==============================] - 4s 539us/step - loss: 0.0410\n",
      "Epoch 29/50\n",
      "7005/7005 [==============================] - 4s 530us/step - loss: 0.0401\n",
      "Epoch 30/50\n",
      "7005/7005 [==============================] - 4s 531us/step - loss: 0.0403\n",
      "Epoch 31/50\n",
      "7005/7005 [==============================] - 4s 574us/step - loss: 0.0401\n",
      "Epoch 32/50\n",
      "7005/7005 [==============================] - 4s 541us/step - loss: 0.0400\n",
      "Epoch 33/50\n",
      "7005/7005 [==============================] - 4s 512us/step - loss: 0.0401\n",
      "Epoch 34/50\n",
      "7005/7005 [==============================] - 3s 474us/step - loss: 0.0400\n",
      "Epoch 35/50\n",
      "7005/7005 [==============================] - 3s 443us/step - loss: 0.0400\n",
      "Epoch 36/50\n",
      "7005/7005 [==============================] - 4s 501us/step - loss: 0.0400\n",
      "Epoch 37/50\n",
      "7005/7005 [==============================] - 3s 487us/step - loss: 0.0399\n",
      "Epoch 38/50\n",
      "7005/7005 [==============================] - 3s 489us/step - loss: 0.0399\n",
      "Epoch 39/50\n",
      "7005/7005 [==============================] - 3s 468us/step - loss: 0.0397\n",
      "Epoch 40/50\n",
      "7005/7005 [==============================] - 4s 536us/step - loss: 0.0397\n",
      "Epoch 41/50\n",
      "7005/7005 [==============================] - 4s 526us/step - loss: 0.0396\n",
      "Epoch 42/50\n",
      "7005/7005 [==============================] - 4s 525us/step - loss: 0.0397\n",
      "Epoch 43/50\n",
      "7005/7005 [==============================] - 4s 549us/step - loss: 0.0398\n",
      "Epoch 44/50\n",
      "7005/7005 [==============================] - 4s 506us/step - loss: 0.0395\n",
      "Epoch 45/50\n",
      "7005/7005 [==============================] - 4s 537us/step - loss: 0.0394\n",
      "Epoch 46/50\n",
      "7005/7005 [==============================] - 4s 530us/step - loss: 0.0393\n",
      "Epoch 47/50\n",
      "7005/7005 [==============================] - 4s 590us/step - loss: 0.0394\n",
      "Epoch 48/50\n",
      "7005/7005 [==============================] - 4s 583us/step - loss: 0.0395\n",
      "Epoch 49/50\n",
      "7005/7005 [==============================] - 4s 540us/step - loss: 0.0395\n",
      "Epoch 50/50\n",
      "7005/7005 [==============================] - 4s 557us/step - loss: 0.0391\n"
     ]
    },
    {
     "data": {
      "text/plain": [
       "<keras.callbacks.History at 0x7f1362635550>"
      ]
     },
     "execution_count": 19,
     "metadata": {},
     "output_type": "execute_result"
    }
   ],
   "source": [
    "model.fit(dataXTrain, dataYTrain, epochs=50, batch_size=32)"
   ]
  },
  {
   "cell_type": "code",
   "execution_count": 20,
   "metadata": {},
   "outputs": [],
   "source": [
    "predTrain = model.predict(dataXTrain)\n",
    "predTest = model.predict(dataXTest)"
   ]
  },
  {
   "cell_type": "code",
   "execution_count": 21,
   "metadata": {},
   "outputs": [],
   "source": [
    "dataYTest = np.reshape(dataYTest,(dataYTest.shape[0],1))\n",
    "predTest = np.reshape(predTest,(predTest.shape[0],1))"
   ]
  },
  {
   "cell_type": "code",
   "execution_count": 22,
   "metadata": {},
   "outputs": [],
   "source": [
    "dataYTest = scY.inverse_transform(dataYTest)\n",
    "predTest = scY.inverse_transform(predTest)"
   ]
  },
  {
   "cell_type": "code",
   "execution_count": 23,
   "metadata": {},
   "outputs": [
    {
     "data": {
      "text/plain": [
       "[<matplotlib.lines.Line2D at 0x7f13cafa70b8>]"
      ]
     },
     "execution_count": 23,
     "metadata": {},
     "output_type": "execute_result"
    },
    {
     "data": {
      "image/png": "[encoded data removed]",
      "text/plain": [
       "<Figure size 432x288 with 1 Axes>"
      ]
     },
     "metadata": {
      "needs_background": "light"
     },
     "output_type": "display_data"
    }
   ],
   "source": [
    "plt.plot(dataYTest)\n",
    "plt.plot(predTest)"
   ]
  },
  {
   "cell_type": "code",
   "execution_count": 24,
   "metadata": {},
   "outputs": [
    {
     "data": {
      "image/png": "[encoded data removed]",
      "text/plain": [
       "<Figure size 432x288 with 2 Axes>"
      ]
     },
     "metadata": {
      "needs_background": "light"
     },
     "output_type": "display_data"
    }
   ],
   "source": [
    "ax1 = plt.subplot(1,2,1)\n",
    "ax1.set_ylim(min(np.min(predTest),np.min(dataYTest)),max(np.max(predTest),np.max(dataYTest)))\n",
    "ax1.plot(predTest)\n",
    "ax1.set_title(\"Prediction Test\")\n",
    "\n",
    "ax1 = plt.subplot(1,2,2)\n",
    "ax1.set_ylim(min(np.min(predTest),np.min(dataYTest)),max(np.max(predTest),np.max(dataYTest)))\n",
    "ax1.plot(dataYTest)\n",
    "ax1.set_title(\"Original Test\")\n",
    "plt.savefig(\"TestData\")"
   ]
  },
  {
   "cell_type": "code",
   "execution_count": 25,
   "metadata": {},
   "outputs": [
    {
     "name": "stdout",
     "output_type": "stream",
     "text": [
      "(1752, 1)\n",
      "(1752, 1)\n"
     ]
    }
   ],
   "source": [
    "# fit_transform\n",
    "print(predTest.shape)\n",
    "print(dataYTest.shape)"
   ]
  },
  {
   "cell_type": "code",
   "execution_count": 26,
   "metadata": {},
   "outputs": [
    {
     "data": {
      "text/plain": [
       "[<matplotlib.lines.Line2D at 0x7f130424a748>]"
      ]
     },
     "execution_count": 26,
     "metadata": {},
     "output_type": "execute_result"
    },
    {
     "data": {
      "image/png": "[encoded data removed]",
      "text/plain": [
       "<Figure size 432x288 with 1 Axes>"
      ]
     },
     "metadata": {
      "needs_background": "light"
     },
     "output_type": "display_data"
    }
   ],
   "source": [
    "fig, ax = plt.subplots()\n",
    "diff = abs(predTest.flatten() - dataYTest.flatten())\n",
    "ax.set_title(\"Count Difference\")\n",
    "ax.plot(diff)\n",
    "# plt.savefig(\"CountDiff.png\")"
   ]
  }
 ],
 "metadata": {
  "kernelspec": {
   "display_name": "Python 3",
   "language": "python",
   "name": "python3"
  },
  "language_info": {
   "codemirror_mode": {
    "name": "ipython",
    "version": 3
   },
   "file_extension": ".py",
   "mimetype": "text/x-python",
   "name": "python",
   "nbconvert_exporter": "python",
   "pygments_lexer": "ipython3",
   "version": "3.7.3"
  }
 },
 "nbformat": 4,
 "nbformat_minor": 2
}
