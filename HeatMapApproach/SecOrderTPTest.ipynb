{
 "cells": [
  {
   "cell_type": "code",
   "execution_count": null,
   "metadata": {},
   "outputs": [],
   "source": [
    "%load_ext autoreload\n",
    "%autoreload 2"
   ]
  },
  {
   "cell_type": "code",
   "execution_count": null,
   "metadata": {},
   "outputs": [],
   "source": [
    "%matplotlib inline\n",
    "import sys\n",
    "import os\n",
    "import numpy as np\n",
    "import pandas as pd\n",
    "import scipy.sparse\n",
    "from scipy.sparse import csc_matrix\n",
    "from scipy.sparse import lil_matrix\n",
    "\n",
    "import matplotlib.pyplot as plt\n",
    "import matplotlib.animation as animation\n",
    "from mpl_toolkits.basemap import Basemap\n",
    "from matplotlib.patches import Circle\n",
    "import seaborn as sns; \n",
    "from IPython.display import HTML\n",
    "\n",
    "from sklearn.model_selection import train_test_split\n",
    "from sklearn.model_selection import GridSearchCV\n",
    "from sklearn import preprocessing\n",
    "from sklearn import svm\n",
    "from sklearn.metrics import r2_score"
   ]
  },
  {
   "cell_type": "code",
   "execution_count": null,
   "metadata": {},
   "outputs": [],
   "source": [
    "#config parser\n",
    "import configparser\n",
    "\n",
    "sys.path.insert(0, '../Common/')\n",
    "from AISDataManager import AISDataManager\n",
    "import Constants as c\n",
    "import HMUtils as hMUtil\n",
    "import TimeUtils as timeUtils\n",
    "import GeoCompute as gC\n",
    "\n",
    "#MyConfig.INI stores all the run time constants\n",
    "config = configparser.ConfigParser()\n",
    "config.read('../MyConfig.INI')\n",
    "\n",
    "from joblib import Parallel, delayed\n",
    "import multiprocessing\n",
    "aISDM = AISDataManager()\n",
    "numCores = multiprocessing.cpu_count()"
   ]
  },
  {
   "cell_type": "code",
   "execution_count": null,
   "metadata": {},
   "outputs": [],
   "source": [
    "lonMin = (float)(config['TP_SEC_ORDER']['LON_MIN'])\n",
    "lonMax = (float)(config['TP_SEC_ORDER']['LON_MAX'])\n",
    "\n",
    "latMin = (float)(config['TP_SEC_ORDER']['LAT_MIN'])\n",
    "latMax = (float)(config['TP_SEC_ORDER']['LAT_MAX'])\n",
    "\n",
    "print(lonMin,latMin)\n",
    "print(lonMax,latMax)\n",
    "\n",
    "increStep = (float)(config['TP_SEC_ORDER']['INCR_STEP'])\n",
    "incrRes = (int)(config['TP_SEC_ORDER']['INCR_RES'])\n",
    "\n",
    "fileDir = config['TP_SEC_ORDER']['SOURCE_DIR']\n",
    "dirToStore = config['TP_SEC_ORDER']['DEST_DIR']\n",
    "\n",
    "print(\"SOURCE_DIR = %s\"%fileDir)\n",
    "print(\"DEST_DIR = %s\"%dirToStore)"
   ]
  },
  {
   "cell_type": "code",
   "execution_count": null,
   "metadata": {},
   "outputs": [],
   "source": [
    "heatMapGrid = hMUtil.generate_grid(lonMin, lonMax, latMin, latMax, increStep, incrRes)"
   ]
  },
  {
   "cell_type": "code",
   "execution_count": null,
   "metadata": {},
   "outputs": [],
   "source": [
    "boundaryArray = heatMapGrid[2]\n",
    "horizontalAxis = heatMapGrid[0]\n",
    "verticalAxis = heatMapGrid[1]\n",
    "totalStates = horizontalAxis.shape[0] * verticalAxis.shape[0]"
   ]
  },
  {
   "cell_type": "code",
   "execution_count": null,
   "metadata": {},
   "outputs": [],
   "source": [
    "opFile = dirToStore + 'TPM.npz'\n",
    "# opFile = dirToStore + 'TPM_.npz'\n",
    "tpMatrix = scipy.sparse.load_npz(opFile)\n",
    "\n",
    "# opFile = dirToStore + 'TPM.npy'\n",
    "# tpMatrix = np.load(opFile)"
   ]
  },
  {
   "cell_type": "code",
   "execution_count": null,
   "metadata": {},
   "outputs": [],
   "source": [
    "print(tpMatrix.sum())"
   ]
  },
  {
   "cell_type": "code",
   "execution_count": null,
   "metadata": {},
   "outputs": [],
   "source": [
    "def get_vessel_init_status(lonStart,latStart):\n",
    "    vesselState = np.zeros((horizontalAxis.shape[0]*verticalAxis.shape[0]))\n",
    "    for boundary in boundaryArray :\n",
    "        if((lonStart >= boundary[0]) \\\n",
    "            and (lonStart < boundary[1]) \\\n",
    "           \n",
    "            and (latStart >= boundary[2]) \\\n",
    "            and (latStart < boundary[3]) \\\n",
    "          ):\n",
    "            vesselState[boundary[4]] = 1.0\n",
    "            break\n",
    "    return vesselState"
   ]
  },
  {
   "cell_type": "code",
   "execution_count": null,
   "metadata": {},
   "outputs": [],
   "source": [
    "#takes inital state vector\n",
    "#and number of steps \n",
    "#uses transition probabilities to generate the path\n",
    "def generate_path(vesselStatus):\n",
    "    return (vesselStatus.T @ tpMatrix).flatten()"
   ]
  },
  {
   "cell_type": "code",
   "execution_count": null,
   "metadata": {},
   "outputs": [],
   "source": [
    "def generate_vessel_prev_cur_status(prevState,currState):\n",
    "    vesselState = np.zeros((totalStates*totalStates))\n",
    "    stateCounter = 0\n",
    "    for i in range(prevState.shape[0]):\n",
    "        for j in range(currState.shape[0]):\n",
    "            vesselState[stateCounter] = prevState[i]*currState[j]\n",
    "            stateCounter = stateCounter + 1\n",
    "    return vesselState"
   ]
  },
  {
   "cell_type": "code",
   "execution_count": null,
   "metadata": {},
   "outputs": [],
   "source": [
    "\n",
    "# oneVessel = \"../Data/M120_50_M119_00_33_90_34_38/MMSI/566952000_Sorted.csv\"\n",
    "# oneVessel = \"../Data/M120_00_M119_50_34_12_34_24/MMSI/636012801_Sorted.csv\"\n",
    "# oneVessel = \"../Data/M119_50_M119_00_34_00_34_16/MMSI/367353080_Sorted.csv\"\n",
    "# oneVessel = \"../Data/M119_50_M119_00_34_00_34_16/MMSI/636012801_Sorted.csv\"\n",
    "#For fishing\n",
    "# oneVessel = \"../Data/M120_50_M119_00_33_90_34_44/MMSI/367481870_Sorted.csv\"\n",
    "# oneVessel = \"../Data/M120_50_M119_00_33_90_34_44/MMSI/367457870_Sorted.csv\"\n",
    "# oneVessel = \"../Data/M120_50_M119_00_33_50_33_90/MMSI/352135000_Sorted.csv\"\n",
    "# oneVessel = \"../Data/M120_50_M119_00_33_90_34_44/MMSI/374128000_Sorted.csv\"\n",
    "\n",
    "# oneVessel = \"../Data/M120_50_M119_00_33_90_34_44/MMSI/355649000_Sorted.csv\"\n",
    "oneVessel = \"../Data/M120_50_M119_00_33_90_34_44/MMSI/565819000_Sorted.csv\"\n",
    "# oneVessel = \"../Data/M120_50_M119_00_33_90_34_44/MMSI/636091434_Sorted.csv\"\n",
    "# oneVessel = \"../Data/M119_00_M118_00_33_50_33_90/MMSI/355856000_Sorted.csv\"\n",
    "# oneVessel = \"../Data/M119_00_M118_00_33_50_33_90/MMSI/477316000_Sorted.csv\"\n",
    "\n",
    "fix,ax = plt.subplots()\n",
    "oneVesselData,_ = aISDM.load_data_from_csv(oneVessel)\n",
    "print(oneVesselData.shape)\n",
    "oneVesselLon = oneVesselData['LON']\n",
    "oneVesselLat = oneVesselData['LAT']\n",
    "ax.set_xlim(lonMin, lonMax)\n",
    "ax.set_ylim(latMin, latMax)\n",
    "ax.plot(oneVesselLon,oneVesselLat)"
   ]
  },
  {
   "cell_type": "code",
   "execution_count": null,
   "metadata": {},
   "outputs": [],
   "source": [
    "oneVesselTime = oneVesselData['DateTime']\n",
    "for i in range(oneVesselLon.shape[0]):\n",
    "    print(i,oneVesselTime[i])"
   ]
  },
  {
   "cell_type": "code",
   "execution_count": null,
   "metadata": {},
   "outputs": [],
   "source": [
    "timeIntervalList = \"../Data/TimeInterval/HalfHourIntvl1701To1702_00.txt\"\n",
    "# timeIntervalList = \"../Data/TimeInterval/HalfHourIntvl1702To1703_00.txt\"\n",
    "# timeIntervalList = \"../Data/TimeInterval/HalfHourIntvl1704To1705_00.txt\"\n",
    "# timeIntervalList = \"../Data/TimeInterval/HalfHourIntvl1706To1707_00.txt\"\n",
    "# timeIntervalList = \"../Data/TimeInterval/HalfHourIntvl1704To1704_00.txt\"\n",
    "# timeIntervalList = \"../Data/TimeInterval/HalfHourIntvl1711To1712_00.txt\"\n",
    "# timeIntervalList = \"../Data/TimeInterval/HalfHourIntvl1712To1801_00.txt\"\n",
    "# timeIntervalList = \"../Data/TimeInterval/HalfHourIntvl1712To1801_00.txt\"\n",
    "timeWindows = [line.rstrip('\\n') for line in open(timeIntervalList)]"
   ]
  },
  {
   "cell_type": "code",
   "execution_count": null,
   "metadata": {},
   "outputs": [],
   "source": [
    "#get the last instance of the position data \n",
    "#for one of the vessel\n",
    "#and that can be used for the prediction\n",
    "oneVesselLastData = pd.DataFrame()\n",
    "#based on time stamps \n",
    "for timeSlot in timeWindows:\n",
    "    temp = timeSlot.split(',')\n",
    "    startTime = temp[0]\n",
    "    endTime = temp[1]\n",
    "\n",
    "    timelyDF = aISDM.filter_based_on_time_stamp(oneVesselData,'DateTime',startTime,endTime)\n",
    "    oneVesselRows = timelyDF.shape[0]\n",
    "    \n",
    "    invertedTimelyDF = aISDM.inver_df(timelyDF)\n",
    "    invertedTimelyDF = invertedTimelyDF.drop_duplicates(subset=\"MMSI\")\n",
    "    \n",
    "    oneVesselLastData = oneVesselLastData.append(invertedTimelyDF, ignore_index = True)"
   ]
  },
  {
   "cell_type": "code",
   "execution_count": null,
   "metadata": {},
   "outputs": [],
   "source": [
    "oneVesselTime = oneVesselLastData['DateTime']\n",
    "# oneVesselTime = oneVesselLastData['LON']\n",
    "for i in range(oneVesselTime.shape[0]):\n",
    "    print(i,oneVesselTime[i])"
   ]
  },
  {
   "cell_type": "code",
   "execution_count": null,
   "metadata": {},
   "outputs": [],
   "source": [
    "oneVesselLon = oneVesselLastData['LON']\n",
    "oneVesselLat = oneVesselLastData['LAT']\n",
    "for i in range(oneVesselLon.shape[0]):\n",
    "    print(i,oneVesselLon[i],oneVesselLat[i])"
   ]
  },
  {
   "cell_type": "code",
   "execution_count": null,
   "metadata": {},
   "outputs": [],
   "source": [
    "#divide the journey into two parts\n",
    "#part 1 is from 0 to 16 included\n",
    "#part 2 is from 17 to 42 included\n",
    "# oneVesselLastDataOne = oneVesselLastData.iloc[0:16,:]\n",
    "# oneVesselLastDataOne = oneVesselLastData.iloc[:,:]\n",
    "# oneVesselLastDataTwo = oneVesselLastData.iloc[338:350,:]\n",
    "# oneVesselLastDataOne = oneVesselLastData.iloc[0:15,:]\n",
    "oneVesselLastDataOne = oneVesselLastData.iloc[:,:]"
   ]
  },
  {
   "cell_type": "code",
   "execution_count": null,
   "metadata": {},
   "outputs": [],
   "source": [
    "print(oneVesselLastDataOne)"
   ]
  },
  {
   "cell_type": "code",
   "execution_count": null,
   "metadata": {},
   "outputs": [],
   "source": [
    "print(oneVesselLastDataTwo)"
   ]
  },
  {
   "cell_type": "code",
   "execution_count": null,
   "metadata": {},
   "outputs": [],
   "source": [
    "oneVessel = \"../Data/M120_50_M119_00_33_90_34_44/MMSIContainer/100.csv\"\n",
    "oneVesselLastDataOne,_ = aISDM.load_data_from_csv(oneVessel)"
   ]
  },
  {
   "cell_type": "code",
   "execution_count": null,
   "metadata": {},
   "outputs": [],
   "source": [
    "print(oneVesselLastDataOne)"
   ]
  },
  {
   "cell_type": "code",
   "execution_count": null,
   "metadata": {},
   "outputs": [],
   "source": [
    "fix,ax = plt.subplots()\n",
    "oneVesselLastDataOneLon = oneVesselLastDataOne[\"LON\"]\n",
    "oneVesselLastDataOneLat = oneVesselLastDataOne[\"LAT\"]\n",
    "ax.set_xlim(lonMin, lonMax)\n",
    "ax.set_ylim(latMin, latMax)\n",
    "ax.plot(oneVesselLastDataOneLon,oneVesselLastDataOneLat)"
   ]
  },
  {
   "cell_type": "code",
   "execution_count": null,
   "metadata": {},
   "outputs": [],
   "source": [
    "fix,ax = plt.subplots()\n",
    "oneVesselLastDataTwoLon = oneVesselLastDataTwo[\"LON\"]\n",
    "oneVesselLastDataTwoLat = oneVesselLastDataTwo[\"LAT\"]\n",
    "ax.set_xlim(lonMin, lonMax)\n",
    "ax.set_ylim(latMin, latMax)\n",
    "ax.plot(oneVesselLastDataTwoLon,oneVesselLastDataTwoLat)"
   ]
  },
  {
   "cell_type": "code",
   "execution_count": null,
   "metadata": {},
   "outputs": [],
   "source": [
    "def generate_vessel_prev_cur_status_(prevState,currState):\n",
    "    vesselState = np.zeros((prevState.shape[0]*currState.shape[0]))\n",
    "    stateCounter = 0\n",
    "    for i in range(prevState.shape[0]):\n",
    "        for j in range(currState.shape[0]):\n",
    "            vesselState[stateCounter] = prevState[i]*currState[j]\n",
    "            stateCounter = stateCounter + 1\n",
    "    return vesselState"
   ]
  },
  {
   "cell_type": "code",
   "execution_count": null,
   "metadata": {},
   "outputs": [],
   "source": [
    "# from scipy.io import savemat\n",
    "# from scipy import sparse\n",
    "# vesselPrevState = get_vessel_init_status(oneVesselLastDataOneLon.iloc[0],oneVesselLastDataOneLat.iloc[0])\n",
    "# vesselCurrState = get_vessel_init_status(oneVesselLastDataOneLon.iloc[1],oneVesselLastDataOneLat.iloc[1])\n",
    "# savemat('VesselPrev', {'M':vesselPrevState})\n",
    "# savemat('VesselCurr', {'M':vesselCurrState})\n",
    "# savemat('TrPM', {'M':tpMatrix})"
   ]
  },
  {
   "cell_type": "code",
   "execution_count": null,
   "metadata": {},
   "outputs": [],
   "source": [
    "rowSum = np.sum(tpMatrix, axis=1)\n",
    "rowSumZeroIdx = np.argwhere(rowSum == 0)\n",
    "rowSumZeroIdx = rowSumZeroIdx.flatten()"
   ]
  },
  {
   "cell_type": "code",
   "execution_count": null,
   "metadata": {},
   "outputs": [],
   "source": [
    "vesselPrevState = get_vessel_init_status(oneVesselLastDataOneLon.iloc[0],oneVesselLastDataOneLat.iloc[0])\n",
    "vesselCurrState = get_vessel_init_status(oneVesselLastDataOneLon.iloc[1],oneVesselLastDataOneLat.iloc[1])\n",
    "vesselState = generate_vessel_prev_cur_status(vesselPrevState,vesselCurrState)\n",
    "onePredict = []\n",
    "for i in range(13):\n",
    "    vesselProbState = generate_path(vesselState)\n",
    "    print(i)\n",
    "    print(np.sum(vesselProbState))\n",
    "    onePredict.append(vesselProbState.copy())\n",
    "    vesselPrevState = vesselCurrState.copy()\n",
    "    vesselCurrState = vesselProbState.copy()\n",
    "    vesselState = generate_vessel_prev_cur_status(vesselPrevState,vesselCurrState)\n",
    "    #make probabilities zero\n",
    "    vesselState[rowSumZeroIdx] = 0\n",
    "    vesselState = vesselState/np.sum(vesselState)\n",
    "    print(np.sum(vesselState))"
   ]
  },
  {
   "cell_type": "code",
   "execution_count": null,
   "metadata": {},
   "outputs": [],
   "source": [
    "# destDispDir = \"../Data/M120_50_M119_00_33_90_34_44/Display/Traj1/\"\n",
    "# for prediction in range(len(onePredict)):\n",
    "#     opFile = destDispDir + str(prediction) +'.npy'\n",
    "#     np.save(opFile,onePredict[prediction])\n",
    "    \n",
    "# aISDM.save_data_to_csv(oneVesselLastDataOne,(destDispDir+'/True.csv'))\n",
    "\n",
    "# destDispDir = \"../Data/M120_50_M119_00_33_90_34_44/Display/Traj2/\"\n",
    "# for prediction in range(len(onePredict)):\n",
    "#     opFile = destDispDir + str(prediction) +'.npy'\n",
    "#     np.save(opFile,onePredict[prediction])\n",
    "    \n",
    "# aISDM.save_data_to_csv(oneVesselLastDataOne,(destDispDir+'/True.csv'))\n",
    "\n",
    "# destDispDir = \"../Data/M120_50_M119_00_33_90_34_44/Display/Traj3/\"\n",
    "# for prediction in range(len(onePredict)):\n",
    "#     opFile = destDispDir + str(prediction) +'.npy'\n",
    "#     np.save(opFile,onePredict[prediction])\n",
    "    \n",
    "# aISDM.save_data_to_csv(oneVesselLastDataOne,(destDispDir+'/True.csv'))\n",
    "\n",
    "destDispDir = \"../Data/M120_50_M119_00_33_90_34_44/Display/Traj4/\"\n",
    "for prediction in range(len(onePredict)):\n",
    "    opFile = destDispDir + str(prediction) +'.npy'\n",
    "    np.save(opFile,onePredict[prediction])\n",
    "    \n",
    "aISDM.save_data_to_csv(oneVesselLastDataOne,(destDispDir+'/True.csv'))"
   ]
  },
  {
   "cell_type": "code",
   "execution_count": null,
   "metadata": {},
   "outputs": [],
   "source": [
    "boundaryPad = 0.4\n",
    "horizontalAxisPad, verticalAxisPad, _ = hMUtil.generate_grid((lonMin - boundaryPad) \\\n",
    "                                                             , (lonMax + boundaryPad) \\\n",
    "                                                             , (latMin - boundaryPad) \\\n",
    "                                                             , (latMax + boundaryPad) \\\n",
    "                                                             , increStep \\\n",
    "                                                             , incrRes \\\n",
    "                                                            )\n",
    "print(horizontalAxisPad.shape)\n",
    "print(verticalAxisPad.shape)\n",
    "print(horizontalAxis.shape)\n",
    "print(verticalAxis.shape)\n",
    "horzontalPad = (horizontalAxisPad.shape[0] - horizontalAxis.shape[0]) // 2\n",
    "print(horzontalPad)\n",
    "verticalPad = (verticalAxisPad.shape[0] - verticalAxis.shape[0]) // 2\n",
    "print(verticalPad)"
   ]
  },
  {
   "cell_type": "code",
   "execution_count": null,
   "metadata": {},
   "outputs": [],
   "source": [
    "#function which will convert the state vector into formate whih\n",
    "#can be displayed on the map\n",
    "def formate_position_data_for_visual(vesselCurrPos):\n",
    "#     print(vesselCurrPos.shape)    \n",
    "    #get array of 0s, which needs to be padded from left and right\n",
    "    #dimension of that would be\n",
    "    \n",
    "    horizontalPadNP = np.zeros((verticalAxis.shape[0],horzontalPad))\n",
    "#     print(horizontalPadNP.shape)\n",
    "    ret = np.reshape(vesselCurrPos,(verticalAxis.shape[0],horizontalAxis.shape[0]))\n",
    "    ret = np.flip(ret,axis=0)\n",
    "\n",
    "    vesselCurrPosPad = np.hstack((horizontalPadNP,ret,horizontalPadNP))\n",
    "#     print(vesselCurrPosPad.shape)\n",
    "\n",
    "    verticalPadNP = np.zeros((verticalPad,vesselCurrPosPad.shape[1]))\n",
    "#     print(verticalPadNP.shape)\n",
    "    \n",
    "    vesselCurrPosPad = np.vstack((verticalPadNP,vesselCurrPosPad,verticalPadNP))\n",
    "#     print(vesselCurrPosPad.shape)\n",
    "    return vesselCurrPosPad"
   ]
  },
  {
   "cell_type": "code",
   "execution_count": null,
   "metadata": {},
   "outputs": [],
   "source": [
    "vesselCurrPos = get_vessel_init_status(oneVesselLastDataOneLon.iloc[i+2],oneVesselLastDataOneLat.iloc[i+2])"
   ]
  },
  {
   "cell_type": "code",
   "execution_count": null,
   "metadata": {},
   "outputs": [],
   "source": [
    "vesselCurrPosImg = formate_position_data_for_visual(vesselCurrPos)"
   ]
  },
  {
   "cell_type": "code",
   "execution_count": null,
   "metadata": {},
   "outputs": [],
   "source": [
    "unrolledValue = np.where(vesselCurrPosImg > 0)\n",
    "print(unrolledValue[0][0])\n",
    "print(unrolledValue[1][0])"
   ]
  },
  {
   "cell_type": "code",
   "execution_count": null,
   "metadata": {},
   "outputs": [],
   "source": [
    "bGImg = plt.imread(\"ROIResize.png\")\n",
    "print(bGImg.shape)"
   ]
  },
  {
   "cell_type": "code",
   "execution_count": null,
   "metadata": {},
   "outputs": [],
   "source": [
    "print(vesselCurrPosImg.shape)"
   ]
  },
  {
   "cell_type": "code",
   "execution_count": null,
   "metadata": {},
   "outputs": [],
   "source": [
    "def draw_vessels_on_map(x,y):\n",
    "    ret = np.zeros((bGImg.shape[0], bGImg.shape[1]))\n",
    "    #get range of pixels in that row to make plus\n",
    "    rowPixelMin = y - 3\n",
    "    if(rowPixelMin < 0):\n",
    "        rowPixelMin = 0\n",
    "        \n",
    "    \n",
    "    rowPixelMax = y + 3 + 1\n",
    "    #if more than number of rows\n",
    "    if(rowPixelMax >= bGImg.shape[0]):\n",
    "        rowPixelMax = bGImg.shape[0]\n",
    "        \n",
    "    colPixelMin = x - 3\n",
    "    if(colPixelMin < 0):\n",
    "        colPixelMin = 0\n",
    "        \n",
    "    colPixelMax = x + 3 + 1\n",
    "    if(colPixelMax >= bGImg.shape[1]):\n",
    "        colPixelMax = bGImg.shape[1]\n",
    "        \n",
    "    print(rowPixelMin)\n",
    "    print(rowPixelMax)\n",
    "    ret[rowPixelMin:rowPixelMax,x] = 1\n",
    "    ret[y,colPixelMin:colPixelMax] = 1\n",
    "    \n",
    "#     ret[rowPixelMin:rowPixelMax,colPixelMin:colPixelMax] = 1\n",
    "#     return np.flip(ret,axis=0)\n",
    "    return ret"
   ]
  },
  {
   "cell_type": "code",
   "execution_count": null,
   "metadata": {},
   "outputs": [],
   "source": [
    "tempImg = draw_vessels_on_map(unrolledValue[1][0],unrolledValue[0][0])"
   ]
  },
  {
   "cell_type": "code",
   "execution_count": null,
   "metadata": {},
   "outputs": [],
   "source": [
    "# vesselPrevState = get_vessel_init_status(oneVesselLastDataOneLon.iloc[0],oneVesselLastDataOneLat.iloc[0])\n",
    "# vesselCurrState = get_vessel_init_status(oneVesselLastDataOneLon.iloc[1],oneVesselLastDataOneLat.iloc[1])\n",
    "# vesselState = generate_vessel_prev_cur_status(vesselPrevState,vesselCurrState)\n",
    "# useAspect = 0\n",
    "# aspectRatio = 16.0/9.0\n",
    "# figWidth = 10\n",
    "# figHeight = 8\n",
    "\n",
    "# fig = plt.figure(figsize=(figWidth,figHeight))\n",
    "fig = plt.figure(figsize=(12,8))\n",
    "# ax1 = fig.add_axes([0.1, 0.15, 0.49, 0.30])\n",
    "# ax2 = fig.add_axes([0.1, 0.55, 0.49, 0.30])\n",
    "# ax4 = fig.add_axes([0.8, 0.55, 0.01, 0.30])\n",
    "\n",
    "ax1 = fig.add_axes([0.1, 0.1, 0.39, 0.70])\n",
    "ax2 = fig.add_axes([0.6, 0.1, 0.39, 0.70])\n",
    "# ax1 = fig.add_axes([0.1, 0.1, 0.45, 0.50])\n",
    "\n",
    "ax1.imshow(tempImg,cmap=plt.get_cmap('YlGnBu'),extent=[lonMin-boundaryPad \\\n",
    "                                                          ,lonMax+boundaryPad \\\n",
    "                                                          ,latMin-boundaryPad \\\n",
    "                                                          ,latMax+boundaryPad \\\n",
    "                                                         ])\n",
    "\n",
    "ax1.imshow(bGImg,extent=[lonMin-boundaryPad \\\n",
    "                        ,lonMax+boundaryPad \\\n",
    "                        ,latMin-boundaryPad \\\n",
    "                        ,latMax+boundaryPad \\\n",
    "                        ], alpha = 0.2)\n",
    "\n",
    "# ax1.plot(oneVesselLastDataOneLon.iloc[i+2],oneVesselLastDataOneLat.iloc[i+2])\n",
    "\n",
    "ax2.imshow(vesselCurrPosImg,cmap=plt.get_cmap('hot'),extent=[lonMin-boundaryPad \\\n",
    "                                                          ,lonMax+boundaryPad \\\n",
    "                                                          ,latMin-boundaryPad \\\n",
    "                                                          ,latMax+boundaryPad \\\n",
    "                                                         ])\n",
    "\n",
    "ax1.set_xticks([lonMin-boundaryPad,lonMax+boundaryPad])\n",
    "ax1.set_yticks([latMin-boundaryPad,latMax+boundaryPad])\n",
    "\n",
    "ax2.set_xticks([lonMin-boundaryPad,lonMax+boundaryPad])\n",
    "ax2.set_yticks([latMin-boundaryPad,latMax+boundaryPad])\n",
    "    \n",
    "# ax2 = fig.add_axes([0.5, 0.1, 0.49, 0.30])\n",
    "# ax4 = fig.add_axes([0.9, 0.1, 0.01, 0.30])"
   ]
  },
  {
   "cell_type": "code",
   "execution_count": null,
   "metadata": {},
   "outputs": [],
   "source": [
    "vesselPrevState = get_vessel_init_status(oneVesselLastDataOneLon.iloc[0],oneVesselLastDataOneLat.iloc[0])\n",
    "vesselCurrState = get_vessel_init_status(oneVesselLastDataOneLon.iloc[1],oneVesselLastDataOneLat.iloc[1])\n",
    "vesselState = generate_vessel_prev_cur_status(vesselPrevState,vesselCurrState)\n",
    "useAspect = 0\n",
    "aspectRatio = 16.0/9.0\n",
    "figWidth = 10\n",
    "figHeight = 8\n",
    "\n",
    "fig = plt.figure(figsize=(figWidth,figHeight))\n",
    "ax1 = fig.add_axes([0.1, 0.15, 0.49, 0.30])\n",
    "ax2 = fig.add_axes([0.1, 0.55, 0.49, 0.30])\n",
    "ax4 = fig.add_axes([0.8, 0.55, 0.01, 0.30])\n",
    "\n",
    "if useAspect == 1:\n",
    "    figHeight = figWidth/aspectRatio\n",
    "\n",
    "def animate(i):\n",
    "    global vesselPrevState, vesselCurrState, vesselState\n",
    "    vesselCurrPos = get_vessel_init_status(oneVesselLastDataOneLon.iloc[i+2],oneVesselLastDataOneLat.iloc[i+2])\n",
    "    vesselCurrPos = np.reshape(vesselCurrPos,(verticalAxis.shape[0],horizontalAxis.shape[0]))\n",
    "    \n",
    "    vesselCurrPos = np.flip(vesselCurrPos,axis=0)\n",
    "\n",
    "    ax1.set_xlabel('Longitude')\n",
    "    ax1.set_ylabel('Lattitude')\n",
    "    titleStr = 'Vessel Position %d'%((i))\n",
    "    ax1.set_title(titleStr)\n",
    "    ax1.set_xticks([lonMin,lonMax])\n",
    "    ax1.set_yticks([latMin,latMax])\n",
    "\n",
    "    ax2.set_xlabel('Longitude')\n",
    "    ax2.set_ylabel('Lattitude')\n",
    "    ax2.set_title('Transition Probability Projection')\n",
    "    ax2.set_xticks([lonMin,lonMax])\n",
    "    ax2.set_yticks([latMin,latMax])\n",
    "\n",
    "    ax1.imshow(vesselCurrPos,cmap=plt.get_cmap('hot'),extent=[lonMin,lonMax,latMin,latMax])\n",
    "    #sequence of vessel states\n",
    "#     vesselProbState = generate_path(vesselState)\n",
    "#     #copy the file\n",
    "#     vesselPrevState = vesselCurrState.copy()\n",
    "#     vesselCurrState = vesselProbState.copy()\n",
    "#     vesselState = generate_vessel_prev_cur_status(vesselPrevState,vesselCurrState)\n",
    "    \n",
    "    vesselProbState = onePredict[i].copy()\n",
    "    vesselProbState = np.reshape(vesselProbState,(verticalAxis.shape[0],horizontalAxis.shape[0]))\n",
    "    vesselProbState = np.flip(vesselProbState,axis=0)\n",
    "    iMShowHandler = ax2.imshow(vesselProbState,cmap=plt.get_cmap('YlGnBu'),extent=[lonMin,lonMax,latMin,latMax], vmax = 0.1)\n",
    "    \n",
    "    fig.colorbar(iMShowHandler,ax4)\n",
    "    \n",
    "anim = animation.FuncAnimation(fig, animate,frames=13, interval=1000)"
   ]
  },
  {
   "cell_type": "code",
   "execution_count": null,
   "metadata": {},
   "outputs": [],
   "source": [
    "HTML(anim.to_html5_video())"
   ]
  },
  {
   "cell_type": "code",
   "execution_count": null,
   "metadata": {},
   "outputs": [],
   "source": [
    "Writer = animation.writers['ffmpeg']\n",
    "writer = Writer(fps=1, metadata=dict(artist='Me'), bitrate=1800)"
   ]
  },
  {
   "cell_type": "code",
   "execution_count": null,
   "metadata": {},
   "outputs": [],
   "source": [
    "# anim.save('TPSeqOneSecOrder.mp4', writer=writer)\n",
    "# anim.save('TPSeqTwoSecOrder.mp4', writer=writer)\n",
    "# anim.save('FishingVessel.mp4', writer=writer)\n",
    "anim.save('NewRegion3.mp4', writer=writer)"
   ]
  },
  {
   "cell_type": "code",
   "execution_count": null,
   "metadata": {},
   "outputs": [],
   "source": [
    "vesselPrevState = get_vessel_init_status(oneVesselLastDataTwoLon.iloc[0],oneVesselLastDataTwoLat.iloc[0])\n",
    "vesselCurrState = get_vessel_init_status(oneVesselLastDataTwoLon.iloc[1],oneVesselLastDataTwoLat.iloc[1])\n",
    "vesselState = generate_vessel_prev_cur_status(vesselPrevState,vesselCurrState)\n",
    "twoPredict = []\n",
    "for i in range(20):\n",
    "    vesselProbState = generate_path(vesselState)\n",
    "    print(i)\n",
    "    print(np.sum(vesselProbState))\n",
    "    twoPredict.append(vesselProbState.copy())\n",
    "    vesselPrevState = vesselCurrState.copy()\n",
    "    vesselCurrState = vesselProbState.copy()\n",
    "    vesselState = generate_vessel_prev_cur_status(vesselPrevState,vesselCurrState)\n",
    "    \n",
    "    vesselState[rowSumZeroIdx] = 0\n",
    "    vesselState = vesselState/np.sum(vesselState)"
   ]
  },
  {
   "cell_type": "code",
   "execution_count": null,
   "metadata": {},
   "outputs": [],
   "source": [
    "vesselPrevState = get_vessel_init_status(oneVesselLastDataTwoLon.iloc[0],oneVesselLastDataTwoLat.iloc[0])\n",
    "vesselCurrState = get_vessel_init_status(oneVesselLastDataTwoLon.iloc[1],oneVesselLastDataTwoLat.iloc[1])\n",
    "vesselState = generate_vessel_prev_cur_status(vesselPrevState,vesselCurrState)\n",
    "\n",
    "useAspect = 0\n",
    "aspectRatio = 16.0/9.0\n",
    "figWidth = 10\n",
    "figHeight = 8\n",
    "\n",
    "fig = plt.figure(figsize=(figWidth,figHeight))\n",
    "ax1 = fig.add_axes([0.1, 0.15, 0.49, 0.30])\n",
    "ax2 = fig.add_axes([0.1, 0.55, 0.49, 0.30])\n",
    "ax4 = fig.add_axes([0.8, 0.55, 0.01, 0.30])\n",
    "\n",
    "if useAspect == 1:\n",
    "    figHeight = figWidth/aspectRatio\n",
    "\n",
    "def animate(i):\n",
    "    global vesselPrevState, vesselCurrState, vesselState\n",
    "    vesselCurrPos = get_vessel_init_status(oneVesselLastDataTwoLon.iloc[i+2],oneVesselLastDataTwoLat.iloc[i+2])\n",
    "    vesselCurrPos = np.reshape(vesselCurrPos,(verticalAxis.shape[0],horizontalAxis.shape[0]))\n",
    "    \n",
    "    vesselCurrPos = np.flip(vesselCurrPos,axis=0)\n",
    "\n",
    "    ax1.set_xlabel('Longitude')\n",
    "    ax1.set_ylabel('Lattitude')\n",
    "    titleStr = 'Vessel Position %d'%((i))\n",
    "    ax1.set_title(titleStr)\n",
    "    ax1.set_xticks([lonMin,lonMax])\n",
    "    ax1.set_yticks([latMin,latMax])\n",
    "\n",
    "    ax2.set_xlabel('Longitude')\n",
    "    ax2.set_ylabel('Lattitude')\n",
    "    ax2.set_title('Transition Probability Projection')\n",
    "    ax2.set_xticks([lonMin,lonMax])\n",
    "    ax2.set_yticks([latMin,latMax])\n",
    "\n",
    "    ax1.imshow(vesselCurrPos,cmap=plt.get_cmap('hot'),extent=[lonMin,lonMax,latMin,latMax])\n",
    "    #sequence of vessel states\n",
    "    \n",
    "    vesselProbState = twoPredict[i].copy()\n",
    "    vesselProbState = np.reshape(vesselProbState,(verticalAxis.shape[0],horizontalAxis.shape[0]))\n",
    "    vesselProbState = np.flip(vesselProbState,axis=0)\n",
    "    \n",
    "    iMShowHandler = ax2.imshow(vesselProbState,cmap=plt.get_cmap('YlGnBu'),extent=[lonMin,lonMax,latMin,latMax], vmax = 0.1)\n",
    "    \n",
    "    fig.colorbar(iMShowHandler,ax4)\n",
    "    \n",
    "anim = animation.FuncAnimation(fig, animate,frames=20, interval=1000)\n"
   ]
  },
  {
   "cell_type": "code",
   "execution_count": null,
   "metadata": {},
   "outputs": [],
   "source": [
    "HTML(anim.to_html5_video())"
   ]
  },
  {
   "cell_type": "code",
   "execution_count": null,
   "metadata": {},
   "outputs": [],
   "source": [
    "anim.save('TPSeqTwoSecOrder.mp4', writer=writer)"
   ]
  }
 ],
 "metadata": {
  "kernelspec": {
   "display_name": "Python 3",
   "language": "python",
   "name": "python3"
  },
  "language_info": {
   "codemirror_mode": {
    "name": "ipython",
    "version": 3
   },
   "file_extension": ".py",
   "mimetype": "text/x-python",
   "name": "python",
   "nbconvert_exporter": "python",
   "pygments_lexer": "ipython3",
   "version": "3.7.3"
  }
 },
 "nbformat": 4,
 "nbformat_minor": 2
}
