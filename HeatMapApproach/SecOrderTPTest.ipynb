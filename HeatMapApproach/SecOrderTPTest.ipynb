{
 "cells": [
  {
   "cell_type": "code",
   "execution_count": 1,
   "metadata": {},
   "outputs": [],
   "source": [
    "%load_ext autoreload\n",
    "%autoreload 2"
   ]
  },
  {
   "cell_type": "code",
   "execution_count": 2,
   "metadata": {},
   "outputs": [],
   "source": [
    "%matplotlib inline\n",
    "import sys\n",
    "import os\n",
    "import numpy as np\n",
    "import pandas as pd\n",
    "import scipy.sparse\n",
    "from scipy.sparse import csc_matrix\n",
    "from scipy.sparse import lil_matrix\n",
    "\n",
    "import matplotlib.pyplot as plt\n",
    "import matplotlib.animation as animation\n",
    "from mpl_toolkits.basemap import Basemap\n",
    "from matplotlib.patches import Circle\n",
    "import seaborn as sns; \n",
    "from IPython.display import HTML\n",
    "\n",
    "from sklearn.model_selection import train_test_split\n",
    "from sklearn.model_selection import GridSearchCV\n",
    "from sklearn import preprocessing\n",
    "from sklearn import svm\n",
    "from sklearn.metrics import r2_score"
   ]
  },
  {
   "cell_type": "code",
   "execution_count": 3,
   "metadata": {},
   "outputs": [],
   "source": [
    "#config parser\n",
    "import configparser\n",
    "\n",
    "sys.path.insert(0, '../Common/')\n",
    "from AISDataManager import AISDataManager\n",
    "import Constants as c\n",
    "import HMUtils as hMUtil\n",
    "import TimeUtils as timeUtils\n",
    "import GeoCompute as gC\n",
    "\n",
    "#MyConfig.INI stores all the run time constants\n",
    "config = configparser.ConfigParser()\n",
    "config.read('../MyConfig.INI')\n",
    "\n",
    "from joblib import Parallel, delayed\n",
    "import multiprocessing\n",
    "aISDM = AISDataManager()\n",
    "numCores = multiprocessing.cpu_count()"
   ]
  },
  {
   "cell_type": "code",
   "execution_count": 4,
   "metadata": {},
   "outputs": [
    {
     "name": "stdout",
     "output_type": "stream",
     "text": [
      "-120.5 33.9\n",
      "-119.0 34.44\n",
      "SOURCE_DIR = ../Data/M120_50_M119_00_33_90_34_44/Container/\n",
      "DEST_DIR = ../Data/M120_50_M119_00_33_90_34_44/Container/SparseTP/\n"
     ]
    }
   ],
   "source": [
    "lonMin = (float)(config['TP_SEC_ORDER']['LON_MIN'])\n",
    "lonMax = (float)(config['TP_SEC_ORDER']['LON_MAX'])\n",
    "\n",
    "latMin = (float)(config['TP_SEC_ORDER']['LAT_MIN'])\n",
    "latMax = (float)(config['TP_SEC_ORDER']['LAT_MAX'])\n",
    "\n",
    "print(lonMin,latMin)\n",
    "print(lonMax,latMax)\n",
    "\n",
    "increStep = (float)(config['TP_SEC_ORDER']['INCR_STEP'])\n",
    "incrRes = (int)(config['TP_SEC_ORDER']['INCR_RES'])\n",
    "\n",
    "fileDir = config['TP_SEC_ORDER']['SOURCE_DIR']\n",
    "dirToStore = config['TP_SEC_ORDER']['DEST_DIR']\n",
    "\n",
    "print(\"SOURCE_DIR = %s\"%fileDir)\n",
    "print(\"DEST_DIR = %s\"%dirToStore)"
   ]
  },
  {
   "cell_type": "code",
   "execution_count": 5,
   "metadata": {},
   "outputs": [],
   "source": [
    "heatMapGrid = hMUtil.generate_grid(lonMin, lonMax, latMin, latMax, increStep, incrRes)"
   ]
  },
  {
   "cell_type": "code",
   "execution_count": 6,
   "metadata": {},
   "outputs": [],
   "source": [
    "boundaryArray = heatMapGrid[2]\n",
    "horizontalAxis = heatMapGrid[0]\n",
    "verticalAxis = heatMapGrid[1]\n",
    "totalStates = horizontalAxis.shape[0] * verticalAxis.shape[0]"
   ]
  },
  {
   "cell_type": "code",
   "execution_count": 7,
   "metadata": {},
   "outputs": [],
   "source": [
    "opFile = dirToStore + 'TPM.npz'\n",
    "# opFile = dirToStore + 'TPM_.npz'\n",
    "tpMatrix = scipy.sparse.load_npz(opFile)\n",
    "\n",
    "# opFile = dirToStore + 'TPM.npy'\n",
    "# tpMatrix = np.load(opFile)"
   ]
  },
  {
   "cell_type": "code",
   "execution_count": 8,
   "metadata": {},
   "outputs": [
    {
     "name": "stdout",
     "output_type": "stream",
     "text": [
      "37417.0\n"
     ]
    }
   ],
   "source": [
    "print(tpMatrix.sum())"
   ]
  },
  {
   "cell_type": "code",
   "execution_count": 9,
   "metadata": {},
   "outputs": [],
   "source": [
    "def get_vessel_init_status(lonStart,latStart):\n",
    "    vesselState = np.zeros((horizontalAxis.shape[0]*verticalAxis.shape[0]))\n",
    "    for boundary in boundaryArray :\n",
    "        if((lonStart >= boundary[0]) \\\n",
    "            and (lonStart < boundary[1]) \\\n",
    "           \n",
    "            and (latStart >= boundary[2]) \\\n",
    "            and (latStart < boundary[3]) \\\n",
    "          ):\n",
    "            vesselState[boundary[4]] = 1.0\n",
    "            break\n",
    "    return vesselState"
   ]
  },
  {
   "cell_type": "code",
   "execution_count": 10,
   "metadata": {},
   "outputs": [],
   "source": [
    "#takes inital state vector\n",
    "#and number of steps \n",
    "#uses transition probabilities to generate the path\n",
    "def generate_path(vesselStatus):\n",
    "    return (vesselStatus.T @ tpMatrix).flatten()"
   ]
  },
  {
   "cell_type": "code",
   "execution_count": 11,
   "metadata": {},
   "outputs": [],
   "source": [
    "def generate_vessel_prev_cur_status(prevState,currState):\n",
    "    vesselState = np.zeros((totalStates*totalStates))\n",
    "    stateCounter = 0\n",
    "    for i in range(prevState.shape[0]):\n",
    "        for j in range(currState.shape[0]):\n",
    "            vesselState[stateCounter] = prevState[i]*currState[j]\n",
    "            stateCounter = stateCounter + 1\n",
    "    return vesselState"
   ]
  },
  {
   "cell_type": "code",
   "execution_count": null,
   "metadata": {
    "scrolled": true
   },
   "outputs": [],
   "source": [
    "oneVessel = \"../Data/M120_50_M119_00_33_90_34_38/MMSI/566952000_Sorted.csv\"\n",
    "# oneVessel = \"../Data/M120_00_M119_50_34_12_34_24/MMSI/636012801_Sorted.csv\"\n",
    "# oneVessel = \"../Data/M119_50_M119_00_34_00_34_16/MMSI/367353080_Sorted.csv\"\n",
    "# oneVessel = \"../Data/M119_50_M119_00_34_00_34_16/MMSI/636012801_Sorted.csv\"\n",
    "oneVesselData,_ = aISDM.load_data_from_csv(oneVessel)\n",
    "print(oneVesselData.shape)\n",
    "oneVesselLon = oneVesselData['LON']\n",
    "oneVesselLat = oneVesselData['LAT']\n",
    "plt.plot(oneVesselLon,oneVesselLat)"
   ]
  },
  {
   "cell_type": "code",
   "execution_count": null,
   "metadata": {},
   "outputs": [],
   "source": [
    "oneVesselTime = oneVesselData['DateTime']\n",
    "for i in range(oneVesselLon.shape[0]):\n",
    "    print(i,oneVesselTime[i])"
   ]
  },
  {
   "cell_type": "code",
   "execution_count": null,
   "metadata": {},
   "outputs": [],
   "source": [
    "timeIntervalList = \"../Data/M120_50_M119_00_33_90_34_38/TimeInterval/HalfHourIntvl1701To1702.txt\"\n",
    "# timeIntervalList = \"../Data/M120_50_M119_00_33_90_34_38/TimeInterval/HalfHourIntvl1702To1703.txt\"\n",
    "timeWindows = [line.rstrip('\\n') for line in open(timeIntervalList)]"
   ]
  },
  {
   "cell_type": "code",
   "execution_count": null,
   "metadata": {},
   "outputs": [],
   "source": [
    "#get the last instance of the position data \n",
    "#for one of the vessel\n",
    "#and that can be used for the prediction\n",
    "oneVesselLastData = pd.DataFrame()\n",
    "#based on time stamps \n",
    "for timeSlot in timeWindows:\n",
    "    temp = timeSlot.split(',')\n",
    "    startTime = temp[0]\n",
    "    endTime = temp[1]\n",
    "\n",
    "    timelyDF = aISDM.filter_based_on_time_stamp(oneVesselData,'DateTime',startTime,endTime)\n",
    "    oneVesselRows = timelyDF.shape[0]\n",
    "    \n",
    "    invertedTimelyDF = aISDM.inver_df(timelyDF)\n",
    "    invertedTimelyDF = invertedTimelyDF.drop_duplicates(subset=\"MMSI\")\n",
    "    \n",
    "    oneVesselLastData = oneVesselLastData.append(invertedTimelyDF, ignore_index = True)"
   ]
  },
  {
   "cell_type": "code",
   "execution_count": null,
   "metadata": {},
   "outputs": [],
   "source": [
    "oneVesselTime = oneVesselLastData['DateTime']\n",
    "for i in range(oneVesselTime.shape[0]):\n",
    "    print(i,oneVesselTime[i])"
   ]
  },
  {
   "cell_type": "code",
   "execution_count": null,
   "metadata": {},
   "outputs": [],
   "source": [
    "#divide the journey into two parts\n",
    "#part 1 is from 0 to 16 included\n",
    "#part 2 is from 17 to 42 included\n",
    "oneVesselLastDataOne = oneVesselLastData.iloc[0:17,:]\n",
    "oneVesselLastDataTwo = oneVesselLastData.iloc[17:,:]\n",
    "\n",
    "# oneVesselLastDataOne = oneVesselLastData.iloc[0:4,:]"
   ]
  },
  {
   "cell_type": "code",
   "execution_count": null,
   "metadata": {},
   "outputs": [],
   "source": [
    "print(oneVesselLastDataOne)"
   ]
  },
  {
   "cell_type": "code",
   "execution_count": null,
   "metadata": {},
   "outputs": [],
   "source": [
    "print(oneVesselLastDataTwo)"
   ]
  },
  {
   "cell_type": "code",
   "execution_count": 34,
   "metadata": {},
   "outputs": [],
   "source": [
    "oneVessel = \"../Data/M120_50_M119_00_33_90_34_44/MMSIContainer/100.csv\"\n",
    "oneVesselLastDataOne,_ = aISDM.load_data_from_csv(oneVessel)"
   ]
  },
  {
   "cell_type": "code",
   "execution_count": 35,
   "metadata": {},
   "outputs": [
    {
     "name": "stdout",
     "output_type": "stream",
     "text": [
      "         MMSI         BaseDateTime       LAT        LON   SOG    COG  Heading  \\\n",
      "0   209251000  2017-04-29T14:09:58  33.98187 -119.07240  12.0 -110.6    302.0   \n",
      "1   209251000  2017-04-29T14:39:41  34.03865 -119.18947  14.2 -111.6    301.0   \n",
      "2   209251000  2017-04-29T15:09:33  34.08547 -119.31682  13.7 -124.6    288.0   \n",
      "3   209251000  2017-04-29T15:39:02  34.11742 -119.44837  13.7 -123.6    287.0   \n",
      "4   209251000  2017-04-29T16:09:21  34.15058 -119.58280  13.7 -122.6    287.0   \n",
      "5   209251000  2017-04-29T16:39:01  34.18063 -119.71417  13.7 -125.6    284.0   \n",
      "6   209251000  2017-04-29T17:09:02  34.20905 -119.84893  13.9 -125.6    284.0   \n",
      "7   209251000  2017-04-29T17:39:11  34.23888 -119.98263  13.5 -124.6    284.0   \n",
      "8   209251000  2017-04-29T18:09:04  34.26672 -120.11592  14.0 -126.6    285.0   \n",
      "9   209251000  2017-04-29T18:39:40  34.29775 -120.25558  13.9 -123.6    287.0   \n",
      "10  209251000  2017-04-29T19:09:10  34.32823 -120.38932  14.0 -125.6    287.0   \n",
      "11  209251000  2017-04-29T19:32:04  34.35285 -120.49558  14.2 -124.6    287.0   \n",
      "\n",
      "    VesselName         IMO CallSign  VesselType             Status  Length  \\\n",
      "0   CSCL PUSAN  IMO9307229    C4NK2      1004.0  under way sailing   336.7   \n",
      "1   CSCL PUSAN  IMO9307229    C4NK2      1004.0  under way sailing   336.7   \n",
      "2   CSCL PUSAN  IMO9307229    C4NK2      1004.0  under way sailing   336.7   \n",
      "3   CSCL PUSAN  IMO9307229    C4NK2      1004.0  under way sailing   336.7   \n",
      "4   CSCL PUSAN  IMO9307229    C4NK2      1004.0  under way sailing   336.7   \n",
      "5   CSCL PUSAN  IMO9307229    C4NK2      1004.0  under way sailing   336.7   \n",
      "6   CSCL PUSAN  IMO9307229    C4NK2      1004.0  under way sailing   336.7   \n",
      "7   CSCL PUSAN  IMO9307229    C4NK2      1004.0  under way sailing   336.7   \n",
      "8   CSCL PUSAN  IMO9307229    C4NK2      1004.0  under way sailing   336.7   \n",
      "9   CSCL PUSAN  IMO9307229    C4NK2      1004.0  under way sailing   336.7   \n",
      "10  CSCL PUSAN  IMO9307229    C4NK2      1004.0  under way sailing   336.7   \n",
      "11  CSCL PUSAN  IMO9307229    C4NK2      1004.0  under way sailing   336.7   \n",
      "\n",
      "    Width  Draft  Cargo             DateTime  \n",
      "0   45.64   15.0   71.0  2017-04-29 14:09:58  \n",
      "1   45.64   15.0   71.0  2017-04-29 14:39:41  \n",
      "2   45.64   15.0   71.0  2017-04-29 15:09:33  \n",
      "3   45.64   15.0   71.0  2017-04-29 15:39:02  \n",
      "4   45.64   15.0   71.0  2017-04-29 16:09:21  \n",
      "5   45.64   15.0   71.0  2017-04-29 16:39:01  \n",
      "6   45.64   15.0   71.0  2017-04-29 17:09:02  \n",
      "7   45.64   15.0   71.0  2017-04-29 17:39:11  \n",
      "8   45.64   15.0   71.0  2017-04-29 18:09:04  \n",
      "9   45.64   15.0   71.0  2017-04-29 18:39:40  \n",
      "10  45.64   15.0   71.0  2017-04-29 19:09:10  \n",
      "11  45.64   15.0   71.0  2017-04-29 19:32:04  \n"
     ]
    }
   ],
   "source": [
    "print(oneVesselLastDataOne)"
   ]
  },
  {
   "cell_type": "code",
   "execution_count": 36,
   "metadata": {},
   "outputs": [
    {
     "data": {
      "text/plain": [
       "[<matplotlib.lines.Line2D at 0x7f8661d37e10>]"
      ]
     },
     "execution_count": 36,
     "metadata": {},
     "output_type": "execute_result"
    },
    {
     "data": {
      "image/png": "[encoded data removed]",
      "text/plain": [
       "<Figure size 432x288 with 1 Axes>"
      ]
     },
     "metadata": {
      "needs_background": "light"
     },
     "output_type": "display_data"
    }
   ],
   "source": [
    "oneVesselLastDataOneLon = oneVesselLastDataOne[\"LON\"]\n",
    "oneVesselLastDataOneLat = oneVesselLastDataOne[\"LAT\"]\n",
    "plt.plot(oneVesselLastDataOneLon,oneVesselLastDataOneLat)"
   ]
  },
  {
   "cell_type": "code",
   "execution_count": 22,
   "metadata": {},
   "outputs": [
    {
     "ename": "NameError",
     "evalue": "name 'oneVesselLastDataTwo' is not defined",
     "output_type": "error",
     "traceback": [
      "\u001b[0;31m---------------------------------------------------------------------------\u001b[0m",
      "\u001b[0;31mNameError\u001b[0m                                 Traceback (most recent call last)",
      "\u001b[0;32m<ipython-input-22-d425b224d7aa>\u001b[0m in \u001b[0;36m<module>\u001b[0;34m\u001b[0m\n\u001b[0;32m----> 1\u001b[0;31m \u001b[0moneVesselLastDataTwoLon\u001b[0m \u001b[0;34m=\u001b[0m \u001b[0moneVesselLastDataTwo\u001b[0m\u001b[0;34m[\u001b[0m\u001b[0;34m\"LON\"\u001b[0m\u001b[0;34m]\u001b[0m\u001b[0;34m\u001b[0m\u001b[0;34m\u001b[0m\u001b[0m\n\u001b[0m\u001b[1;32m      2\u001b[0m \u001b[0moneVesselLastDataTwoLat\u001b[0m \u001b[0;34m=\u001b[0m \u001b[0moneVesselLastDataTwo\u001b[0m\u001b[0;34m[\u001b[0m\u001b[0;34m\"LAT\"\u001b[0m\u001b[0;34m]\u001b[0m\u001b[0;34m\u001b[0m\u001b[0;34m\u001b[0m\u001b[0m\n\u001b[1;32m      3\u001b[0m \u001b[0mplt\u001b[0m\u001b[0;34m.\u001b[0m\u001b[0mplot\u001b[0m\u001b[0;34m(\u001b[0m\u001b[0moneVesselLastDataTwoLon\u001b[0m\u001b[0;34m,\u001b[0m\u001b[0moneVesselLastDataTwoLat\u001b[0m\u001b[0;34m)\u001b[0m\u001b[0;34m\u001b[0m\u001b[0;34m\u001b[0m\u001b[0m\n",
      "\u001b[0;31mNameError\u001b[0m: name 'oneVesselLastDataTwo' is not defined"
     ]
    }
   ],
   "source": [
    "oneVesselLastDataTwoLon = oneVesselLastDataTwo[\"LON\"]\n",
    "oneVesselLastDataTwoLat = oneVesselLastDataTwo[\"LAT\"]\n",
    "plt.plot(oneVesselLastDataTwoLon,oneVesselLastDataTwoLat)"
   ]
  },
  {
   "cell_type": "code",
   "execution_count": 23,
   "metadata": {},
   "outputs": [],
   "source": [
    "def generate_vessel_prev_cur_status_(prevState,currState):\n",
    "    vesselState = np.zeros((prevState.shape[0]*currState.shape[0]))\n",
    "    stateCounter = 0\n",
    "    for i in range(prevState.shape[0]):\n",
    "        for j in range(currState.shape[0]):\n",
    "            vesselState[stateCounter] = prevState[i]*currState[j]\n",
    "            stateCounter = stateCounter + 1\n",
    "    return vesselState"
   ]
  },
  {
   "cell_type": "code",
   "execution_count": null,
   "metadata": {},
   "outputs": [],
   "source": [
    "# from scipy.io import savemat\n",
    "# from scipy import sparse\n",
    "# vesselPrevState = get_vessel_init_status(oneVesselLastDataOneLon.iloc[0],oneVesselLastDataOneLat.iloc[0])\n",
    "# vesselCurrState = get_vessel_init_status(oneVesselLastDataOneLon.iloc[1],oneVesselLastDataOneLat.iloc[1])\n",
    "# savemat('VesselPrev', {'M':vesselPrevState})\n",
    "# savemat('VesselCurr', {'M':vesselCurrState})\n",
    "# savemat('TrPM', {'M':tpMatrix})"
   ]
  },
  {
   "cell_type": "code",
   "execution_count": 24,
   "metadata": {},
   "outputs": [],
   "source": [
    "rowSum = np.sum(tpMatrix, axis=1)\n",
    "rowSumZeroIdx = np.argwhere(rowSum == 0)\n",
    "rowSumZeroIdx = rowSumZeroIdx.flatten()"
   ]
  },
  {
   "cell_type": "code",
   "execution_count": 37,
   "metadata": {},
   "outputs": [
    {
     "name": "stdout",
     "output_type": "stream",
     "text": [
      "0\n",
      "0.9999999999999999\n",
      "1.0000000000000002\n",
      "1\n",
      "1.0000000000000002\n",
      "1.0\n",
      "2\n",
      "0.9999999999999999\n",
      "0.9999999999999994\n",
      "3\n",
      "0.9999999999999996\n",
      "1.0000000000000002\n",
      "4\n",
      "0.9999999999999998\n",
      "0.9999999999999989\n",
      "5\n",
      "0.9999999999999994\n",
      "0.9999999999999999\n",
      "6\n",
      "0.9999999999999992\n",
      "0.9999999999999996\n",
      "7\n",
      "0.9999999999999993\n",
      "1.0000000000000002\n",
      "8\n",
      "1.0000000000000004\n",
      "1.0000000000000004\n"
     ]
    }
   ],
   "source": [
    "vesselPrevState = get_vessel_init_status(oneVesselLastDataOneLon.iloc[0],oneVesselLastDataOneLat.iloc[0])\n",
    "vesselCurrState = get_vessel_init_status(oneVesselLastDataOneLon.iloc[1],oneVesselLastDataOneLat.iloc[1])\n",
    "vesselState = generate_vessel_prev_cur_status(vesselPrevState,vesselCurrState)\n",
    "onePredict = []\n",
    "for i in range(9):\n",
    "    vesselProbState = generate_path(vesselState)\n",
    "    print(i)\n",
    "    print(np.sum(vesselProbState))\n",
    "    onePredict.append(vesselProbState.copy())\n",
    "    vesselPrevState = vesselCurrState.copy()\n",
    "    vesselCurrState = vesselProbState.copy()\n",
    "    vesselState = generate_vessel_prev_cur_status(vesselPrevState,vesselCurrState)\n",
    "    #make probabilities zero\n",
    "    vesselState[rowSumZeroIdx] = 0\n",
    "    vesselState = vesselState/np.sum(vesselState)\n",
    "    print(np.sum(vesselState))"
   ]
  },
  {
   "cell_type": "code",
   "execution_count": 38,
   "metadata": {},
   "outputs": [
    {
     "data": {
      "image/png": "[encoded data removed]",
      "text/plain": [
       "<Figure size 720x576 with 3 Axes>"
      ]
     },
     "metadata": {
      "needs_background": "light"
     },
     "output_type": "display_data"
    }
   ],
   "source": [
    "vesselPrevState = get_vessel_init_status(oneVesselLastDataOneLon.iloc[0],oneVesselLastDataOneLat.iloc[0])\n",
    "vesselCurrState = get_vessel_init_status(oneVesselLastDataOneLon.iloc[1],oneVesselLastDataOneLat.iloc[1])\n",
    "vesselState = generate_vessel_prev_cur_status(vesselPrevState,vesselCurrState)\n",
    "useAspect = 0\n",
    "aspectRatio = 16.0/9.0\n",
    "figWidth = 10\n",
    "figHeight = 8\n",
    "\n",
    "fig = plt.figure(figsize=(figWidth,figHeight))\n",
    "ax1 = fig.add_axes([0.1, 0.15, 0.49, 0.30])\n",
    "ax2 = fig.add_axes([0.1, 0.55, 0.49, 0.30])\n",
    "ax4 = fig.add_axes([0.8, 0.55, 0.01, 0.30])\n",
    "\n",
    "if useAspect == 1:\n",
    "    figHeight = figWidth/aspectRatio\n",
    "\n",
    "def animate(i):\n",
    "    global vesselPrevState, vesselCurrState, vesselState\n",
    "    vesselCurrPos = get_vessel_init_status(oneVesselLastDataOneLon.iloc[i+2],oneVesselLastDataOneLat.iloc[i+2])\n",
    "    vesselCurrPos = np.reshape(vesselCurrPos,(verticalAxis.shape[0],horizontalAxis.shape[0]))\n",
    "    \n",
    "    vesselCurrPos = np.flip(vesselCurrPos,axis=0)\n",
    "\n",
    "    ax1.set_xlabel('Longitude')\n",
    "    ax1.set_ylabel('Lattitude')\n",
    "    titleStr = 'Vessel Position %d'%((i))\n",
    "    ax1.set_title(titleStr)\n",
    "    ax1.set_xticks([lonMin,lonMax])\n",
    "    ax1.set_yticks([latMin,latMax])\n",
    "\n",
    "    ax2.set_xlabel('Longitude')\n",
    "    ax2.set_ylabel('Lattitude')\n",
    "    ax2.set_title('Transition Probability Projection')\n",
    "    ax2.set_xticks([lonMin,lonMax])\n",
    "    ax2.set_yticks([latMin,latMax])\n",
    "\n",
    "    ax1.imshow(vesselCurrPos,cmap=plt.get_cmap('hot'),extent=[lonMin,lonMax,latMin,latMax])\n",
    "    #sequence of vessel states\n",
    "#     vesselProbState = generate_path(vesselState)\n",
    "#     #copy the file\n",
    "#     vesselPrevState = vesselCurrState.copy()\n",
    "#     vesselCurrState = vesselProbState.copy()\n",
    "#     vesselState = generate_vessel_prev_cur_status(vesselPrevState,vesselCurrState)\n",
    "    \n",
    "    vesselProbState = onePredict[i].copy()\n",
    "    vesselProbState = np.reshape(vesselProbState,(verticalAxis.shape[0],horizontalAxis.shape[0]))\n",
    "    vesselProbState = np.flip(vesselProbState,axis=0)\n",
    "    iMShowHandler = ax2.imshow(vesselProbState,cmap=plt.get_cmap('YlGnBu'),extent=[lonMin,lonMax,latMin,latMax], vmax = 0.1)\n",
    "    \n",
    "    fig.colorbar(iMShowHandler,ax4)\n",
    "    \n",
    "anim = animation.FuncAnimation(fig, animate,frames=9, interval=1000)"
   ]
  },
  {
   "cell_type": "code",
   "execution_count": 39,
   "metadata": {
    "scrolled": true
   },
   "outputs": [
    {
     "data": {
      "text/html": [
       "<video width=\"720\" height=\"576\" controls autoplay loop>\n",
       "  <source type=\"video/mp4\" src=\"data:video/mp4;base64,AAAAHGZ0eXBNNFYgAAACAGlzb21pc28yYXZjMQAAAAhmcmVlAAAyqG1kYXQAAAKgBgX//5zcRem9\n",
       "5tlIt5Ys2CDZI+7veDI2NCAtIGNvcmUgMTUyIC0gSC4yNjQvTVBFRy00IEFWQyBjb2RlYyAtIENv\n",
       "cHlsZWZ0IDIwMDMtMjAxNyAtIGh0dHA6Ly93d3cudmlkZW9sYW4ub3JnL3gyNjQuaHRtbCAtIG9w\n",
       "dGlvbnM6IGNhYmFjPTEgcmVmPTMgZGVibG9jaz0xOjA6MCBhbmFseXNlPTB4MzoweDExMyBtZT1o\n",
       "ZXggc3VibWU9NyBwc3k9MSBwc3lfcmQ9MS4wMDowLjAwIG1peGVkX3JlZj0xIG1lX3JhbmdlPTE2\n",
       "IGNocm9tYV9tZT0xIHRyZWxsaXM9MSA4eDhkY3Q9MSBjcW09MCBkZWFkem9uZT0yMSwxMSBmYXN0\n",
       "X3Bza2lwPTEgY2hyb21hX3FwX29mZnNldD0tMiB0aHJlYWRzPTEyIGxvb2thaGVhZF90aHJlYWRz\n",
       "PTIgc2xpY2VkX3RocmVhZHM9MCBucj0wIGRlY2ltYXRlPTEgaW50ZXJsYWNlZD0wIGJsdXJheV9j\n",
       "b21wYXQ9MCBjb25zdHJhaW5lZF9pbnRyYT0wIGJmcmFtZXM9MyBiX3B5cmFtaWQ9MiBiX2FkYXB0\n",
       "PTEgYl9iaWFzPTAgZGlyZWN0PTEgd2VpZ2h0Yj0xIG9wZW5fZ29wPTAgd2VpZ2h0cD0yIGtleWlu\n",
       "dD0yNTAga2V5aW50X21pbj0xIHNjZW5lY3V0PTQwIGludHJhX3JlZnJlc2g9MCByY19sb29rYWhl\n",
       "YWQ9NDAgcmM9Y3JmIG1idHJlZT0xIGNyZj0yMy4wIHFjb21wPTAuNjAgcXBtaW49MCBxcG1heD02\n",
       "OSBxcHN0ZXA9NCBpcF9yYXRpbz0xLjQwIGFxPTE6MS4wMACAAAAiGWWIhAAX//731LfMsu1Tb7YL\n",
       "qPeiniZfQ3UlAZuWxO06gAAAAwAAAwAAAwDpVIJjfO4A0Yy0AAADAFPACpgXEE9w//w3y38ABy1p\n",
       "uKeJY6HAsiVpShvLAx4D16LzKedHnmFT6tI0nAUxtHKovjgP1sU8lTd95SpGzm1Fjvu19qEDMEUE\n",
       "UFJK90NGwHRhvG3WDBUrvVu6qkJWgBoyQrSsHpS+9JkhUmuUcYS+hzzn+Ro67YVNfWYTVbVCOEQl\n",
       "RzTliy9TZtcGElOIY7RsgchTtLdOr7freMG0afFpToAKV1+VjWtOAAGz8wE88L6C1G4u2NHBF0az\n",
       "/V2bazS3gcJ5J7KuTrR9AJtFXxxCAsjEYA4XFcj9NLBuIrc0WzNv6XvHjF3gAQjvhzFyj/q2buX3\n",
       "P68jeK5DBa0cXrHxkdqzP1PFRQvpkAYbCyLwL6PQVdQa3n9OfLBh6Ls7cWPVVi75lpIKIK9Ig5FX\n",
       "UxnCnHj7FjPtNi63YmLYExqtPb9nUMDlStkAh28d27yr95/51Xlxh299jrBeU/5/2FtXPWxUimHL\n",
       "5zRLfnga2X2PxmsQUr/URWYzCe78VteNg2zR476ODS6aBQhufaG6j0Env8VYU3X6k5zFI/Olk1T2\n",
       "opkMudMR1XL68NeeLSaf3EuznOa+rpWysKPR3TxooPp++Kt6xeZnfRfG+LKgaCd2d/n1Y+J3leaH\n",
       "QB87lltotwBhbTuCZvQkhVH+vJWEWRVThIeJJTTP27RxHaDrXmhd5edshSMmedIUVbiQ7pvxDZHm\n",
       "IPrrthMnD7/zYOZBEy4uUXYQKwiEniq3bNJh26I8ksefVKAah8FtIOQ4FDHR2ME02IPfGAdKqmTf\n",
       "KCDO42QRH1oXV2Pc0B/lcTPzdAdA2ple4HOSkaXOdEnVn8MXnf4xk1O+M6rkcfeNPVIE5LRb8a9D\n",
       "Bws3vYg87B9chWWL5xjy3bowrLZoidg2jai/ocvzeHgHnNbQRwnxOdkwRXnfgqq1Pl5K6wFMw4Wm\n",
       "WvPFGm8Y+q0XOvoAY1xuWt97KL62Ha7q5je0nUTwq1lRBZcr09zmvN8L4lSi/0yXx5LahJtt1VED\n",
       "9apEL2rUAwMWg5PlBfXylAXIWgT82iteXxy3B8gm3YNjo0LPeVj50vLHYq8/uCfGB21Q96ioF0UE\n",
       "xSsjEejrF4cKy60+0UcDX3hRcFpZgVI7op6H2QGdCJDB38+T03ySRdvdKKI3x5gGevaPxDDRaRh3\n",
       "n2pUAHG7xRYz/WQcA2hXXusxzQ0Oe6GFgWU3v3r3gVg46CQKRs0sGj7tSmH8l+Jh68lD3uNhm84H\n",
       "1m3lsJbfZ28tWmKv+uLnoGzFc4JcJ8+rHakEuR6fLE21N8OLdnXQ1nta10/QE59QhR4GWPs8yT9+\n",
       "c4jCy6sQi5UmkRd4Hewg6XVDHSHhTpCW8M+UjYaFZuGBBUgkqI9F5z4rzSYuk0HwYs1PPVipDnZR\n",
       "UhS/zxTJHVrPjKtU6K7RzEBzW8ELItbDhvQLjUh3biu2g7g4NF+LclmK0R7Ci/7juZePJ2I7jJue\n",
       "TJhzWyAZxrRz5utv3BePZG3B6jjJoWwQwLvgOMtCxooOSE1gH/9xSxLDnlbAD8CT14eBLwhCli0g\n",
       "8aozb/aENDSKrXNTaq1Qzj9NtDgSdDTIVgVWMZfMKnm+3RI1Vdz8lygr430mfqA7uRNQiw1+7v6c\n",
       "1M45Ky2dV25hMowxnEqCvUH16XbXabV2u0EbNHbrfuBeyyAIaF+xLWM5n9yW4NtbDtKUwQCGz38F\n",
       "547T7PGSDjKEpPr3fmjuueTZF6TK92pahX4JT6frnvFzb/e3S58hnf336b/Dx05maOuJFrJZaD1q\n",
       "2SGrETSPh91TzSOrfWmjQYd3RXWoZfR567abyEJ6Z4xPY+b+0kagf5dTlDoxd4n/AvNnsTy+7suH\n",
       "Mg9AiPu1audg0pMS3oXrg2X/0nLnmlKLZReSaWi9XabensUrHo71FFvQjYGFgiO9fDPjWEpH5PpG\n",
       "RahxkWCltHUEWgp5jxQNqibuDsRYIyU7xY/5gGSAMinRrq7Lmha9FiM1gmmKZEEbK99jabIsSYdg\n",
       "HZnv7PJ3SiD0sZi5f9x5IJVKHPY6ITbe+HTw6H+/5LosISMvVsX/TvO0dDbr+xFY5cDR+j9xPBnf\n",
       "Zc+stdcgRGEEXThIoWo53cs1JVneRgJy/urFsHog/6RvEyDVbQm8WB80gv8CSBkBbkJnNEqH3vq0\n",
       "oGAhB2BHUnR1eIwWrhcP7J6JFT83kCkwRBZbhuwC7yKEtiNbP3vL7cHIsb4dNJ6o9ON0K2MYGQQ3\n",
       "6FgEptOwY0M13neJYBxd9UTw8Gj72d797MICHRflVCIjMIODKRfD327bKOtBDCf7xN9DDmO4GTvT\n",
       "rcf4Xm+/BC1W2D/IHEDJUlsjyxpXKVZ2FHKkt9JiJ9lnOcCDNEmr7aOv94SB58pbZRGQPyihYAO7\n",
       "kvezeTvwyaUWr2YVJc/jkY0c4rl8ZbGYvxT54LNubejfz58H7hACq0Z4giymN+3UZq3HTot3lXcf\n",
       "qDii26685hAbCuagp0GtlL0KEO7c9lRVNlKU4/AI465Mdv1c3CWtBxatIMbuY7k0I2VpS10P2SdP\n",
       "OWYNsJ2gJoF98s0K003d7WSOnxwTyTDt2vAS92Zpr9ISNdAKXXNfP64s+CMEqnpKngmHACKpcUJp\n",
       "u0Xg+F0T5U0S6aXRd14C84y5L9Y4B6j545ftyHnYflecFcNtL11SyMBCq/s1YNLyA3PL7MqoEyRl\n",
       "dWu2+JJKlle2UF8z0yeYlgoGcBC+dZh+EjO+XE8fPw1ErrnW+Pvc6YHsuQowHAH6NqgwxAIKFTuo\n",
       "hjKewH2UHhEmq65UPYh21OJsGnpBQLCxG9SVVNY96hjh0bAGKRyuBA1oM4XcDrxIMdVodISXJoL2\n",
       "tuKvPqr3/Oz/55GKigUkrnRb//PiXPsuAmWbluRiV1RugPRzglB3KKusCq38/I/6AZxcPkgMb9hI\n",
       "c0WPQoh0PAIGtx3gBhPgplH4VLVYCrGDdrVMP4kGE3oc5uCCy8URwAJtNIScY9ttivW2Tdqc6s0P\n",
       "vGq5btNDZ8S57rcxe+x3RrajvMeJqtfXIKs8HrU3CPvh94smlebMQAAAL6QefulioGeqQc2EH36n\n",
       "/+8CuR1wKBPYDgQDJi2JhLaoFXyLC2IyoxFSbcqZosOAoS3UTld2pi+QvqBYjlbc449dJk/8pvDZ\n",
       "hEeG+l2A4iDGaxtclUS+tAwBDPYia+ND88cz++Fjf+CrAlOHrTclSPEuwIhcOoVYOt1kGyMmsrcH\n",
       "/AKP951mDTqCsFdQxlLJQNi7LlylAGuIqinnwURHeGHPV3m6BplvTq7k5JRDfE3vmB7HxFyFXUT/\n",
       "TEK6ZikGzfzX6BySHsXLPlI5DUl4Lmb2kGG3U/WwDkhDWC/EGdiksf1eLGa3qUEo8+ThvE20AyWJ\n",
       "NU9bMfLN8f/Hq2wPiamP6qHHn6ZzmFJULfoaOWBPelHIOOZjFX4lTF9AfaatZlduexqipgFagIiS\n",
       "1IprRvnegftsB5Kv10tm/435yPsli/IEI1rC6GtwWJlOglc1bT37i8umsHMMHMC7MeS4b9IaBodh\n",
       "hRnZJLQpH0p0TCM5Or/ABZAiREnLTJf5NP4xIeN7R40JR1ZULT8p+Ra0OiavA8kCPeu7opllr/O1\n",
       "8gCm8MnmvGW9u3Co1GkG0Ew0nOZcOnj7dai0zboZs6+G0vwMuerZ6zN/QJV1OCoR9WhHrf86IVhg\n",
       "b22pPlWTL851xAIbFBgqVWdb5QCnxcfOGCNC7OwloSidwpyHSuKC9Gy2pEuMklPQZRh+0n64YkIA\n",
       "s1kMVEoEJ2cLyjYRwI5xbFpfNQbjlTV0EJ/gY2/SKRptn3AgZ6gFtQ7qHfx356ZnwrxG0PKty0ND\n",
       "vzr+WAQI6Lpwsu26ZmRv64tqk3uWX0dUEri9Se6pIcGWQ/kvNm6InOpvXOQQYuVSQVi2P86Fax3I\n",
       "uvHGXYWeIXOG5EyD9SescGTQxvpHSQznSIc2+y9oZTWSsyxHYLpmQvKYMpuLW+edCe8ODfdc9x8l\n",
       "gxyc14aUf+Qc137Of+U/3QwkOvRngQGGGwyhyBCxByBvZxjp6h26kP1Mt+GPI4GsdhDAB7e78SUT\n",
       "pfpS96BQPg+qISyYdLYy3kN5WQpRye1yQhCoZpxgQ00DSVHJt/jcd9Ea+rBbZRHFbyYJ3UIMCpY4\n",
       "pIZBlEdZpKwoo/ftajkKS64vXH6IK8dsbz6aWBB5MTK128RgclcPYzJZEOCmg0TpeUPZ+KP2l7n7\n",
       "TVC39ntbXgwQaL+vz/La1ntZGIqaYBXanmH7Lu/xuMZickiWVQQNqyXR23HspIiwqTUiUGadBsGm\n",
       "Udwg2GB2VxA6xpSJ04iQrq7UW5kefGbcrq+pu4oW9S1v/yikivCcOq/C/krROxnefDld+f3nf6W9\n",
       "G0odjIPc59+Ql+QwcYjRWYjoIhM8lTxzqQ8z7GERioBWqiYPARjcHF7o2W1UyxT00wQHKX1zN50F\n",
       "aGGXjXiodIsCfVoE5yMLm92d6T+SrH8AoON+87ANh1tkZz51JM+cDqWgvy2pB/xXLAto+KrDmVSI\n",
       "I6cLN+rF1OabNFIVK9vr/2uxdJwKtz30P+VGQXTnZpsI/ZlOFcGjvA5LAR668AzJzrY56dKL1roP\n",
       "ypSP0zlCSWvcIMHGIN0tVSN8YZSyCYUY9tfTMl1wb7eFRYOdg38l1c3Wc2NTJBtw8G6EYLvr1XZQ\n",
       "6W7pfSspOyT3/yHJa+wQrKrwc/Rd1zTPjzLT7a9URHAOabfHp1hHC8jQve4wtyVdTiLcjs4Geou9\n",
       "zK/3PylIyfCBKyuixfvOJn+gOtR1W8GG5UatRNVXfPijlVDCmuw3/m+6N+c6bw3+9ZPtr4mtUB4Y\n",
       "HP+e9WDgX68yqLzX2f0KR/qtkPND5RJt+vtUZzHny80ySPueBvIyI6RXxn2YYF/Holu7MTujuNIf\n",
       "X52M3QI9eqJSDMhB5TVXT/NUP/Dv5rD9+wR7I6a7e2VPurQdukfa1pGsUeYoUJifuP5uHfjCKQ6b\n",
       "YLNp3L5tIwSwoMnJp/5MMLd9Ve4Npydmp/ymuGPrIcPJG281eCFPXS5PrcQziqVrL539PxyimSiQ\n",
       "tdLLkgmEWVtGgrgrnonBWsZUlZTyuOTFcSU8dcPbSHr2ANn1qyE23dyv2iucYbpcxONguRhR3hXw\n",
       "pBSTfm+epuWnNrUBTX3QY0rv7GSabSdwPzPJAKQjKb+ewohgKycp65uuxopvyhCBKqvGAO6QoGwA\n",
       "Azstxmm6iksbiny2lI7L4S9PjMktQhkTuq3yVWR1dERPkoBdXo9uvbfvRN0qKPxodcQo7XR+jii0\n",
       "lsaQNtPME6VHV7028qNa5/m8e1rkScak1ST4divitImtzk1J4lYWCdRsqIa2QOQH9nhgWc31Q4Gg\n",
       "vCEBI0bU68ZhdXu2kuAw4DsMQXMTPay4qlLxxrQ+T4EmIwIlgG4nNmtBzVW+N+FHCnShw0sqa45N\n",
       "6Y/4o59WhY8jcGc6Zmk7ixqrEdhvm3r9Ca3xbgTXB70USdzAiQWXh/9A9GRJQ35gE88t44G3egBN\n",
       "pPyAjfD4i9RT7J3SmnycgA4Fwj9OVlJqnJlpodFlzVG6Oo5c/iZYl3P4dp1sfM4qivtD6agI8hJO\n",
       "w6eXOk8AXM97GUIHQkfHizsSNj+5Lp8rXTSoFKvRjWz6M9CeBIWp28ghb5/nsSbUdVx6Yz8tYaBO\n",
       "C0aVMBQz6cubmaWSbVroi7WNasuv0KJGYOhtE7AT79dXRBAd00EPWRavov/cuC51IDwIKwAaHjdv\n",
       "UD9Mqhdx/8KIgueERHmSrYiVm1fjoq1ISO/nFwRGKclF817UdxuvzqgXQ9s54GW+VaLV3Tf/88kw\n",
       "fvMRoYgmaHeQzSWFgWqht5DJoKo+rqFCyH1faUuFVH+fUhuUvJZuHcPAzt3oXoT/PH2yoNroGNOw\n",
       "7fZmU0D5+vz2s8oVcaSVd2MX2eNwebW1f4IioNVSwNsHe+S+SdBrLRI8oJNBkqXC+/q9jXDXt2A/\n",
       "055Y0K6ZfaKtFQVmAjFZhgJFDyQA77JhiPCeg0IcxB/PVKbjnMtJaKobbleqTZISD6Oh9Mq5C82O\n",
       "md+TD934LEKoxMoZgUV/5wO+XKMqs9c1iJMeTMxRS5h4IUKsGCt6esgN5QPwCky3zGFxsJgneRfW\n",
       "Muz7DWHrYjnfRjVOGrk5SS8Q04cR2hGWcNH9n7MZehGRJubD7wC0d1SgAGV5PMxcoeipsU4HKh5P\n",
       "wLyCg1gwO+7MftnPAy3yrRavMn//iReDr5wwyweJSjlR7caWscKHUwwigfVzv6qB1OBVo21Cq+AU\n",
       "R1y+RF+e0vy+FenmZYT5dua96EaHWLvn8ArSfzsoAsnt6UftT/9VX31w5MPiJRW+zIruiRwHUCPH\n",
       "5K7uAlF/uIoYxbmLvGZrNVDZZ6+06lg8IkN7v4JBOa4WYuj5rP58V9UTfWaSWbHQNXRmRfqQuLqI\n",
       "DAtD1V82g5OwSKXBIJ/lxFaEnI1sttnsHHbHbQ3usBpfKr549Vc1CygOIdXFMN8SkuqXoBpS/RYl\n",
       "v2ockbVzhP+Be8RVMoqyDKZNArsCSUl+ygZi08nYo1MRWuyF2+3xVgH097nadOumgRLmj/bK6yGV\n",
       "exGKrf/nmHlkWgXCI0I8TTQCScOj0ED7v1thQHfXaDIC7a+4/3xZtAU4yEVNW6HElzbQjCJUinNU\n",
       "X9W/J/RrzCf+bxHgerYVpEaYtb/Xd9fsVKH0Tj2LIFJyEs7xB5v5kN01O6U1OHBsb3FKiaJ+KRmR\n",
       "Hzuy8VHDBLCWOCblu/pg1EVUfTJ1jgmaJu8Bnaq5vW3aKKLfRU7i5lfvY1ueGONdkA2+e9Cg3dWg\n",
       "SXd04PcdaqN3abLpRZJ8gLs+vBTsfsnjxv8plwU90y7vKKIhgEcv+WshePirdM7YFVQMtA0cBEP7\n",
       "YAkWAHNM8QZx79oX2IFFkP1BJbMSjA25zAFyQ4YwdDj9qPJtR3L69CBvWFdglXMn3kfvhNbGWPWQ\n",
       "gTj2zo03HSiJZpLPgckQNepoxmI7uz2keiDotfJ0bEGibJZf5onMjan4Hu7aoUId/TwjwiV2IHFh\n",
       "lqvHqz1h9zxRQ0Rq9BFbJyjSR/C7/J9LgqpfPHnonIc43/mDt14IsU93yHM7Ya2rRK9oWlyiSl15\n",
       "Plp+N4jgNoUCsdUMl68Ekjt14ZeUfiQKNNynh1uz/eLt1FDXeEYIqcFrEqPbGhKqtNWD/YRGUvmZ\n",
       "rsZQsrXVZujO9JFylA/6Vd/lePMaBC81spBY39aRKBxxqUtfXtvuFxtruB3E2p/qh83y8ao5L2Rd\n",
       "nH/OBYK5RllNz6S9GQOvPNAAALZokTYPf7U/pzqi2KbSB9OxITUkM9Mu90Lq8CRfhe2p87QkiiJj\n",
       "ZWUWIbE9FGFU9U41XHXEokAnq9jfgdGCiNyxbaz8Rj2vQwIl2lQdLTZxF88BU7tmmA4KFuMJTln3\n",
       "yugkuXSrSBI28mc3RnEREt4g5V2bCe4hZZoTltH46Eem6d7yzUZa350HAhsPDr/goWTngKBN+Fyh\n",
       "EjK9r95LuKDaW58W+cPFxpuC+28EXgd9lvI4d3jzyUBSDCZREVAn//ByBEET4UZ6NB9u5V7KjiC1\n",
       "w7H4t0prczzR+dVizgAL2iAAAAMAEgUTOQsN35ejTp40JMfsKNjS4P9US/556FY97BaiR+SZCc5b\n",
       "zuNiERpZ85o4Gkz+HT3PpF/LlVAyr78YW3VwHWO0Id2k91w+BpwV22y3rxodrTivL8gvCMvdxQYf\n",
       "sdBiIpYTJ0qZ/CfnPSWiS0mAgIB5h/+jPXF2UMk63e8hj+9y06nyBFWVcgUZxbNIC8lrlk5inM8H\n",
       "TI9kveZvebErgS1Jfk3Ud6HT1diy2qD65QzFY9jNaII7jhpUx/sLBJiQWcHH+oPm6T9LQa6KxRbz\n",
       "X8hIlRTjXLf7aHfm/gAAAwBS2OT673CQb6ao8Y3mJgNdU3pUyUssjQmnlzCNhpi19S4TIEPO5tCx\n",
       "E68pwdiGBJg+fvOlIiTCjbPCET7db+r72Myv6bEIIN5S+lV5WUEezUizEAxxqe/fDINZTvlX8etP\n",
       "pkiYJWWDHhRlw3rYjS9KdHmW1i/yHxigTsAQXLE2uEh/KA5yZecOSW3ia40BC7PmRIGLFsjuUkM4\n",
       "296amVApD2k/a4dANM264JqIOH6Bih7cpHkCsQFcN0W9rKC8H+WSnQJVMPjDwWxGfMjMAwD2HrI8\n",
       "GCeOyYdUXlabHM5XHo50efwyUsss9lzSHcPzW7Fj8J+xVEuGLkasFUTLWTcKJYyGAE+cew29Rb1d\n",
       "/IZyiNK8BY9wbGVmjGFcq2mZgdQxyeeZBIFXDDWAWhV8VtAkYcRrGd4n1ZKakgTbwut8uUgH8oaW\n",
       "tWKTbc5OuZxbks2SPQFgzygyxFBI11+NJiEGyoScPNHEM87TtXwAxqgKDsDxB/DQhS7cSywk6KrU\n",
       "60Rg3kq+1fChuslObNfIOAgac9Q713Z01jxjO/uwQD23lNdrZQxYyf0EG4aIHVwyTCL+u6YC3U0H\n",
       "Sf+vFI4726+if1l+6aqPPYurwyVaTn8MnJVeYscUJx4KpuZ54MXcPtDj/4M4vcJjQuonk9mYx09D\n",
       "5THSMi6bzAv632ko9B9vongc4Hr7F/s5ol35NEVht/1oY3cMLLDh+tBZ+lOAXhrZJeFsjKhOJz0a\n",
       "YU8caMIqPRJWloVwrPwmUfwemOk3e9kLQt2x7lv/u8AfLl1eYIY77n3to9At4Nw/N7o5sIEH4iAf\n",
       "lZyufLJNSWVl5giuvCKskxb49a+cV9oypnyyl4b0bK8Si7tfacYzo9qOKJbRGiWJpN7snBXMbaC8\n",
       "xGhxn3drVIKpcTHudaN55o3YOLDrUuXafoXVcd55j83kC/te3J+KkR6FsU6NzpXNSAAIUqQv1olJ\n",
       "wc3PUKqM8/Pg8XLZYV1/qHzcc1Xj8d1+U15+eN3L1nmZu6VsUarlZ3RnL+8nX5yXkrldxDHovNdR\n",
       "WzmwRoBkrZCXHGesiDbILKbS7XOdc66x8VPes+Pwvv0ss2y0cEYXRjOEXTilOPh5GGvW1aqQPUUX\n",
       "4oGpK1lyq68vHgCWosM1U69t+yCZ5Hr7sJBGPoU9ReOm8hGOvIXzomqFh9VG7ATtCwogkGW0nmCn\n",
       "jEvPR13gVLlTVk0/d7wNeBck05/JXMHG43x+IqjYFqzpgyYwe0cuocs57OTFNlADHYT/uO1z48f/\n",
       "k75+7vlm9Nv+rcHXOLMv1On+JpsmedURMvSLGBIBlQRw7WYx0y/2/KUesUVtOJGxho2sHKA29jhs\n",
       "FIGia48Nftz/8SNeGqvaqeSGjochc2aEVq3n/UsobjbRgmvst7jW2o+Qu7iM7UzoJT0nd9KIncYt\n",
       "sLZA8KSkv+gKVLsZ1Gri6mZcw3JSkZRqppAQL7Ih63s+ZPRnNnrxyQm5SYHZUQ2UsvZlCsILbpCU\n",
       "SVXJyimlsDdBEI6fbQ6L8gwJ51tI0ttZS+Vjnm6Ip5NvaQS/9gupt2RlGjVrJHO7QaD4KrkJQbHf\n",
       "XydvctUQNsh/J85D1b361M3BMIh9+Xp2wH+eVIqMhDHEejpJpTkaIcc344B2qZ/Z/zHhnwuA1lcS\n",
       "226c/lqUNojf7atsAbBA8ckYAUpw1NoOQuWf5bBvFaqsUzoDUVr3CQstS+lcEqG64VCYvcb1llQN\n",
       "AjdpFCGDQWJEPclOlR/GuS9XIrZ5xCjojmP6YdU8elUPqSiQ8HEBclqMCizdQAjoHovMq1YchJnh\n",
       "13iePx8KVtbTqMTeAvARnmUHt37Xhhu77oNz96zKasRjHJSA6bNLWU9RYQ4/SMA65BcHoHftA0HP\n",
       "7b7Y96DHzDocqSUKZT9HhsTyj+FxcdddQsJWM3emofA2OIZSdrZsOAxk8eTSxFGkemC09HYEgniD\n",
       "H/gEFnppaGZdJ0axV829dF+VX85sqhSracTde21vtaB1RSPGz9AGjwY3fteKenKoPUaG/CiBB5lO\n",
       "R6o9JKGHYhDj11iVT1fDfdubtne2tMQhiaCKy8pGrtZxhCfJPozaj38ydxYlIDaiL2p29ib42buk\n",
       "vMeUbJXPZN0Nu99JmCyg7WZ1UHRiMhztrwXCJTPfjAKRMOQcIIklmFBNWf5AeLNOmshEGkdD/8Ba\n",
       "/cxKLbrpaqtWPb6ZrY2amPiafaRW0Nn7Bz0S9PdwM/Ix44X53To32p80tMP9ODd7rp+qBoWLavi7\n",
       "xAFcgTjTXK7p5Vpt1QcRQv//6ph+aL5qK1zri4+dgMlAjBZBp7rRR3mfhPbQGHvNJ8W6iAeoWnnj\n",
       "WCgkYrhgghQ2r9HpYg8PO6bxSkOZdUCP2slVt6g42ussxjSsOydtbsdw2kr+60uTG7YP6JXN0G/F\n",
       "8i1KK0cCaOO7J2nX6PE5g1ujRLqvzmGYdlX/QCiDX794gd6JfveLWehCCHUP8Cs9+b4FyOBdbbok\n",
       "mbmRCk6B/sOsCvgaGabJ9Qpv52ItuvSbDCzVsRnRcUWzgAyAL8EHb8McuuDqTfkAGnvpfzxh9jq0\n",
       "VNn7sCYJWIszDYdoAvjnwxShRqxxKXtTXRgKsb8tDPZ7vHam/9g4/XD3lmd2tJ5FQZ4GqzikrrA6\n",
       "BRUlBXq3us0I9fOzKmn/JI7o4hF1fVCXWF5pJGzQ1qZAK4ju48xvSeMxr5pQWm+gByyuQSKM3rll\n",
       "/UB+XV28XBQhLDeCNobDuhZ0s7uw3QA04zFYTRYGyMYJzC4xcjGvw+I1JoRKq88FX8BeucTtr+BD\n",
       "e214b657jMoyMDzOQx/GqPYXswZLPB1dTy3QX6P2FgY8emPqERrTbYCj8OAIp7EubQDTFFPXBb/B\n",
       "61w+TQnsvM//wbz+iVomCN0+c4enZk/PWdDoIpX2bU/zSQWvdXHZwUoNg/VuGi7uRvzYXWZTgCx1\n",
       "swVAsAyq0TzgInOZRoE1HQvcc4hWw5UMt4UqH4nqNWyVD8KfLVcGYF+BFBdMHDLNg9dJP6Gxe4mU\n",
       "R3BIbncLgCkdzKmX3HYKm5jLKnNZhf48bDmhP8eZaKGBr2UJQYc99J6boJb69y4XFwZhVpU3RrWG\n",
       "qODw0Q1hXXMPc0gqTjfw2k4QF8l2Tld2WUaAkKYIm94rPtO+IMud/J8cyI0VfXIuYtUoaw3TTe25\n",
       "61R0NWQi6KeF2YxOZ97ELLPR+xKaYTD1Aqb4p4+KrMEFyO4Dmi2kEPlhdXwd2HkDp2Uii3kC66SS\n",
       "jCeUyStD4mb46YnNnYGJd8BIp28f82Kd/yLbbm/NIWfDxLHL774327yDRJCnDvXRDHjgLUB5FePk\n",
       "98diTm0zbES4hT2/e0NmdTwVxOw7xCeo7+RXfSRlfVMtyGPOWgmphwEUVZEx+FqkeMt0HABKuXJm\n",
       "FWwv4SglLX5oq1ZMJkT9nGbGOGCPYWV2O8Mlf0eUaXW3R9Zd94IQLb2os+QPCfopezxoTcdJjzco\n",
       "ZMalCP94fHPvFV+jputN7YL9VGDFVqOKgCmHCra20ZkUqiwbxwF80nM8E+zeLGqb03mmASBwelk1\n",
       "zFJdZax4fJCjxB5w8liOFjor0XQAO990kI/ZHVyMsW1qWHzfw5gCwbxGUkgdAAJArtin8/A/rUyt\n",
       "HJ2R4xNkI+58SClBleIzwAGP/9sCq+/0T54T4X6rL///5vrisBAAAAMAAAMAAAoZAAACUUGaJGxB\n",
       "f/7aplgAABjPOfzFiYUR5eRJLGlWmtCqKMRB0J/pX3ixhtBvGDCQe4PGuSsT4DZMlAtBqBQmKb65\n",
       "KOQURkDy1KV4ReWb2BOutIMgXmn6gSCkBoFGKP0eRYvwj3vb45WFcbZ45soUbm5XM3g8YWthXH4z\n",
       "OC0s0+vm/86YeVO0bZ8oF8O+HMQD/8JX5R6oWMcFFZT5PG2JAorR03Yx606655+w0wiEfftYOiZb\n",
       "QVpWXXpNA8tB1+4pvLnAseOO9LS3N83SqR2yIc30+5i1dY9qa8sO4rjtAk+UDF6emmbIkdEpbyDw\n",
       "phvY/icvCPfgICUwWkQl40oetBFmhYoK2PN4H0hoj20ErY//Z0NAy6ZX0j0smiZV9precARl4ztm\n",
       "r25TEwOuRe98wHaxRp5M+LPsxz3L//xHleW7FzEU3gLhP0sJ7q/ZeR5ZGgj8TYNv4h0w6pn4X+zI\n",
       "89930eY5HP39GikuvxGklIeCoqAJvUnpKp42/rq5GCzcNf0t7tp7bqYCTqlUiUJuuP5zuke+PfPz\n",
       "QUxrQH5WAyA5CY/BUt3sGJu/NvErEq3hCDLidyf94hpsNwTEbj+Pq2GUuX52bkjOjIo9A+qePMAk\n",
       "v7hOYQISgB5yIpfgMTyUlELRYt/jyLNq+wzqwkihxutf2vZBXAFNZNHf4nIDyDcFy6fcBR5hym2G\n",
       "x4OdUZxqCrm9FYJTnAjNzmtDwWl5c2uVL+NldZlpSKSubLnB/I92yGKuTkQXd5gDNQ7k0oMYSMVl\n",
       "0JnaBMDEAV18nMJup/rYgBaQAAAB7EGeQniC3wAAAwAKd5FeLOXP3EuOU6HpNQZ8d4mxmx+cGIDF\n",
       "zgOd9fGbooEbvEC6sec3MbAKsWzXORTXmcHIVAfwM5r0yKvAhDzVHf3A3EY8Hu3mii4To3oOu1pG\n",
       "fHfC2DsTMZJ/e9Ldw5f3zPt2YnONjkOd4m8NJ2K2QgHPSVbIqf8mx9PUGH/9hqpVX23i4q+4D+jX\n",
       "inQx/5pvishDO5NEnrco/+tLkYn/gNWg+9Xxt6y98Pswih2H5PK0uw94+MsB1wv9wUFV3U5Se/+O\n",
       "Y/195Er2PZWKc6vcxqggZ/CNsh51m+tpPy4G+Si1tuWdIxrwRMWzkH8U5re6Oxiv7JavjvN1Xcno\n",
       "nUxPhQBhtc3vkFVgAR5xdCw09sFMn1CFY4rYKJrv57VfJ72TWHgEJ5g/OQ9SMLDAnRma6NsBJ+b9\n",
       "ffwOATLucUV1ci25nyTlpUiOy5DlMZLkuBBN+UEdZKq36TkSyrEQHKk0uOpLIZg5FAuG3jXACnuf\n",
       "jv/A88bqYw9atWDgREUtLtBf6GcGuaUmPrtx5qLdaQma0M3PdcdN4jOfLnAAlQ2zTap1m2aSCbc0\n",
       "0QIvvVWYV6k2AJm0ciVNohVqTi1+ZGwMGxZ58JchBXcoFBdA96O0iITLFuvb6TtKYs7+BVCDAAA3\n",
       "oQAAAXwBnmF0QV8AAAMACGSbXV+b0HicvJWXp4jqDOR6jg0zUs+Rl0rJknt5TUAn/Y1IhWEAVZd3\n",
       "Ksr2e4dm2zX6I1iof35CFcl6fHdalw16+tePxr2gBwSw8dnlQQKJzeasxm8K6rdIJDOyo1e2m9x2\n",
       "8l+soAbG6DDLVLlLTWqhvURYaphvwIvWVaeFaysg3EwveScLYzg4CoE789M5GvnichSFwpMZsll1\n",
       "rYjy0sNzEEOjs7NFW6cfnVIKpn3gy84hDtE3wKAlpDisHtf2wW+732J+oTXmbSQl2mNykZN4jjSL\n",
       "DMeZWiZdiVoMLtNAfBlQBNBTeaZpUj7e2NB1KJtGgI+P/INo41JrkJZxAI0+Yv9YJc5JhZM5rA2/\n",
       "f7UQtUm607t+5CiDoUnSs3XH8PUL5kRJUoPqWi9Yc+uQJOIdXsGa1XRMCtU2Vo/OzUJjHNSIqvMi\n",
       "/Ck4p87zZsIbJ15lljssSTInGY8F51d8FoxhWezXkkpoafYm8IenoAAdUAAAAZABnmNqQV8AAAMA\n",
       "D9Wx+jfDi/kIyPo9IJKw3Qc0wT8JVIV2GzhLRCSHVvEDd8ApKqOyaTpLlz0ISLexCaFL8LPqXPCE\n",
       "8VHXqc1c4vI+6ggcQnEejeniyRvfwhxUJOiaP76eZGPZmP3EDqYAhLMGFr08G+i9ffSB9pltHrQD\n",
       "smfaMRx8wJ+2cpBm/PfI662SWVdHH71jDyn2kKOVgCvJx/WHnATICMyRj7OuXRe/Cx0Ea+FKescV\n",
       "Gk4nlnTj99/kv7L/qa+9JSfh34iWSq7d8Ic30UC4NQo2DkusHwWixd4yp8yyXDlHNihAe+CuRAC6\n",
       "FvhpD23ANwS+9Y2xis41mjwApeDsJld97MlNZGJ9B+uY5R39R07jJBYpnGanLWDAf4aKW4kigXgv\n",
       "crc3J5HMldRwlwlqVjMM7KfX3wiaCM6MFcroQheJjY2rWMWZDUm5gwixMAN2VcW1wAcYwA/yoQU+\n",
       "fYaa22tqguGARAFFDIW3OdlLxTqHX0YEUlKVjzk4BuiImH2ev8owj5jZ4KoAAIuBAAABy0GaaEmo\n",
       "QWiZTAgr//7WpVAAASB3fCAD+Q20AfzwTQqq74f0YPNNA6tZ/2cSqD1Ol8WKNp5UNsXzxZ0CxuWc\n",
       "amZTa79yFR1/xbO9C3eXHmlHVb89Y3yyK1JoWAfsi9PucGNahJfqkAJuHZ+mr6o04jjDuA2aesp2\n",
       "pDOpo/9Q/btCehO67oxwGg8khIL9umz/JMdZg5xHrzmyJCAQFSjX3gfVHTWOhsC7A3HGwmTYirlk\n",
       "uPYg3u1l1Ch7onsT5SzvjJWoCvcJqtQNvRwFZ4YS7U1LmTcy04VPajaCy1Udi6Y8Q8/VeI47yKN8\n",
       "QpCCOoRqYY4CoQaqeZuyyOtWH7CQcvSKz3UgqRiVa1T+0ojaLK25VKWreKXhY9UCViUTaPWL6QWq\n",
       "w+mXCHdQTec2eKw95bnioc+LTEo49beNOprx4TsYvqyrGkUAd0pB7ICIKTomMLsfgP0GaERbog+L\n",
       "sSO6o3y4GsnFWgraNZIaM8E/fGBfp7fnKdNwO1Ndy+3uFDWo2aWRkYxNO/5eKm4ipOjEv76nf71x\n",
       "88relF0IxKbtjhwobu2MYcQjGWU2SLn+MKFNvtm9U/JNAzTK8R+R/Ki0wQosJAEUIgdeoAACRwAA\n",
       "AdVBnoZFESwW/wAAAwB716kgWPYPVsupDVb+5enUYZJWS/xwTEUUGeWawZd6PPZ7a7Wai8pNGbHy\n",
       "olMvURITzUQhhjs18H+OdlPQ7A7uR3eOFEthuqCXufJVO8rGWJdjjmz2mApViGOemSeilUSDExzp\n",
       "NtWIxLnoRc2KvTy/G+equPB3OFfIRUt2Tnoi5oE5bIcyH7bCYyXaIk3CJ2TKPyyYYKPPIa2vite1\n",
       "y2npueQSz6QkQb5uU+YfK4ymjmLJpuCpMPf4YIwoZXW+Oys4ui3k41Lk90ODry5i+c47G+YqV8oa\n",
       "ac+rPp2tf93TiQi9T23sXQWgCJEkx46O2P8zX9tTGdvy+1Ztzr89USCeI7ih1h+4UGz+yTe5GWdA\n",
       "W5fKNUG9M3GP8uIQMYFpLLFdDIJAmOdTUuMis65qQ1TN5NL1Fb54CmBlaGIu6P23wp0HHvzxtDNc\n",
       "GLcMA7f+XoVhS8KJRKASaR2BuKpyvrLfF42gJXPX/o9c4fc8Msvwype8K+x5lrRY1Su0SCYcDtSP\n",
       "YRsv/d/QSwFr5F26qFXBjY1+UZx3H3oyDbiJlh52VetTQk+IIglgE6QFnRD9FpXA2N5X3/3PzeMf\n",
       "zB0dZDa/oTVROiXgAHHBAAABYwGepXRBXwAAAwA51nxql/BqD4A39hA35RVRf5O8OqbEShgWcRt1\n",
       "Ug20QvTBKy5nvsLXvfzJYps6iks9f7mNz0EFAPdeKDsnKmM2shDQ7WV3L2TrE41DjnPVllUpDX44\n",
       "JOHszfsmWCBTVY39F4Q0JBKTaLvww2msGYrCQUGr7eioFl1oYa96giZTuhGpRwIlGjcBiJfzAhdC\n",
       "TcTfg4UNq3DJYT6jsYI3Y8IvHx5a35gM1ZM4Us79Mpo22PKQsdQoMZ/bS34/HmGzmnq4tiacOqQq\n",
       "2DOf8vlbIUQS+K26gJqCZL8hbD9+cdL7TVPlBFgJ4uFVYFhOjWT3IRc/qh9RJ3AIneBWqMQm8iHE\n",
       "xkfKgLviIGJqwpmCyoT4nbGnGtefymCwF5McVl+edJEaW5AA600Lzkp802r9w3JaDjSmqvM385pY\n",
       "zI9/OePDp9eVYuoF2zLd8vLEcLhUmighGUmwZYAABqUAAAFzAZ6nakFfAAADAMNbRbZrZETHDb/v\n",
       "eJ4FtC+afZKz7iR6VJh1DipfSyIPzUM+Odag9UllpJavsqMjI0fq57tHw9kWyyr8+iEGcYM/4a/p\n",
       "c6a89zEoWvFFCXexjOKwW1HpZJD2CpGVsj/WRKkdH/aoyK49mKhFckCT1ZfnjdDmwNuMgq24ryKk\n",
       "QeYT1MbjINgXKxt74Y0A7iyCZEu/DAykfnhdC7TEscEPH9eevvbv8axMoywUq4A/aUHurOpVL8sZ\n",
       "vKY8BLwPY5O+gt+CJznpns1PRI8MBcWlixxtm673174sPKyBXdKyF4oIYDpohqWaPgyJrZplNcbc\n",
       "ZeoksOr0ngKM2Z3M+y9E14sMMTNcfnDcCmSQguU7Ti7x70lwEk/SPGm77ElSsaav64xivsVuJijd\n",
       "/blf4zCKWu2tKpd4BCz/1jLs+aC7LRfOcfo88xPs4pshf1emM90MUWqT9QoyIYeGVO2ZKMosx+Je\n",
       "+qWhXoAAA3oAAAObbW9vdgAAAGxtdmhkAAAAAAAAAAAAAAAAAAAD6AAAIygAAQAAAQAAAAAAAAAA\n",
       "AAAAAAEAAAAAAAAAAAAAAAAAAAABAAAAAAAAAAAAAAAAAABAAAAAAAAAAAAAAAAAAAAAAAAAAAAA\n",
       "AAAAAAAAAAAAAgAAAsV0cmFrAAAAXHRraGQAAAADAAAAAAAAAAAAAAABAAAAAAAAIygAAAAAAAAA\n",
       "AAAAAAAAAAAAAAEAAAAAAAAAAAAAAAAAAAABAAAAAAAAAAAAAAAAAABAAAAAAtAAAAJAAAAAAAAk\n",
       "ZWR0cwAAABxlbHN0AAAAAAAAAAEAACMoAACAAAABAAAAAAI9bWRpYQAAACBtZGhkAAAAAAAAAAAA\n",
       "AAAAAABAAAACQABVxAAAAAAALWhkbHIAAAAAAAAAAHZpZGUAAAAAAAAAAAAAAABWaWRlb0hhbmRs\n",
       "ZXIAAAAB6G1pbmYAAAAUdm1oZAAAAAEAAAAAAAAAAAAAACRkaW5mAAAAHGRyZWYAAAAAAAAAAQAA\n",
       "AAx1cmwgAAAAAQAAAahzdGJsAAAAtHN0c2QAAAAAAAAAAQAAAKRhdmMxAAAAAAAAAAEAAAAAAAAA\n",
       "AAAAAAAAAAAAAtACQABIAAAASAAAAAAAAAABAAAAAAAAAAAAAAAAAAAAAAAAAAAAAAAAAAAAAAAA\n",
       "AAAAGP//AAAAMmF2Y0MBZAAW/+EAGWdkABas2UC0EmhAAAADAEAAAAMAg8WLZYABAAZo6+PLIsAA\n",
       "AAAcdXVpZGtoQPJfJE/FujmlG88DI/MAAAAAAAAAGHN0dHMAAAAAAAAAAQAAAAkAAEAAAAAAFHN0\n",
       "c3MAAAAAAAAAAQAAAAEAAABYY3R0cwAAAAAAAAAJAAAAAQAAgAAAAAABAAFAAAAAAAEAAIAAAAAA\n",
       "AQAAAAAAAAABAABAAAAAAAEAAUAAAAAAAQAAgAAAAAABAAAAAAAAAAEAAEAAAAAAHHN0c2MAAAAA\n",
       "AAAAAQAAAAEAAAAJAAAAAQAAADhzdHN6AAAAAAAAAAAAAAAJAAAkwQAAAlUAAAHwAAABgAAAAZQA\n",
       "AAHPAAAB2QAAAWcAAAF3AAAAFHN0Y28AAAAAAAAAAQAAACwAAABidWR0YQAAAFptZXRhAAAAAAAA\n",
       "ACFoZGxyAAAAAAAAAABtZGlyYXBwbAAAAAAAAAAAAAAAAC1pbHN0AAAAJal0b28AAAAdZGF0YQAA\n",
       "AAEAAAAATGF2ZjU4LjIwLjEwMA==\n",
       "\">\n",
       "  Your browser does not support the video tag.\n",
       "</video>"
      ],
      "text/plain": [
       "<IPython.core.display.HTML object>"
      ]
     },
     "execution_count": 39,
     "metadata": {},
     "output_type": "execute_result"
    }
   ],
   "source": [
    "HTML(anim.to_html5_video())"
   ]
  },
  {
   "cell_type": "code",
   "execution_count": 28,
   "metadata": {},
   "outputs": [],
   "source": [
    "Writer = animation.writers['ffmpeg']\n",
    "writer = Writer(fps=1, metadata=dict(artist='Me'), bitrate=1800)"
   ]
  },
  {
   "cell_type": "code",
   "execution_count": 40,
   "metadata": {},
   "outputs": [],
   "source": [
    "# anim.save('TPSeqOneSecOrder.mp4', writer=writer)\n",
    "anim.save('TPSeqTwoSecOrder.mp4', writer=writer)"
   ]
  },
  {
   "cell_type": "code",
   "execution_count": null,
   "metadata": {},
   "outputs": [],
   "source": [
    "vesselPrevState = get_vessel_init_status(oneVesselLastDataTwoLon.iloc[0],oneVesselLastDataTwoLat.iloc[0])\n",
    "vesselCurrState = get_vessel_init_status(oneVesselLastDataTwoLon.iloc[1],oneVesselLastDataTwoLat.iloc[1])\n",
    "vesselState = generate_vessel_prev_cur_status(vesselPrevState,vesselCurrState)\n",
    "twoPredict = []\n",
    "for i in range(20):\n",
    "    vesselProbState = generate_path(vesselState)\n",
    "    print(i)\n",
    "    print(np.sum(vesselProbState))\n",
    "    twoPredict.append(vesselProbState.copy())\n",
    "    vesselPrevState = vesselCurrState.copy()\n",
    "    vesselCurrState = vesselProbState.copy()\n",
    "    vesselState = generate_vessel_prev_cur_status(vesselPrevState,vesselCurrState)\n",
    "    \n",
    "    vesselState[rowSumZeroIdx] = 0\n",
    "    vesselState = vesselState/np.sum(vesselState)"
   ]
  },
  {
   "cell_type": "code",
   "execution_count": null,
   "metadata": {},
   "outputs": [],
   "source": [
    "vesselPrevState = get_vessel_init_status(oneVesselLastDataTwoLon.iloc[0],oneVesselLastDataTwoLat.iloc[0])\n",
    "vesselCurrState = get_vessel_init_status(oneVesselLastDataTwoLon.iloc[1],oneVesselLastDataTwoLat.iloc[1])\n",
    "vesselState = generate_vessel_prev_cur_status(vesselPrevState,vesselCurrState)\n",
    "\n",
    "useAspect = 0\n",
    "aspectRatio = 16.0/9.0\n",
    "figWidth = 10\n",
    "figHeight = 8\n",
    "\n",
    "fig = plt.figure(figsize=(figWidth,figHeight))\n",
    "ax1 = fig.add_axes([0.1, 0.15, 0.49, 0.30])\n",
    "ax2 = fig.add_axes([0.1, 0.55, 0.49, 0.30])\n",
    "ax4 = fig.add_axes([0.8, 0.55, 0.01, 0.30])\n",
    "\n",
    "if useAspect == 1:\n",
    "    figHeight = figWidth/aspectRatio\n",
    "\n",
    "def animate(i):\n",
    "    global vesselPrevState, vesselCurrState, vesselState\n",
    "    vesselCurrPos = get_vessel_init_status(oneVesselLastDataTwoLon.iloc[i+2],oneVesselLastDataTwoLat.iloc[i+2])\n",
    "    vesselCurrPos = np.reshape(vesselCurrPos,(verticalAxis.shape[0],horizontalAxis.shape[0]))\n",
    "    \n",
    "    vesselCurrPos = np.flip(vesselCurrPos,axis=0)\n",
    "\n",
    "    ax1.set_xlabel('Longitude')\n",
    "    ax1.set_ylabel('Lattitude')\n",
    "    titleStr = 'Vessel Position %d'%((i))\n",
    "    ax1.set_title(titleStr)\n",
    "    ax1.set_xticks([lonMin,lonMax])\n",
    "    ax1.set_yticks([latMin,latMax])\n",
    "\n",
    "    ax2.set_xlabel('Longitude')\n",
    "    ax2.set_ylabel('Lattitude')\n",
    "    ax2.set_title('Transition Probability Projection')\n",
    "    ax2.set_xticks([lonMin,lonMax])\n",
    "    ax2.set_yticks([latMin,latMax])\n",
    "\n",
    "    ax1.imshow(vesselCurrPos,cmap=plt.get_cmap('hot'),extent=[lonMin,lonMax,latMin,latMax])\n",
    "    #sequence of vessel states\n",
    "    \n",
    "    vesselProbState = twoPredict[i].copy()\n",
    "    vesselProbState = np.reshape(vesselProbState,(verticalAxis.shape[0],horizontalAxis.shape[0]))\n",
    "    vesselProbState = np.flip(vesselProbState,axis=0)\n",
    "    \n",
    "    iMShowHandler = ax2.imshow(vesselProbState,cmap=plt.get_cmap('YlGnBu'),extent=[lonMin,lonMax,latMin,latMax], vmax = 0.1)\n",
    "    \n",
    "    fig.colorbar(iMShowHandler,ax4)\n",
    "    \n",
    "anim = animation.FuncAnimation(fig, animate,frames=20, interval=1000)\n"
   ]
  },
  {
   "cell_type": "code",
   "execution_count": null,
   "metadata": {},
   "outputs": [],
   "source": [
    "HTML(anim.to_html5_video())"
   ]
  },
  {
   "cell_type": "code",
   "execution_count": null,
   "metadata": {},
   "outputs": [],
   "source": [
    "anim.save('TPSeqTwoSecOrder.mp4', writer=writer)"
   ]
  }
 ],
 "metadata": {
  "kernelspec": {
   "display_name": "Python 3",
   "language": "python",
   "name": "python3"
  },
  "language_info": {
   "codemirror_mode": {
    "name": "ipython",
    "version": 3
   },
   "file_extension": ".py",
   "mimetype": "text/x-python",
   "name": "python",
   "nbconvert_exporter": "python",
   "pygments_lexer": "ipython3",
   "version": "3.7.3"
  }
 },
 "nbformat": 4,
 "nbformat_minor": 2
}
