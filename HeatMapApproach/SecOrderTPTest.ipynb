{
 "cells": [
  {
   "cell_type": "code",
   "execution_count": null,
   "metadata": {},
   "outputs": [],
   "source": [
    "%load_ext autoreload\n",
    "%autoreload 2"
   ]
  },
  {
   "cell_type": "code",
   "execution_count": null,
   "metadata": {},
   "outputs": [],
   "source": [
    "%matplotlib inline\n",
    "import sys\n",
    "import os\n",
    "import numpy as np\n",
    "import pandas as pd\n",
    "import scipy.sparse\n",
    "from scipy.sparse import csc_matrix\n",
    "from scipy.sparse import lil_matrix\n",
    "\n",
    "import matplotlib.pyplot as plt\n",
    "import matplotlib.animation as animation\n",
    "from mpl_toolkits.basemap import Basemap\n",
    "from matplotlib.patches import Circle\n",
    "import seaborn as sns; \n",
    "from IPython.display import HTML\n",
    "\n",
    "from sklearn.model_selection import train_test_split\n",
    "from sklearn.model_selection import GridSearchCV\n",
    "from sklearn import preprocessing\n",
    "from sklearn import svm\n",
    "from sklearn.metrics import r2_score"
   ]
  },
  {
   "cell_type": "code",
   "execution_count": null,
   "metadata": {},
   "outputs": [],
   "source": [
    "#config parser\n",
    "import configparser\n",
    "\n",
    "sys.path.insert(0, '../Common/')\n",
    "from AISDataManager import AISDataManager\n",
    "import Constants as c\n",
    "import HMUtils as hMUtil\n",
    "import TimeUtils as timeUtils\n",
    "import GeoCompute as gC\n",
    "\n",
    "#MyConfig.INI stores all the run time constants\n",
    "config = configparser.ConfigParser()\n",
    "config.read('../MyConfig.INI')\n",
    "\n",
    "from joblib import Parallel, delayed\n",
    "import multiprocessing\n",
    "aISDM = AISDataManager()\n",
    "numCores = multiprocessing.cpu_count()"
   ]
  },
  {
   "cell_type": "code",
   "execution_count": null,
   "metadata": {},
   "outputs": [],
   "source": [
    "lonMin = (float)(config['TP_SEC_ORDER']['LON_MIN'])\n",
    "lonMax = (float)(config['TP_SEC_ORDER']['LON_MAX'])\n",
    "\n",
    "latMin = (float)(config['TP_SEC_ORDER']['LAT_MIN'])\n",
    "latMax = (float)(config['TP_SEC_ORDER']['LAT_MAX'])\n",
    "\n",
    "print(lonMin,latMin)\n",
    "print(lonMax,latMax)\n",
    "\n",
    "increStep = (float)(config['TP_SEC_ORDER']['INCR_STEP'])\n",
    "incrRes = (int)(config['TP_SEC_ORDER']['INCR_RES'])\n",
    "\n",
    "fileDir = config['TP_SEC_ORDER']['SOURCE_DIR']\n",
    "dirToStore = config['TP_SEC_ORDER']['DEST_DIR']\n",
    "\n",
    "print(\"SOURCE_DIR = %s\"%fileDir)\n",
    "print(\"DEST_DIR = %s\"%dirToStore)"
   ]
  },
  {
   "cell_type": "code",
   "execution_count": null,
   "metadata": {},
   "outputs": [],
   "source": [
    "heatMapGrid = hMUtil.generate_grid(lonMin, lonMax, latMin, latMax, increStep, incrRes)"
   ]
  },
  {
   "cell_type": "code",
   "execution_count": null,
   "metadata": {},
   "outputs": [],
   "source": [
    "boundaryArray = heatMapGrid[2]\n",
    "horizontalAxis = heatMapGrid[0]\n",
    "verticalAxis = heatMapGrid[1]\n",
    "totalStates = horizontalAxis.shape[0] * verticalAxis.shape[0]"
   ]
  },
  {
   "cell_type": "code",
   "execution_count": null,
   "metadata": {},
   "outputs": [],
   "source": [
    "opFile = dirToStore + 'TPM.npz'\n",
    "# opFile = dirToStore + 'TPM_.npz'\n",
    "tpMatrix = scipy.sparse.load_npz(opFile)\n",
    "\n",
    "# opFile = dirToStore + 'TPM.npy'\n",
    "# tpMatrix = np.load(opFile)"
   ]
  },
  {
   "cell_type": "code",
   "execution_count": null,
   "metadata": {},
   "outputs": [],
   "source": [
    "print(tpMatrix.sum())"
   ]
  },
  {
   "cell_type": "code",
   "execution_count": null,
   "metadata": {},
   "outputs": [],
   "source": [
    "def get_vessel_init_status(lonStart,latStart):\n",
    "    vesselState = np.zeros((horizontalAxis.shape[0]*verticalAxis.shape[0]))\n",
    "    for boundary in boundaryArray :\n",
    "        if((lonStart >= boundary[0]) \\\n",
    "            and (lonStart < boundary[1]) \\\n",
    "           \n",
    "            and (latStart >= boundary[2]) \\\n",
    "            and (latStart < boundary[3]) \\\n",
    "          ):\n",
    "            vesselState[boundary[4]] = 1.0\n",
    "            break\n",
    "    return vesselState"
   ]
  },
  {
   "cell_type": "code",
   "execution_count": null,
   "metadata": {},
   "outputs": [],
   "source": [
    "#takes inital state vector\n",
    "#and number of steps \n",
    "#uses transition probabilities to generate the path\n",
    "def generate_path(vesselStatus):\n",
    "    return (vesselStatus.T @ tpMatrix).flatten()\n",
    "\n",
    "def generate_vessel_prev_cur_status(prevState,currState):\n",
    "    vesselState = np.zeros((totalStates,totalStates))\n",
    "    for i in range(prevState.shape[0]):\n",
    "        vesselState[i,:] = (prevState[i]*currState)\n",
    "    return vesselState.flatten()"
   ]
  },
  {
   "cell_type": "code",
   "execution_count": null,
   "metadata": {},
   "outputs": [],
   "source": [
    "oneVessel = \"../Data/M120_50_M119_00_33_90_34_44/MMSI_17_1004_G15/2732.csv\"\n",
    "oneVesselLastDataOne,_ = aISDM.load_data_from_csv(oneVessel)"
   ]
  },
  {
   "cell_type": "code",
   "execution_count": null,
   "metadata": {},
   "outputs": [],
   "source": [
    "print(oneVesselLastDataOne)"
   ]
  },
  {
   "cell_type": "code",
   "execution_count": null,
   "metadata": {},
   "outputs": [],
   "source": [
    "fix,ax = plt.subplots()\n",
    "oneVesselLastDataOneLon = oneVesselLastDataOne[\"LON\"]\n",
    "oneVesselLastDataOneLat = oneVesselLastDataOne[\"LAT\"]\n",
    "ax.set_xlim(lonMin, lonMax)\n",
    "ax.set_ylim(latMin, latMax)\n",
    "ax.plot(oneVesselLastDataOneLon,oneVesselLastDataOneLat)"
   ]
  },
  {
   "cell_type": "code",
   "execution_count": null,
   "metadata": {},
   "outputs": [],
   "source": [
    "rowSum = np.sum(tpMatrix, axis=1)\n",
    "rowSumZeroIdx = np.argwhere(rowSum == 0)\n",
    "rowSumZeroIdx = rowSumZeroIdx.flatten()"
   ]
  },
  {
   "cell_type": "code",
   "execution_count": null,
   "metadata": {},
   "outputs": [],
   "source": [
    "vesselPrevState = get_vessel_init_status(oneVesselLastDataOneLon.iloc[0],oneVesselLastDataOneLat.iloc[0])\n",
    "vesselCurrState = get_vessel_init_status(oneVesselLastDataOneLon.iloc[1],oneVesselLastDataOneLat.iloc[1])\n",
    "vesselState = generate_vessel_prev_cur_status(vesselPrevState,vesselCurrState)\n",
    "onePredict = []\n",
    "for i in range(6):\n",
    "    vesselProbState = generate_path(vesselState)\n",
    "    print(i)\n",
    "    print(np.sum(vesselProbState))\n",
    "    onePredict.append(vesselProbState.copy())\n",
    "    vesselPrevState = vesselCurrState.copy()\n",
    "    vesselCurrState = vesselProbState.copy()\n",
    "    vesselState = generate_vessel_prev_cur_status(vesselPrevState,vesselCurrState)    \n",
    "    #make probabilities zero\n",
    "    vesselState[rowSumZeroIdx] = 0\n",
    "    vesselState = vesselState/np.sum(vesselState)\n",
    "    print(np.sum(vesselState))"
   ]
  },
  {
   "cell_type": "code",
   "execution_count": null,
   "metadata": {},
   "outputs": [],
   "source": [
    "vesselPrevState = get_vessel_init_status(oneVesselLastDataOneLon.iloc[0],oneVesselLastDataOneLat.iloc[0])\n",
    "vesselCurrState = get_vessel_init_status(oneVesselLastDataOneLon.iloc[1],oneVesselLastDataOneLat.iloc[1])\n",
    "vesselState = generate_vessel_prev_cur_status(vesselPrevState,vesselCurrState)\n",
    "useAspect = 0\n",
    "aspectRatio = 16.0/9.0\n",
    "figWidth = 10\n",
    "figHeight = 8\n",
    "\n",
    "fig = plt.figure(figsize=(figWidth,figHeight))\n",
    "ax1 = fig.add_axes([0.1, 0.15, 0.49, 0.30])\n",
    "ax2 = fig.add_axes([0.1, 0.55, 0.49, 0.30])\n",
    "ax4 = fig.add_axes([0.8, 0.55, 0.01, 0.30])\n",
    "\n",
    "if useAspect == 1:\n",
    "    figHeight = figWidth/aspectRatio\n",
    "\n",
    "def animate(i):\n",
    "    global vesselPrevState, vesselCurrState, vesselState\n",
    "    vesselCurrPos = get_vessel_init_status(oneVesselLastDataOneLon.iloc[i+2],oneVesselLastDataOneLat.iloc[i+2])\n",
    "    vesselCurrPos = np.reshape(vesselCurrPos,(verticalAxis.shape[0],horizontalAxis.shape[0]))\n",
    "    \n",
    "    vesselCurrPos = np.flip(vesselCurrPos,axis=0)\n",
    "\n",
    "    ax1.set_xlabel('Longitude')\n",
    "    ax1.set_ylabel('Lattitude')\n",
    "    titleStr = 'Vessel Position %d'%((i))\n",
    "    ax1.set_title(titleStr)\n",
    "    ax1.set_xticks([lonMin,lonMax])\n",
    "    ax1.set_yticks([latMin,latMax])\n",
    "\n",
    "    ax2.set_xlabel('Longitude')\n",
    "    ax2.set_ylabel('Lattitude')\n",
    "    ax2.set_title('Transition Probability Projection')\n",
    "    ax2.set_xticks([lonMin,lonMax])\n",
    "    ax2.set_yticks([latMin,latMax])\n",
    "\n",
    "    ax1.imshow(vesselCurrPos,cmap=plt.get_cmap('hot'),extent=[lonMin,lonMax,latMin,latMax])\n",
    "    #sequence of vessel states\n",
    "#     vesselProbState = generate_path(vesselState)\n",
    "#     #copy the file\n",
    "#     vesselPrevState = vesselCurrState.copy()\n",
    "#     vesselCurrState = vesselProbState.copy()\n",
    "#     vesselState = generate_vessel_prev_cur_status(vesselPrevState,vesselCurrState)\n",
    "    \n",
    "    vesselProbState = onePredict[i].copy()\n",
    "    vesselProbState = np.reshape(vesselProbState,(verticalAxis.shape[0],horizontalAxis.shape[0]))\n",
    "    vesselProbState = np.flip(vesselProbState,axis=0)\n",
    "    iMShowHandler = ax2.imshow(vesselProbState,cmap=plt.get_cmap('YlGnBu'),extent=[lonMin,lonMax,latMin,latMax], vmax = 0.1)\n",
    "    \n",
    "    fig.colorbar(iMShowHandler,ax4)\n",
    "    \n",
    "anim = animation.FuncAnimation(fig, animate,frames=6, interval=1000)"
   ]
  },
  {
   "cell_type": "code",
   "execution_count": null,
   "metadata": {},
   "outputs": [],
   "source": [
    "HTML(anim.to_html5_video())"
   ]
  },
  {
   "cell_type": "code",
   "execution_count": null,
   "metadata": {},
   "outputs": [],
   "source": [
    "Writer = animation.writers['ffmpeg']\n",
    "writer = Writer(fps=1, metadata=dict(artist='Me'), bitrate=1800)"
   ]
  },
  {
   "cell_type": "code",
   "execution_count": null,
   "metadata": {},
   "outputs": [],
   "source": [
    "# anim.save('TPSeqOneSecOrder.mp4', writer=writer)\n",
    "# anim.save('TPSeqTwoSecOrder.mp4', writer=writer)\n",
    "# anim.save('FishingVessel.mp4', writer=writer)\n",
    "anim.save('NewRegion3.mp4', writer=writer)"
   ]
  }
 ],
 "metadata": {
  "kernelspec": {
   "display_name": "Python 3",
   "language": "python",
   "name": "python3"
  },
  "language_info": {
   "codemirror_mode": {
    "name": "ipython",
    "version": 3
   },
   "file_extension": ".py",
   "mimetype": "text/x-python",
   "name": "python",
   "nbconvert_exporter": "python",
   "pygments_lexer": "ipython3",
   "version": "3.7.3"
  }
 },
 "nbformat": 4,
 "nbformat_minor": 2
}
