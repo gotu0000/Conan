{
 "cells": [
  {
   "cell_type": "code",
   "execution_count": null,
   "metadata": {},
   "outputs": [],
   "source": [
    "%load_ext autoreload\n",
    "%autoreload 2"
   ]
  },
  {
   "cell_type": "code",
   "execution_count": null,
   "metadata": {},
   "outputs": [],
   "source": [
    "%matplotlib inline\n",
    "import sys\n",
    "import os\n",
    "import numpy as np\n",
    "import pandas as pd\n",
    "import scipy.sparse\n",
    "from scipy.sparse import csc_matrix\n",
    "from scipy.sparse import lil_matrix\n",
    "\n",
    "import matplotlib.pyplot as plt\n",
    "import matplotlib.animation as animation\n",
    "from mpl_toolkits.basemap import Basemap\n",
    "from matplotlib.patches import Circle\n",
    "import seaborn as sns; \n",
    "from IPython.display import HTML\n",
    "\n",
    "from sklearn.model_selection import train_test_split\n",
    "from sklearn.model_selection import GridSearchCV\n",
    "from sklearn import preprocessing\n",
    "from sklearn import svm\n",
    "from sklearn.metrics import r2_score"
   ]
  },
  {
   "cell_type": "code",
   "execution_count": null,
   "metadata": {},
   "outputs": [],
   "source": [
    "#config parser\n",
    "import configparser\n",
    "\n",
    "sys.path.insert(0, '../Common/')\n",
    "from AISDataManager import AISDataManager\n",
    "import Constants as c\n",
    "import HMUtils as hMUtil\n",
    "import TimeUtils as timeUtils\n",
    "import GeoCompute as gC\n",
    "\n",
    "#MyConfig.INI stores all the run time constants\n",
    "config = configparser.ConfigParser()\n",
    "config.read('../MyConfig.INI')\n",
    "\n",
    "from joblib import Parallel, delayed\n",
    "import multiprocessing\n",
    "aISDM = AISDataManager()\n",
    "numCores = multiprocessing.cpu_count()"
   ]
  },
  {
   "cell_type": "code",
   "execution_count": null,
   "metadata": {},
   "outputs": [],
   "source": [
    "lonMin = (float)(config['TP_SEC_ORDER']['LON_MIN'])\n",
    "lonMax = (float)(config['TP_SEC_ORDER']['LON_MAX'])\n",
    "\n",
    "latMin = (float)(config['TP_SEC_ORDER']['LAT_MIN'])\n",
    "latMax = (float)(config['TP_SEC_ORDER']['LAT_MAX'])\n",
    "\n",
    "print(lonMin,latMin)\n",
    "print(lonMax,latMax)\n",
    "\n",
    "increStep = (float)(config['TP_SEC_ORDER']['INCR_STEP'])\n",
    "incrRes = (int)(config['TP_SEC_ORDER']['INCR_RES'])\n",
    "\n",
    "trueDir = \"../Data/M120_50_M119_00_33_90_34_44/Display/TrueTraj/\"\n",
    "probDir = \"../Data/M120_50_M119_00_33_90_34_44/Display/ProbTraj/\"\n",
    "trueProbDir = \"../Data/M120_50_M119_00_33_90_34_44/Display/TrueProbTraj/\"\n",
    "boundaryPad = 0.4"
   ]
  },
  {
   "cell_type": "code",
   "execution_count": null,
   "metadata": {},
   "outputs": [],
   "source": [
    "trueImage = trueDir + '0' + '.png'    \n",
    "vesselCurrImg = plt.imread(trueImage)\n",
    "print(vesselCurrImg.shape)"
   ]
  },
  {
   "cell_type": "code",
   "execution_count": null,
   "metadata": {},
   "outputs": [],
   "source": [
    "fig = plt.figure(figsize=(12,8))\n",
    "\n",
    "ax1 = fig.add_axes([0.1, 0.1, 0.38, 0.70])\n",
    "ax2 = fig.add_axes([0.56, 0.1, 0.38, 0.70])\n",
    "ax3 = fig.add_axes([0.1, 0.72, 0.94, 0.10])\n",
    "\n",
    "minuteCounter = 0\n",
    "def animate(i):\n",
    "    global minuteCounter \n",
    "    trueImage = trueDir + str(i) + '.png'\n",
    "    probImage = probDir + str(i) + '.png'\n",
    "    \n",
    "    vesselCurrImg = plt.imread(trueImage)\n",
    "    vesselCurrPosPredImg = plt.imread(probImage)\n",
    "    ax1.imshow(vesselCurrImg[250:480,350:720],extent=[lonMin-boundaryPad \\\n",
    "                                                          ,lonMax+boundaryPad \\\n",
    "                                                          ,latMin-boundaryPad \\\n",
    "                                                          ,latMax+boundaryPad \\\n",
    "                                                         ])\n",
    "\n",
    "\n",
    "\n",
    "    ax2.imshow(vesselCurrPosPredImg[250:480,350:720],extent=[lonMin-boundaryPad \\\n",
    "                                                              ,lonMax+boundaryPad \\\n",
    "                                                              ,latMin-boundaryPad \\\n",
    "                                                              ,latMax+boundaryPad \\\n",
    "                                                             ])\n",
    "    \n",
    "\n",
    "    ax1.set_xticks([lonMin-boundaryPad,lonMax+boundaryPad])\n",
    "    ax1.set_yticks([latMin-boundaryPad,latMax+boundaryPad])\n",
    "    \n",
    "    ax2.set_xticks([lonMin-boundaryPad,lonMax+boundaryPad])\n",
    "    ax2.set_yticks([latMin-boundaryPad,latMax+boundaryPad])\n",
    "    \n",
    "    ax1.set_xlabel('Longitude')\n",
    "    ax1.set_ylabel('Lattitude')\n",
    "    titleStr = 'Vessel Position %d'%((i))\n",
    "    ax1.set_title(titleStr)\n",
    "    \n",
    "    ax2.set_xlabel('Longitude')\n",
    "    ax2.set_ylabel('Lattitude')\n",
    "    ax2.set_title('Transition Probability Projection')\n",
    "    \n",
    "    ax3.clear()\n",
    "    ax3.get_xaxis().set_visible(False)\n",
    "    ax3.get_yaxis().set_visible(False)\n",
    "    textToDisp = \"%03d MINUTES...\"%(minuteCounter)\n",
    "    minuteCounter = minuteCounter + 5\n",
    "    ax3.text(0.30, 0.1, textToDisp, fontsize=36)\n",
    "    ax3.axis('off')\n",
    "    \n",
    "anim = animation.FuncAnimation(fig, animate,frames=65, interval=500)"
   ]
  },
  {
   "cell_type": "code",
   "execution_count": null,
   "metadata": {},
   "outputs": [],
   "source": [
    "fig = plt.figure(figsize=(10,8))\n",
    "\n",
    "ax1 = fig.add_axes([0.1, 0.1, 0.88, 0.58])\n",
    "ax3 = fig.add_axes([0.1, 0.72, 0.94, 0.10])\n",
    "\n",
    "# minuteCounter = 0\n",
    "def animate(i):\n",
    "#     global minuteCounter \n",
    "    trueImage = trueProbDir + str(i) + '.png'\n",
    "    \n",
    "    vesselCurrImg = plt.imread(trueImage)\n",
    "    ax1.imshow(vesselCurrImg[250:480,350:720],extent=[lonMin-boundaryPad \\\n",
    "                                                          ,lonMax+boundaryPad \\\n",
    "                                                          ,latMin-boundaryPad \\\n",
    "                                                          ,latMax+boundaryPad \\\n",
    "                                                         ])\n",
    "\n",
    "    \n",
    "\n",
    "    ax1.set_xticks([lonMin-boundaryPad,lonMax+boundaryPad])\n",
    "    ax1.set_yticks([latMin-boundaryPad,latMax+boundaryPad])\n",
    "        \n",
    "    ax1.set_xlabel('Longitude')\n",
    "    ax1.set_ylabel('Lattitude')\n",
    "    titleStr = 'Vessel Position Prediction'\n",
    "    ax1.set_title(titleStr)\n",
    "    \n",
    "    ax3.clear()\n",
    "    ax3.get_xaxis().set_visible(False)\n",
    "    ax3.get_yaxis().set_visible(False)\n",
    "    minuteCounter = (i*5) + 30\n",
    "    textToDisp = \"%03d MINUTES\"%(minuteCounter)\n",
    "    ax3.text(0.30, 0.1, textToDisp, fontsize=36)\n",
    "    ax3.axis('off')\n",
    "    \n",
    "anim = animation.FuncAnimation(fig, animate,frames=58, interval=500)"
   ]
  },
  {
   "cell_type": "code",
   "execution_count": null,
   "metadata": {},
   "outputs": [],
   "source": [
    "HTML(anim.to_html5_video())"
   ]
  },
  {
   "cell_type": "code",
   "execution_count": null,
   "metadata": {},
   "outputs": [],
   "source": [
    "Writer = animation.writers['ffmpeg']\n",
    "writer = Writer(fps=2, metadata=dict(artist='Me'), bitrate=1800)"
   ]
  },
  {
   "cell_type": "code",
   "execution_count": null,
   "metadata": {},
   "outputs": [],
   "source": [
    "anim.save('SixVesselVisualColor30WD.mp4', writer=writer)"
   ]
  }
 ],
 "metadata": {
  "kernelspec": {
   "display_name": "Python 3",
   "language": "python",
   "name": "python3"
  },
  "language_info": {
   "codemirror_mode": {
    "name": "ipython",
    "version": 3
   },
   "file_extension": ".py",
   "mimetype": "text/x-python",
   "name": "python",
   "nbconvert_exporter": "python",
   "pygments_lexer": "ipython3",
   "version": "3.7.3"
  }
 },
 "nbformat": 4,
 "nbformat_minor": 2
}
