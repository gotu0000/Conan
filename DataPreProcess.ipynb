{
 "cells": [
  {
   "cell_type": "code",
   "execution_count": 1,
   "metadata": {},
   "outputs": [],
   "source": [
    "import pandas as pd\n",
    "import numpy as np \n",
    "from AISDataManager import AISDataManager\n",
    "#config parser\n",
    "import configparser\n",
    "\n",
    "#MyConfig.INI stores all the run time constants\n",
    "config = configparser.ConfigParser()\n",
    "config.read('MyConfig.INI')\n",
    "\n",
    "#make object of AIS data manager\n",
    "aISDM = AISDataManager()"
   ]
  },
  {
   "cell_type": "code",
   "execution_count": 2,
   "metadata": {},
   "outputs": [],
   "source": [
    "#this is the regeion of interest\n",
    "lonMin = (float)(config['REGEION']['LON_MIN'])\n",
    "lonMax = (float)(config['REGEION']['LON_MAX'])\n",
    "\n",
    "latMin = (float)(config['REGEION']['LAT_MIN'])\n",
    "latMax = (float)(config['REGEION']['LAT_MAX'])"
   ]
  },
  {
   "cell_type": "code",
   "execution_count": 3,
   "metadata": {},
   "outputs": [
    {
     "name": "stdout",
     "output_type": "stream",
     "text": [
      "-119.5 , 32.0\n",
      "-117.1 , 34.2\n"
     ]
    }
   ],
   "source": [
    "print(lonMin,\",\",latMin)\n",
    "print(lonMax,\",\",latMax)"
   ]
  },
  {
   "cell_type": "code",
   "execution_count": 4,
   "metadata": {},
   "outputs": [],
   "source": [
    "fileNameList = [(\"./Data/AIS_2017_LA/AIS_2017_Zone_11/AIS_2017_01_Zone11.csv\",\\\n",
    "                \"./Data/AIS_2017_LA/LAPort/AIS_2017_01_LAP.csv\")\\\n",
    "                ,(\"./Data/AIS_2017_LA/AIS_2017_Zone_11/AIS_2017_02_Zone11.csv\",\\\n",
    "                \"./Data/AIS_2017_LA/LAPort/AIS_2017_02_LAP.csv\")\\\n",
    "                ,(\"./Data/AIS_2017_LA/AIS_2017_Zone_11/AIS_2017_03_Zone11.csv\",\\\n",
    "                \"./Data/AIS_2017_LA/LAPort/AIS_2017_03_LAP.csv\")\\\n",
    "                ,(\"./Data/AIS_2017_LA/AIS_2017_Zone_11/AIS_2017_04_Zone11.csv\",\\\n",
    "                \"./Data/AIS_2017_LA/LAPort/AIS_2017_04_LAP.csv\")\\\n",
    "                ,(\"./Data/AIS_2017_LA/AIS_2017_Zone_11/AIS_2017_05_Zone11.csv\",\\\n",
    "                \"./Data/AIS_2017_LA/LAPort/AIS_2017_05_LAP.csv\")\\\n",
    "                ,(\"./Data/AIS_2017_LA/AIS_2017_Zone_11/AIS_2017_06_Zone11.csv\",\\\n",
    "                \"./Data/AIS_2017_LA/LAPort/AIS_2017_06_LAP.csv\")\\\n",
    "                ,(\"./Data/AIS_2017_LA/AIS_2017_Zone_11/AIS_2017_07_Zone11.csv\",\\\n",
    "                \"./Data/AIS_2017_LA/LAPort/AIS_2017_07_LAP.csv\")\\\n",
    "                ,(\"./Data/AIS_2017_LA/AIS_2017_Zone_11/AIS_2017_08_Zone11.csv\",\\\n",
    "                \"./Data/AIS_2017_LA/LAPort/AIS_2017_08_LAP.csv\")\\\n",
    "                ,(\"./Data/AIS_2017_LA/AIS_2017_Zone_11/AIS_2017_09_Zone11.csv\",\\\n",
    "                \"./Data/AIS_2017_LA/LAPort/AIS_2017_09_LAP.csv\")\\\n",
    "                ,(\"./Data/AIS_2017_LA/AIS_2017_Zone_11/AIS_2017_10_Zone11.csv\",\\\n",
    "                \"./Data/AIS_2017_LA/LAPort/AIS_2017_10_LAP.csv\")\\\n",
    "                ,(\"./Data/AIS_2017_LA/AIS_2017_Zone_11/AIS_2017_11_Zone11.csv\",\\\n",
    "                \"./Data/AIS_2017_LA/LAPort/AIS_2017_11_LAP.csv\")\\\n",
    "                ,(\"./Data/AIS_2017_LA/AIS_2017_Zone_11/AIS_2017_12_Zone11.csv\",\\\n",
    "                \"./Data/AIS_2017_LA/LAPort/AIS_2017_12_LAP.csv\")\\\n",
    "               ]"
   ]
  },
  {
   "cell_type": "code",
   "execution_count": 5,
   "metadata": {},
   "outputs": [
    {
     "name": "stdout",
     "output_type": "stream",
     "text": [
      "('./Data/AIS_2017_LA/AIS_2017_Zone_11/AIS_2017_01_Zone11.csv', './Data/AIS_2017_LA/LAPort/AIS_2017_01_LAP.csv')\n",
      "('./Data/AIS_2017_LA/AIS_2017_Zone_11/AIS_2017_02_Zone11.csv', './Data/AIS_2017_LA/LAPort/AIS_2017_02_LAP.csv')\n",
      "('./Data/AIS_2017_LA/AIS_2017_Zone_11/AIS_2017_03_Zone11.csv', './Data/AIS_2017_LA/LAPort/AIS_2017_03_LAP.csv')\n",
      "('./Data/AIS_2017_LA/AIS_2017_Zone_11/AIS_2017_04_Zone11.csv', './Data/AIS_2017_LA/LAPort/AIS_2017_04_LAP.csv')\n",
      "('./Data/AIS_2017_LA/AIS_2017_Zone_11/AIS_2017_05_Zone11.csv', './Data/AIS_2017_LA/LAPort/AIS_2017_05_LAP.csv')\n",
      "('./Data/AIS_2017_LA/AIS_2017_Zone_11/AIS_2017_06_Zone11.csv', './Data/AIS_2017_LA/LAPort/AIS_2017_06_LAP.csv')\n",
      "('./Data/AIS_2017_LA/AIS_2017_Zone_11/AIS_2017_07_Zone11.csv', './Data/AIS_2017_LA/LAPort/AIS_2017_07_LAP.csv')\n",
      "('./Data/AIS_2017_LA/AIS_2017_Zone_11/AIS_2017_08_Zone11.csv', './Data/AIS_2017_LA/LAPort/AIS_2017_08_LAP.csv')\n",
      "('./Data/AIS_2017_LA/AIS_2017_Zone_11/AIS_2017_09_Zone11.csv', './Data/AIS_2017_LA/LAPort/AIS_2017_09_LAP.csv')\n",
      "('./Data/AIS_2017_LA/AIS_2017_Zone_11/AIS_2017_10_Zone11.csv', './Data/AIS_2017_LA/LAPort/AIS_2017_10_LAP.csv')\n",
      "('./Data/AIS_2017_LA/AIS_2017_Zone_11/AIS_2017_11_Zone11.csv', './Data/AIS_2017_LA/LAPort/AIS_2017_11_LAP.csv')\n",
      "('./Data/AIS_2017_LA/AIS_2017_Zone_11/AIS_2017_12_Zone11.csv', './Data/AIS_2017_LA/LAPort/AIS_2017_12_LAP.csv')\n"
     ]
    }
   ],
   "source": [
    "#iterate through files list\n",
    "for i in fileNameList:\n",
    "    print(i)\n",
    "    aISDM.save_data_for_targeted_area(i[0],lonMin,lonMax,latMin,latMax,i[1])\n",
    "    "
   ]
  }
 ],
 "metadata": {
  "kernelspec": {
   "display_name": "Python 3",
   "language": "python",
   "name": "python3"
  },
  "language_info": {
   "codemirror_mode": {
    "name": "ipython",
    "version": 3
   },
   "file_extension": ".py",
   "mimetype": "text/x-python",
   "name": "python",
   "nbconvert_exporter": "python",
   "pygments_lexer": "ipython3",
   "version": "3.7.3"
  }
 },
 "nbformat": 4,
 "nbformat_minor": 2
}
