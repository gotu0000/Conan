{
 "cells": [
  {
   "cell_type": "code",
   "execution_count": 1,
   "metadata": {},
   "outputs": [
    {
     "name": "stdout",
     "output_type": "stream",
     "text": [
      "-119.5 , 32.0\n",
      "-117.1 , 34.2\n"
     ]
    }
   ],
   "source": [
    "import pandas as pd\n",
    "import numpy as np \n",
    "from AISDataManager import AISDataManager\n",
    "#config parser\n",
    "import configparser\n",
    "import Constants as c\n",
    "\n",
    "#MyConfig.INI stores all the run time constants\n",
    "config = configparser.ConfigParser()\n",
    "config.read('MyConfig.INI')\n",
    "\n",
    "#make object of AIS data manager\n",
    "aISDM = AISDataManager()\n",
    "\n",
    "#this is the regeion of interest\n",
    "lonMin = (float)(config['REGEION']['LON_MIN'])\n",
    "lonMax = (float)(config['REGEION']['LON_MAX'])\n",
    "\n",
    "latMin = (float)(config['REGEION']['LAT_MIN'])\n",
    "latMax = (float)(config['REGEION']['LAT_MAX'])\n",
    "\n",
    "print(lonMin,\",\",latMin)\n",
    "print(lonMax,\",\",latMax)"
   ]
  },
  {
   "cell_type": "code",
   "execution_count": 2,
   "metadata": {},
   "outputs": [],
   "source": [
    "fileNameList = [(\"./Data/AIS_2017_LA/AIS_2017_Zone_11/AIS_2017_01_Zone11.csv\",\\\n",
    "                \"./Data/AIS_2017_LA/LAPort/AIS_2017_01_LAP.csv\")\\\n",
    "                ,(\"./Data/AIS_2017_LA/AIS_2017_Zone_11/AIS_2017_02_Zone11.csv\",\\\n",
    "                \"./Data/AIS_2017_LA/LAPort/AIS_2017_02_LAP.csv\")\\\n",
    "                ,(\"./Data/AIS_2017_LA/AIS_2017_Zone_11/AIS_2017_03_Zone11.csv\",\\\n",
    "                \"./Data/AIS_2017_LA/LAPort/AIS_2017_03_LAP.csv\")\\\n",
    "                ,(\"./Data/AIS_2017_LA/AIS_2017_Zone_11/AIS_2017_04_Zone11.csv\",\\\n",
    "                \"./Data/AIS_2017_LA/LAPort/AIS_2017_04_LAP.csv\")\\\n",
    "                ,(\"./Data/AIS_2017_LA/AIS_2017_Zone_11/AIS_2017_05_Zone11.csv\",\\\n",
    "                \"./Data/AIS_2017_LA/LAPort/AIS_2017_05_LAP.csv\")\\\n",
    "                ,(\"./Data/AIS_2017_LA/AIS_2017_Zone_11/AIS_2017_06_Zone11.csv\",\\\n",
    "                \"./Data/AIS_2017_LA/LAPort/AIS_2017_06_LAP.csv\")\\\n",
    "                ,(\"./Data/AIS_2017_LA/AIS_2017_Zone_11/AIS_2017_07_Zone11.csv\",\\\n",
    "                \"./Data/AIS_2017_LA/LAPort/AIS_2017_07_LAP.csv\")\\\n",
    "                ,(\"./Data/AIS_2017_LA/AIS_2017_Zone_11/AIS_2017_08_Zone11.csv\",\\\n",
    "                \"./Data/AIS_2017_LA/LAPort/AIS_2017_08_LAP.csv\")\\\n",
    "                ,(\"./Data/AIS_2017_LA/AIS_2017_Zone_11/AIS_2017_09_Zone11.csv\",\\\n",
    "                \"./Data/AIS_2017_LA/LAPort/AIS_2017_09_LAP.csv\")\\\n",
    "                ,(\"./Data/AIS_2017_LA/AIS_2017_Zone_11/AIS_2017_10_Zone11.csv\",\\\n",
    "                \"./Data/AIS_2017_LA/LAPort/AIS_2017_10_LAP.csv\")\\\n",
    "                ,(\"./Data/AIS_2017_LA/AIS_2017_Zone_11/AIS_2017_11_Zone11.csv\",\\\n",
    "                \"./Data/AIS_2017_LA/LAPort/AIS_2017_11_LAP.csv\")\\\n",
    "                ,(\"./Data/AIS_2017_LA/AIS_2017_Zone_11/AIS_2017_12_Zone11.csv\",\\\n",
    "                \"./Data/AIS_2017_LA/LAPort/AIS_2017_12_LAP.csv\")\\\n",
    "               ]"
   ]
  },
  {
   "cell_type": "markdown",
   "metadata": {},
   "source": [
    "#Below cell coverts the data limited to LA Port"
   ]
  },
  {
   "cell_type": "code",
   "execution_count": null,
   "metadata": {},
   "outputs": [],
   "source": [
    "#iterate through files list\n",
    "for i in fileNameList:\n",
    "    print(i)\n",
    "    aISDM.save_data_for_targeted_area(i[0],lonMin,lonMax,latMin,latMax,i[1])"
   ]
  },
  {
   "cell_type": "code",
   "execution_count": null,
   "metadata": {},
   "outputs": [],
   "source": [
    "#generate list of unique entries for entire regeion\n",
    "vesselListSets = []\n",
    "for i in fileNameList:\n",
    "    lAPData,retVal = aISDM.load_data_from_csv(i[1])\n",
    "    if(retVal == c.errNO['SUCCESS']):\n",
    "        vesselListSets.append(aISDM.get_list_of_unique_mmsi(lAPData))\n",
    "    else:\n",
    "        print(\"Unable to load\")\n",
    "        break;\n",
    "\n",
    "#make empty set\n",
    "unionOfVesselList = set()\n",
    "#get unioun of all the sets\n",
    "for i in vesselListSets:\n",
    "    unionOfVesselList = unionOfVesselList.union(set(i))\n",
    "\n",
    "#convert set to list\n",
    "unionOfVesselList = list(unionOfVesselList)\n",
    "\n",
    "#sort them\n",
    "sortedMMSI = unionOfVesselList.copy()\n",
    "sortedMMSI.sort()\n",
    "\n",
    "#save to file \n",
    "with open('MMSIList.txt', 'w') as f:\n",
    "    for item in sortedMMSI:\n",
    "        f.write(\"%s\\n\" % item)"
   ]
  },
  {
   "cell_type": "code",
   "execution_count": null,
   "metadata": {},
   "outputs": [],
   "source": [
    "for i in fileNameList:\n",
    "    lAPData,retVal = aISDM.load_data_from_csv(i[1])\n",
    "    if(retVal == c.errNO['SUCCESS']):\n",
    "        tempDF = aISDM.format_time(lAPData,'DateTime')\n",
    "        tempDF = tempDF.sort_values(by='DateTime')\n",
    "        fileName = i[1].replace('.csv','_Sorted.csv')\n",
    "        print(fileName)\n",
    "        aISDM.save_data_to_csv(tempDF,fileName)"
   ]
  },
  {
   "cell_type": "code",
   "execution_count": null,
   "metadata": {},
   "outputs": [],
   "source": [
    "for i in fileNameList:\n",
    "    lAPData,retVal = aISDM.load_data_from_csv(i[1])\n",
    "    if(retVal == c.errNO['SUCCESS']):\n",
    "        tempDF = aISDM.drop_columns(lAPData)\n",
    "        fileName = i[1].replace('.csv','_Dropped.csv')\n",
    "        print(fileName)\n",
    "        aISDM.save_data_to_csv(tempDF,fileName)"
   ]
  },
  {
   "cell_type": "code",
   "execution_count": 3,
   "metadata": {},
   "outputs": [],
   "source": [
    "fileNameList = [\"./Data/AIS_2017_LA/LAPort/AIS_2017_01_LAP.csv\"\\\n",
    "                ,\"./Data/AIS_2017_LA/LAPort/AIS_2017_02_LAP.csv\"\\\n",
    "                ,\"./Data/AIS_2017_LA/LAPort/AIS_2017_03_LAP.csv\"\\\n",
    "                ,\"./Data/AIS_2017_LA/LAPort/AIS_2017_04_LAP.csv\"\\\n",
    "                ,\"./Data/AIS_2017_LA/LAPort/AIS_2017_05_LAP.csv\"\\\n",
    "                ,\"./Data/AIS_2017_LA/LAPort/AIS_2017_06_LAP.csv\"\\\n",
    "                ,\"./Data/AIS_2017_LA/LAPort/AIS_2017_07_LAP.csv\"\\\n",
    "                ,\"./Data/AIS_2017_LA/LAPort/AIS_2017_08_LAP.csv\"\\\n",
    "                ,\"./Data/AIS_2017_LA/LAPort/AIS_2017_09_LAP.csv\"\\\n",
    "                ,\"./Data/AIS_2017_LA/LAPort/AIS_2017_10_LAP.csv\"\\\n",
    "                ,\"./Data/AIS_2017_LA/LAPort/AIS_2017_11_LAP.csv\"\\\n",
    "                ,\"./Data/AIS_2017_LA/LAPort/AIS_2017_12_LAP.csv\"\\\n",
    "               ]"
   ]
  },
  {
   "cell_type": "code",
   "execution_count": 4,
   "metadata": {},
   "outputs": [
    {
     "name": "stdout",
     "output_type": "stream",
     "text": [
      "./Data/AIS_2017_LA/MMSI/303849000.csv\n"
     ]
    }
   ],
   "source": [
    "mMSIList = [303849000]\n",
    "mMSIString = \"./Data/AIS_2017_LA/MMSI/\"\n",
    "for i in mMSIList:\n",
    "    retDF, retVal = aISDM.get_data_for_one_vessel(fileNameList,i)\n",
    "    fileStoreString = mMSIString+str(i)+\".csv\"\n",
    "    print(fileStoreString)\n",
    "    if(retVal == c.errNO['SUCCESS']):\n",
    "        aISDM.save_data_to_csv(retDF,fileStoreString)\n",
    "    else:\n",
    "        print(\"Error generating data for single vessel\")"
   ]
  },
  {
   "cell_type": "code",
   "execution_count": 6,
   "metadata": {},
   "outputs": [],
   "source": [
    "#sort the data\n",
    "#this list can be generated from text file or something\n",
    "mMSIList = [303849000]\n",
    "mMSIString = \"./Data/AIS_2017_LA/MMSI/\"\n",
    "for i in mMSIList:\n",
    "    fileNameToRead = mMSIString+str(i)+\".csv\"\n",
    "    vesselDF, retVal = aISDM.load_data_from_csv(fileNameToRead)\n",
    "    if(retVal == c.errNO['SUCCESS']):\n",
    "        vesselDFT = aISDM.format_time(vesselDF,'DateTime')\n",
    "        vesselDFT = vesselDFT.sort_values(by='DateTime')\n",
    "        fileStoreString = fileNameToRead.replace('.csv','_Sorted.csv')\n",
    "        aISDM.save_data_to_csv(vesselDFT,fileStoreString)\n",
    "    else:\n",
    "        print(\"Error Sorting data for single vessel\")"
   ]
  }
 ],
 "metadata": {
  "kernelspec": {
   "display_name": "Python 3",
   "language": "python",
   "name": "python3"
  },
  "language_info": {
   "codemirror_mode": {
    "name": "ipython",
    "version": 3
   },
   "file_extension": ".py",
   "mimetype": "text/x-python",
   "name": "python",
   "nbconvert_exporter": "python",
   "pygments_lexer": "ipython3",
   "version": "3.7.3"
  }
 },
 "nbformat": 4,
 "nbformat_minor": 2
}
